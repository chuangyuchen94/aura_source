{
 "cells": [
  {
   "cell_type": "code",
   "execution_count": 4,
   "id": "f0024326-a003-444f-90c9-ec5c128c0fae",
   "metadata": {},
   "outputs": [
    {
     "name": "stdout",
     "output_type": "stream",
     "text": [
      "0 500 500\n",
      "200 375 425\n",
      "375 200 425\n",
      "500 0 500\n"
     ]
    }
   ],
   "source": [
    "import time\n",
    "start = time.time()\n",
    "for a in range(0, 1001):\n",
    "    for b in range(0, 1001):\n",
    "        for c in range(0, 1001):\n",
    "            if a + b + c == 1000 and a ** 2 + b ** 2 == c **2:\n",
    "                print(a, b, c)\n",
    "stop = time.time()"
   ]
  },
  {
   "cell_type": "code",
   "execution_count": 5,
   "id": "0d1ca1fb-7c56-4619-9e8f-1215658159b2",
   "metadata": {},
   "outputs": [
    {
     "name": "stdout",
     "output_type": "stream",
     "text": [
      "48.33194923400879\n"
     ]
    }
   ],
   "source": [
    "print(stop - start)"
   ]
  }
 ],
 "metadata": {
  "kernelspec": {
   "display_name": "Python 3 (ipykernel)",
   "language": "python",
   "name": "python3"
  },
  "language_info": {
   "codemirror_mode": {
    "name": "ipython",
    "version": 3
   },
   "file_extension": ".py",
   "mimetype": "text/x-python",
   "name": "python",
   "nbconvert_exporter": "python",
   "pygments_lexer": "ipython3",
   "version": "3.12.7"
  }
 },
 "nbformat": 4,
 "nbformat_minor": 5
}
