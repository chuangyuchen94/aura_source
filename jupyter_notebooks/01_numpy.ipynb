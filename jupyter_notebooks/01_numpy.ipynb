{
 "cells": [
  {
   "cell_type": "code",
   "execution_count": 1,
   "id": "83c56077-5f69-411f-af5d-b17e97277d52",
   "metadata": {},
   "outputs": [],
   "source": [
    "import numpy as np"
   ]
  },
  {
   "cell_type": "code",
   "execution_count": 2,
   "id": "a0ac526a-15a8-4ade-b0ac-3982f1aa11dd",
   "metadata": {},
   "outputs": [],
   "source": [
    "a = np.array([1, 2])"
   ]
  },
  {
   "cell_type": "code",
   "execution_count": 3,
   "id": "2d87a5e9-8feb-408c-9f1d-7ccec6eee4d2",
   "metadata": {},
   "outputs": [
    {
     "data": {
      "text/plain": [
       "array([1, 2])"
      ]
     },
     "execution_count": 3,
     "metadata": {},
     "output_type": "execute_result"
    }
   ],
   "source": [
    "a"
   ]
  },
  {
   "cell_type": "code",
   "execution_count": 4,
   "id": "8804ffc8-fc15-4409-a7dd-dcca6a3c1490",
   "metadata": {},
   "outputs": [
    {
     "data": {
      "text/plain": [
       "2.23606797749979"
      ]
     },
     "execution_count": 4,
     "metadata": {},
     "output_type": "execute_result"
    }
   ],
   "source": [
    "np.linalg.norm(a)"
   ]
  },
  {
   "cell_type": "code",
   "execution_count": 11,
   "id": "f7d32533-1f11-4b6a-9fc1-d55532704e8e",
   "metadata": {},
   "outputs": [],
   "source": [
    "import torch"
   ]
  },
  {
   "cell_type": "code",
   "execution_count": 12,
   "id": "c4d437d7-842c-49e7-aca9-2da40679207d",
   "metadata": {},
   "outputs": [
    {
     "data": {
      "text/plain": [
       "1"
      ]
     },
     "execution_count": 12,
     "metadata": {},
     "output_type": "execute_result"
    }
   ],
   "source": [
    "a.ndim"
   ]
  },
  {
   "cell_type": "code",
   "execution_count": 13,
   "id": "4c430d91-24a8-4f5f-8353-1f0d868131e7",
   "metadata": {},
   "outputs": [
    {
     "data": {
      "text/plain": [
       "array([1, 2, 3, 4, 5, 6, 7, 8, 9])"
      ]
     },
     "execution_count": 13,
     "metadata": {},
     "output_type": "execute_result"
    }
   ],
   "source": [
    "np.arange(1, 10)"
   ]
  },
  {
   "cell_type": "code",
   "execution_count": 14,
   "id": "52cc138f-314c-4544-b160-006b060cad7f",
   "metadata": {},
   "outputs": [
    {
     "data": {
      "text/plain": [
       "array([  1.        ,   4.4137931 ,   7.82758621,  11.24137931,\n",
       "        14.65517241,  18.06896552,  21.48275862,  24.89655172,\n",
       "        28.31034483,  31.72413793,  35.13793103,  38.55172414,\n",
       "        41.96551724,  45.37931034,  48.79310345,  52.20689655,\n",
       "        55.62068966,  59.03448276,  62.44827586,  65.86206897,\n",
       "        69.27586207,  72.68965517,  76.10344828,  79.51724138,\n",
       "        82.93103448,  86.34482759,  89.75862069,  93.17241379,\n",
       "        96.5862069 , 100.        ])"
      ]
     },
     "execution_count": 14,
     "metadata": {},
     "output_type": "execute_result"
    }
   ],
   "source": [
    "np.linspace(1, 100, 30)"
   ]
  },
  {
   "cell_type": "code",
   "execution_count": 18,
   "id": "7c5001d8-b69b-4b95-af2c-3b698ae3defc",
   "metadata": {},
   "outputs": [],
   "source": [
    "b = np.random.randint(low=0, high=101, size=(3, 5, 10, 14))"
   ]
  },
  {
   "cell_type": "code",
   "execution_count": 19,
   "id": "76e4bc2f-9a0b-49b2-9d54-ed6b60fcd128",
   "metadata": {},
   "outputs": [
    {
     "data": {
      "text/plain": [
       "(3, 5, 10, 14)"
      ]
     },
     "execution_count": 19,
     "metadata": {},
     "output_type": "execute_result"
    }
   ],
   "source": [
    "b.shape"
   ]
  },
  {
   "cell_type": "code",
   "execution_count": 20,
   "id": "0ddae513-ce44-47ba-9dcd-484fcc04eda1",
   "metadata": {},
   "outputs": [
    {
     "data": {
      "text/plain": [
       "105564"
      ]
     },
     "execution_count": 20,
     "metadata": {},
     "output_type": "execute_result"
    }
   ],
   "source": [
    "b.sum()"
   ]
  },
  {
   "cell_type": "code",
   "execution_count": 21,
   "id": "32655ee7-3fd2-4ba5-b226-4a7ce797b715",
   "metadata": {},
   "outputs": [],
   "source": [
    "c = np.random.randn(5, 2, 7)"
   ]
  },
  {
   "cell_type": "code",
   "execution_count": 22,
   "id": "bd61ad97-8b2c-4ef6-8ead-1137c0b9bea4",
   "metadata": {},
   "outputs": [
    {
     "data": {
      "text/plain": [
       "array([[[ 0.43636547, -1.60934075, -0.96924821, -0.26376328,\n",
       "          0.19472653,  0.85504892, -2.1349217 ],\n",
       "        [-0.51405886, -0.50026647, -0.12262804, -1.27477415,\n",
       "          0.43283706,  0.9950067 , -0.12311653]],\n",
       "\n",
       "       [[ 0.71765436,  0.92858262, -0.69688274,  0.11651103,\n",
       "          1.13057288,  2.2403278 ,  1.39544504],\n",
       "        [ 1.10903105, -0.22300495, -1.82780505,  0.538759  ,\n",
       "          0.11195533, -0.79044269, -0.86418939]],\n",
       "\n",
       "       [[ 0.99475629, -0.48440634,  1.17070041, -1.28598851,\n",
       "         -0.57516044, -0.27992776,  0.92415818],\n",
       "        [-0.04693264, -0.33386843, -0.45383683, -0.96337836,\n",
       "          1.09948025,  0.11395261,  1.60160674]],\n",
       "\n",
       "       [[ 0.34150551, -2.0931874 , -2.45661384,  2.14171828,\n",
       "          0.2562172 , -0.38235304,  0.39124606],\n",
       "        [ 0.87615986,  0.19575981,  0.34621349,  0.50534196,\n",
       "         -0.12313307, -1.41296715,  0.76659046]],\n",
       "\n",
       "       [[ 0.48506115,  0.54091789,  0.69883128,  0.87989475,\n",
       "          0.35313421,  1.57504819,  0.5095386 ],\n",
       "        [ 0.08695052,  0.49854382,  0.3521053 , -1.23194072,\n",
       "         -0.08744868,  1.7498902 ,  0.15838911]]])"
      ]
     },
     "execution_count": 22,
     "metadata": {},
     "output_type": "execute_result"
    }
   ],
   "source": [
    "c"
   ]
  },
  {
   "cell_type": "code",
   "execution_count": 23,
   "id": "9eb65db9-8f8f-429c-9bb1-fad751cebf88",
   "metadata": {},
   "outputs": [],
   "source": [
    "d = np.random.randint(low=0, high=101, size=(2, 3))"
   ]
  },
  {
   "cell_type": "code",
   "execution_count": 24,
   "id": "325ad880-98fe-4f52-9186-7f4a40be3627",
   "metadata": {},
   "outputs": [
    {
     "data": {
      "text/plain": [
       "array([[89, 24,  8],\n",
       "       [32, 40, 54]])"
      ]
     },
     "execution_count": 24,
     "metadata": {},
     "output_type": "execute_result"
    }
   ],
   "source": [
    "d"
   ]
  },
  {
   "cell_type": "code",
   "execution_count": 25,
   "id": "2d435281-777f-4dac-8222-8ea36e0b1835",
   "metadata": {},
   "outputs": [
    {
     "data": {
      "text/plain": [
       "247"
      ]
     },
     "execution_count": 25,
     "metadata": {},
     "output_type": "execute_result"
    }
   ],
   "source": [
    "d.sum()"
   ]
  },
  {
   "cell_type": "code",
   "execution_count": 27,
   "id": "96b26a15-f99f-487b-ab0b-5a9654da9ffb",
   "metadata": {},
   "outputs": [
    {
     "data": {
      "text/plain": [
       "array([121, 126])"
      ]
     },
     "execution_count": 27,
     "metadata": {},
     "output_type": "execute_result"
    }
   ],
   "source": [
    "d.sum(axis=1)"
   ]
  },
  {
   "cell_type": "code",
   "execution_count": 28,
   "id": "19e816c6-495f-4c14-8688-214172dc41c3",
   "metadata": {},
   "outputs": [
    {
     "data": {
      "text/plain": [
       "41.166666666666664"
      ]
     },
     "execution_count": 28,
     "metadata": {},
     "output_type": "execute_result"
    }
   ],
   "source": [
    "d.mean()"
   ]
  },
  {
   "cell_type": "code",
   "execution_count": 31,
   "id": "dc76b5d5-8c7d-4372-bee8-c2448cc33b82",
   "metadata": {},
   "outputs": [
    {
     "data": {
      "text/plain": [
       "array([40.33333333, 42.        ])"
      ]
     },
     "execution_count": 31,
     "metadata": {},
     "output_type": "execute_result"
    }
   ],
   "source": [
    "d.mean(axis=0)\n",
    "d.mean(axis=1)"
   ]
  },
  {
   "cell_type": "code",
   "execution_count": 32,
   "id": "90569a50-95b0-429b-8b02-db121501c9d8",
   "metadata": {},
   "outputs": [],
   "source": [
    "imgs = np.random.randn(12, 3, 512, 256)"
   ]
  },
  {
   "cell_type": "code",
   "execution_count": 33,
   "id": "710d0f60-f5f9-4e06-9462-75b9ac2342af",
   "metadata": {},
   "outputs": [
    {
     "data": {
      "text/plain": [
       "(12, 3, 512, 256)"
      ]
     },
     "execution_count": 33,
     "metadata": {},
     "output_type": "execute_result"
    }
   ],
   "source": [
    "imgs.shape"
   ]
  },
  {
   "cell_type": "code",
   "execution_count": 34,
   "id": "9936cbaf-e314-403a-8416-670dfe2ac44b",
   "metadata": {},
   "outputs": [
    {
     "data": {
      "text/plain": [
       "0.00018709599530598357"
      ]
     },
     "execution_count": 34,
     "metadata": {},
     "output_type": "execute_result"
    }
   ],
   "source": [
    "imgs.mean()"
   ]
  },
  {
   "cell_type": "code",
   "execution_count": 36,
   "id": "53cdd9dd-d90a-4581-a4f3-1f374af0da72",
   "metadata": {},
   "outputs": [],
   "source": [
    "half_imgs = imgs[:,:,:256,:]"
   ]
  },
  {
   "cell_type": "code",
   "execution_count": 37,
   "id": "8415cff3-2987-46a8-bacc-6ef79dff8bbb",
   "metadata": {},
   "outputs": [
    {
     "data": {
      "text/plain": [
       "(12, 3, 256, 256)"
      ]
     },
     "execution_count": 37,
     "metadata": {},
     "output_type": "execute_result"
    }
   ],
   "source": [
    "half_imgs.shape"
   ]
  }
 ],
 "metadata": {
  "kernelspec": {
   "display_name": "Python 3 (ipykernel)",
   "language": "python",
   "name": "python3"
  },
  "language_info": {
   "codemirror_mode": {
    "name": "ipython",
    "version": 3
   },
   "file_extension": ".py",
   "mimetype": "text/x-python",
   "name": "python",
   "nbconvert_exporter": "python",
   "pygments_lexer": "ipython3",
   "version": "3.12.7"
  }
 },
 "nbformat": 4,
 "nbformat_minor": 5
}
