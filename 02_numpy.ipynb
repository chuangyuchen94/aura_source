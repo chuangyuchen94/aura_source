{
 "cells": [
  {
   "cell_type": "code",
   "execution_count": 1,
   "id": "b9969484-a69e-41c2-bf31-76fa797d1e94",
   "metadata": {},
   "outputs": [],
   "source": [
    "import numpy as np"
   ]
  },
  {
   "cell_type": "code",
   "execution_count": 2,
   "id": "32f31266-eb96-4223-864e-d8fa306fadc3",
   "metadata": {},
   "outputs": [],
   "source": [
    "a = np.array([1, 2])"
   ]
  },
  {
   "cell_type": "code",
   "execution_count": 3,
   "id": "33edd76e-8093-463d-b465-93ec56434cfd",
   "metadata": {},
   "outputs": [],
   "source": [
    "b = np.array([3, 4])"
   ]
  },
  {
   "cell_type": "code",
   "execution_count": 4,
   "id": "1a6b808c-260f-4b61-8762-0b555988a4fd",
   "metadata": {},
   "outputs": [],
   "source": [
    "a_dot_b = a * b"
   ]
  },
  {
   "cell_type": "code",
   "execution_count": 5,
   "id": "7d65bc10-07d8-45d2-a4c2-89dff1a33bec",
   "metadata": {},
   "outputs": [
    {
     "data": {
      "text/plain": [
       "array([3, 8])"
      ]
     },
     "execution_count": 5,
     "metadata": {},
     "output_type": "execute_result"
    }
   ],
   "source": [
    "a_dot_b"
   ]
  },
  {
   "cell_type": "code",
   "execution_count": 6,
   "id": "84bbe4b4-2a27-430f-a546-5a784276337e",
   "metadata": {},
   "outputs": [
    {
     "data": {
      "text/plain": [
       "11"
      ]
     },
     "execution_count": 6,
     "metadata": {},
     "output_type": "execute_result"
    }
   ],
   "source": [
    "a @ b"
   ]
  },
  {
   "cell_type": "code",
   "execution_count": 7,
   "id": "934883a9-a57a-4420-9403-5163cf73f939",
   "metadata": {},
   "outputs": [],
   "source": [
    "cosine_similarity =  a @ b / np.linalg.norm(a) / np.linalg.norm(b)"
   ]
  },
  {
   "cell_type": "code",
   "execution_count": 8,
   "id": "34f506a8-3922-47d4-b85c-0d99cb58bcce",
   "metadata": {},
   "outputs": [
    {
     "data": {
      "text/plain": [
       "0.9838699100999074"
      ]
     },
     "execution_count": 8,
     "metadata": {},
     "output_type": "execute_result"
    }
   ],
   "source": [
    "cosine_similarity"
   ]
  },
  {
   "cell_type": "code",
   "execution_count": 9,
   "id": "cc25f0af-a4e1-4915-8ea2-d8ece749d4ac",
   "metadata": {},
   "outputs": [],
   "source": [
    "a = np.random.randn(3, 2)"
   ]
  },
  {
   "cell_type": "code",
   "execution_count": 10,
   "id": "1ad090ae-9bfd-4500-a1a1-2058b36cf90e",
   "metadata": {},
   "outputs": [],
   "source": [
    "b = np.random.randn(2)"
   ]
  },
  {
   "cell_type": "code",
   "execution_count": 12,
   "id": "e364eefd-9d62-45c1-bf3c-29644469c38f",
   "metadata": {},
   "outputs": [
    {
     "name": "stdout",
     "output_type": "stream",
     "text": [
      "[[ 0.11248387 -0.45992023]\n",
      " [-3.02457319  0.17972543]\n",
      " [ 1.46348641  0.80359225]]\n",
      "[-0.60253388 -0.07398398]\n"
     ]
    }
   ],
   "source": [
    "print(a)\n",
    "print(b)"
   ]
  },
  {
   "cell_type": "code",
   "execution_count": 13,
   "id": "3a6cbc73-a5e3-4766-bdd3-e171df396d0b",
   "metadata": {},
   "outputs": [
    {
     "data": {
      "text/plain": [
       "array([[-0.06777534,  0.03402673],\n",
       "       [ 1.82240783, -0.0132968 ],\n",
       "       [-0.88180015, -0.05945295]])"
      ]
     },
     "execution_count": 13,
     "metadata": {},
     "output_type": "execute_result"
    }
   ],
   "source": [
    "a * b"
   ]
  },
  {
   "cell_type": "code",
   "execution_count": 17,
   "id": "3d73187a-318f-41f2-a705-e96ca056ada9",
   "metadata": {},
   "outputs": [],
   "source": [
    "b = np.random.randn(2, 2)"
   ]
  },
  {
   "cell_type": "code",
   "execution_count": 18,
   "id": "ab4530a3-e735-44d8-b519-abd1726829b2",
   "metadata": {},
   "outputs": [
    {
     "data": {
      "text/plain": [
       "array([[ 1.9294926 , -0.80379436],\n",
       "       [-1.41421465,  0.15754864]])"
      ]
     },
     "execution_count": 18,
     "metadata": {},
     "output_type": "execute_result"
    }
   ],
   "source": [
    "b"
   ]
  },
  {
   "cell_type": "code",
   "execution_count": 19,
   "id": "573c0b58-0509-4d93-9a49-6e71112b52c0",
   "metadata": {},
   "outputs": [
    {
     "ename": "ValueError",
     "evalue": "operands could not be broadcast together with shapes (3,2) (2,2) ",
     "output_type": "error",
     "traceback": [
      "\u001b[0;31m---------------------------------------------------------------------------\u001b[0m",
      "\u001b[0;31mValueError\u001b[0m                                Traceback (most recent call last)",
      "Cell \u001b[0;32mIn[19], line 1\u001b[0m\n\u001b[0;32m----> 1\u001b[0m a \u001b[38;5;241m*\u001b[39m b\n",
      "\u001b[0;31mValueError\u001b[0m: operands could not be broadcast together with shapes (3,2) (2,2) "
     ]
    }
   ],
   "source": [
    "a * b"
   ]
  },
  {
   "cell_type": "code",
   "execution_count": 20,
   "id": "e1297f2f-09e4-46a4-9fe5-f08232bcd240",
   "metadata": {},
   "outputs": [],
   "source": [
    "b = np.random.randn(1, 4)"
   ]
  },
  {
   "cell_type": "code",
   "execution_count": 21,
   "id": "77f459b3-f1e7-4473-b7df-de87109daa73",
   "metadata": {},
   "outputs": [
    {
     "data": {
      "text/plain": [
       "array([[ 0.19326452, -1.65721085,  1.69751341, -0.922119  ]])"
      ]
     },
     "execution_count": 21,
     "metadata": {},
     "output_type": "execute_result"
    }
   ],
   "source": [
    "b"
   ]
  },
  {
   "cell_type": "code",
   "execution_count": 22,
   "id": "4fa4e01e-5560-448f-95d4-d8dc6067f87a",
   "metadata": {},
   "outputs": [
    {
     "ename": "ValueError",
     "evalue": "operands could not be broadcast together with shapes (3,2) (1,4) ",
     "output_type": "error",
     "traceback": [
      "\u001b[0;31m---------------------------------------------------------------------------\u001b[0m",
      "\u001b[0;31mValueError\u001b[0m                                Traceback (most recent call last)",
      "Cell \u001b[0;32mIn[22], line 1\u001b[0m\n\u001b[0;32m----> 1\u001b[0m a \u001b[38;5;241m*\u001b[39m b\n",
      "\u001b[0;31mValueError\u001b[0m: operands could not be broadcast together with shapes (3,2) (1,4) "
     ]
    }
   ],
   "source": [
    "a * b"
   ]
  },
  {
   "cell_type": "code",
   "execution_count": 23,
   "id": "7f252fd1-8a53-47b9-abe0-1486b1b372bc",
   "metadata": {},
   "outputs": [],
   "source": [
    "b = np.random.randn(1, 2)"
   ]
  },
  {
   "cell_type": "code",
   "execution_count": 25,
   "id": "0e92222e-e42f-4b80-bb9a-3df9ce9c0935",
   "metadata": {},
   "outputs": [
    {
     "data": {
      "text/plain": [
       "array([[-0.9329974 , -1.02269226]])"
      ]
     },
     "execution_count": 25,
     "metadata": {},
     "output_type": "execute_result"
    }
   ],
   "source": [
    "b"
   ]
  },
  {
   "cell_type": "code",
   "execution_count": 24,
   "id": "beab846e-a000-4584-a9ed-1578218956b1",
   "metadata": {},
   "outputs": [
    {
     "data": {
      "text/plain": [
       "array([[-0.10494716,  0.47035686],\n",
       "       [ 2.82191891, -0.18380381],\n",
       "       [-1.36542901, -0.82182758]])"
      ]
     },
     "execution_count": 24,
     "metadata": {},
     "output_type": "execute_result"
    }
   ],
   "source": [
    "a * b"
   ]
  },
  {
   "cell_type": "code",
   "execution_count": 26,
   "id": "409d696b-7386-4f5b-81ab-07a114863e94",
   "metadata": {},
   "outputs": [],
   "source": [
    "a = np.random.randn(4, 2)"
   ]
  },
  {
   "cell_type": "code",
   "execution_count": 27,
   "id": "68bd664b-08b3-43d0-81f0-9370d2648b9c",
   "metadata": {},
   "outputs": [],
   "source": [
    "b = np.random.randn(2, 2)"
   ]
  },
  {
   "cell_type": "code",
   "execution_count": 28,
   "id": "e12f423a-ddc6-4589-a317-b80d6f3c5fa6",
   "metadata": {},
   "outputs": [
    {
     "data": {
      "text/plain": [
       "array([[2.15395719, 1.71702042],\n",
       "       [1.55824903, 0.33948303],\n",
       "       [1.44114557, 1.1025007 ],\n",
       "       [0.93982634, 1.01041027]])"
      ]
     },
     "execution_count": 28,
     "metadata": {},
     "output_type": "execute_result"
    }
   ],
   "source": [
    "a"
   ]
  },
  {
   "cell_type": "code",
   "execution_count": 29,
   "id": "62bd4a04-e6d8-4695-9280-012a3a37fad9",
   "metadata": {},
   "outputs": [
    {
     "data": {
      "text/plain": [
       "array([[-1.07182151, -2.12063692],\n",
       "       [ 1.00602484, -0.45334822]])"
      ]
     },
     "execution_count": 29,
     "metadata": {},
     "output_type": "execute_result"
    }
   ],
   "source": [
    "b"
   ]
  },
  {
   "cell_type": "code",
   "execution_count": 30,
   "id": "217e93ae-4505-4991-8a11-6f9d449cbcb5",
   "metadata": {},
   "outputs": [
    {
     "ename": "ValueError",
     "evalue": "operands could not be broadcast together with shapes (4,2) (2,2) ",
     "output_type": "error",
     "traceback": [
      "\u001b[0;31m---------------------------------------------------------------------------\u001b[0m",
      "\u001b[0;31mValueError\u001b[0m                                Traceback (most recent call last)",
      "Cell \u001b[0;32mIn[30], line 1\u001b[0m\n\u001b[0;32m----> 1\u001b[0m a \u001b[38;5;241m*\u001b[39m b\n",
      "\u001b[0;31mValueError\u001b[0m: operands could not be broadcast together with shapes (4,2) (2,2) "
     ]
    }
   ],
   "source": [
    "a * b"
   ]
  },
  {
   "cell_type": "code",
   "execution_count": 31,
   "id": "f3a21e61-926f-4c2b-ba55-4c541fc74b81",
   "metadata": {},
   "outputs": [
    {
     "ename": "ValueError",
     "evalue": "operands could not be broadcast together with shapes (4,2) (2,2) ",
     "output_type": "error",
     "traceback": [
      "\u001b[0;31m---------------------------------------------------------------------------\u001b[0m",
      "\u001b[0;31mValueError\u001b[0m                                Traceback (most recent call last)",
      "Cell \u001b[0;32mIn[31], line 1\u001b[0m\n\u001b[0;32m----> 1\u001b[0m a \u001b[38;5;241m-\u001b[39m b\n",
      "\u001b[0;31mValueError\u001b[0m: operands could not be broadcast together with shapes (4,2) (2,2) "
     ]
    }
   ],
   "source": [
    "a - b"
   ]
  }
 ],
 "metadata": {
  "kernelspec": {
   "display_name": "Python 3 (ipykernel)",
   "language": "python",
   "name": "python3"
  },
  "language_info": {
   "codemirror_mode": {
    "name": "ipython",
    "version": 3
   },
   "file_extension": ".py",
   "mimetype": "text/x-python",
   "name": "python",
   "nbconvert_exporter": "python",
   "pygments_lexer": "ipython3",
   "version": "3.12.7"
  }
 },
 "nbformat": 4,
 "nbformat_minor": 5
}
