{
 "cells": [
  {
   "cell_type": "code",
   "execution_count": 56,
   "id": "e686114a-490c-4a87-a66f-2d6e5fccb812",
   "metadata": {},
   "outputs": [],
   "source": [
    "import requests\n",
    "from bs4 import BeautifulSoup"
   ]
  },
  {
   "cell_type": "code",
   "execution_count": 57,
   "id": "2232ee7d-b904-4001-beca-214136c115d8",
   "metadata": {},
   "outputs": [],
   "source": [
    "headers = {\n",
    "    \"user-agent\": \"Mozilla/5.0 (Macintosh; Intel Mac OS X 10_15_7) AppleWebKit/537.36 (KHTML, like Gecko) Chrome/133.0.0.0 Safari/537.36\"\n",
    "}"
   ]
  },
  {
   "cell_type": "code",
   "execution_count": 92,
   "id": "6ffce1b6-d726-4cd9-9f98-bc19d60ed179",
   "metadata": {
    "scrolled": true
   },
   "outputs": [
    {
     "name": "stdout",
     "output_type": "stream",
     "text": [
      "https://search.bilibili.com/all?keyword=deepseek&from_source=webtop_search&spm_id_from=333.788&search_source=5\n",
      "42\n",
      "\n",
      "\n",
      "\n",
      "\n",
      "第0个: 3\n",
      "\n"
     ]
    },
    {
     "ename": "AttributeError",
     "evalue": "'NoneType' object has no attribute 'get'",
     "output_type": "error",
     "traceback": [
      "\u001b[0;31m---------------------------------------------------------------------------\u001b[0m",
      "\u001b[0;31mAttributeError\u001b[0m                            Traceback (most recent call last)",
      "Cell \u001b[0;32mIn[92], line 31\u001b[0m\n\u001b[1;32m     28\u001b[0m bili_video_card_url \u001b[38;5;241m=\u001b[39m \u001b[38;5;124m\"\u001b[39m\u001b[38;5;124m\"\u001b[39m\n\u001b[1;32m     30\u001b[0m \u001b[38;5;28;01mfor\u001b[39;00m bili_video_card \u001b[38;5;129;01min\u001b[39;00m bili_video_card_wraps:\n\u001b[0;32m---> 31\u001b[0m     link \u001b[38;5;241m=\u001b[39m bili_video_card\u001b[38;5;241m.\u001b[39mfind(\u001b[38;5;124m\"\u001b[39m\u001b[38;5;124ma\u001b[39m\u001b[38;5;124m\"\u001b[39m)\u001b[38;5;241m.\u001b[39mget(\u001b[38;5;124m\"\u001b[39m\u001b[38;5;124mhref\u001b[39m\u001b[38;5;124m\"\u001b[39m)\n\u001b[1;32m     32\u001b[0m     \u001b[38;5;28;01mif\u001b[39;00m \u001b[38;5;124m\"\u001b[39m\u001b[38;5;124mspace\u001b[39m\u001b[38;5;124m\"\u001b[39m \u001b[38;5;129;01min\u001b[39;00m link:\n\u001b[1;32m     33\u001b[0m         \u001b[38;5;28;01mcontinue\u001b[39;00m\n",
      "\u001b[0;31mAttributeError\u001b[0m: 'NoneType' object has no attribute 'get'"
     ]
    }
   ],
   "source": [
    "video_url = \"https://search.bilibili.com/all?keyword=deepseek&from_source=webtop_search&spm_id_from=333.788&search_source=5\"\n",
    "video_page_url = \"\"\n",
    "max_page = 1\n",
    "video_set = set()\n",
    "\n",
    "for page_no in range(1, max_page + 1):\n",
    "    if page_no == 1:\n",
    "        video_page_url = video_url\n",
    "    else:\n",
    "        video_page_url = video_url + f\"&page={page_no}\"\n",
    "\n",
    "    print(video_page_url)\n",
    "\n",
    "    res = requests.get(video_page_url, headers=headers)\n",
    "    # print(res.text)\n",
    "    \n",
    "    res.encoding = res.apparent_encoding\n",
    "    bs = BeautifulSoup(markup=res.text, features=\"html.parser\")\n",
    "    \n",
    "    bili_video_card_div = bs.find(name=\"div\", attrs={\"class\": \"video-list row\"}).find_all(name=\"div\", attrs={\"class\": \"bili-video-card\"})\n",
    "    print(len(bili_video_card_div))\n",
    "\n",
    "    print(\"\\n\" * 3)\n",
    "    for video_num, bili_video_card in enumerate(bili_video_card_div):\n",
    "        bili_video_card_wraps = bili_video_card.find(name=\"div\", attrs={\"class\": \"bili-video-card__wrap\"}).find_all(name=\"a\")\n",
    "        print(f\"第{video_num}个: {len(bili_video_card_wraps)}\\n\")\n",
    "\n",
    "        bili_video_card_url = \"\"\n",
    "        \n",
    "        for bili_video_card in bili_video_card_wraps:\n",
    "            link = bili_video_card.find(\"a\").get(\"href\")\n",
    "            if \"space\" in link:\n",
    "                continue\n",
    "            if link in video_set:\n",
    "                continue\n",
    "            bili_video_card_url = link\n",
    "            video_set.add(link)\n",
    "        \n",
    "        print(f\"{bili_video_card_url}\\n\")\n",
    "\n",
    "        print(\"\\n\" * 2)\n",
    "        "
   ]
  },
  {
   "cell_type": "code",
   "execution_count": 85,
   "id": "0e2a4154-96db-4abd-9b5a-45943f79b3dc",
   "metadata": {},
   "outputs": [
    {
     "name": "stdout",
     "output_type": "stream",
     "text": [
      "1\n",
      "2\n",
      "3\n"
     ]
    }
   ],
   "source": [
    "a = [1, 2, 3]\n",
    "print(\"\\n\".join([str(b) for b in a]))"
   ]
  }
 ],
 "metadata": {
  "kernelspec": {
   "display_name": "Python 3 (ipykernel)",
   "language": "python",
   "name": "python3"
  },
  "language_info": {
   "codemirror_mode": {
    "name": "ipython",
    "version": 3
   },
   "file_extension": ".py",
   "mimetype": "text/x-python",
   "name": "python",
   "nbconvert_exporter": "python",
   "pygments_lexer": "ipython3",
   "version": "3.12.7"
  }
 },
 "nbformat": 4,
 "nbformat_minor": 5
}
