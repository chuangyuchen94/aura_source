{
 "cells": [
  {
   "cell_type": "markdown",
   "id": "9a4a603d",
   "metadata": {},
   "source": [
    "初步查看数据集"
   ]
  },
  {
   "cell_type": "code",
   "execution_count": 1,
   "id": "3a5c2d96",
   "metadata": {},
   "outputs": [],
   "source": [
    "import pandas as pd"
   ]
  },
  {
   "cell_type": "code",
   "execution_count": 2,
   "id": "a5cd4ff0",
   "metadata": {},
   "outputs": [],
   "source": [
    "user_file = \"../data/jddata/JData_User.csv\"\n",
    "product_file = \"../data/jddata/JData_Product.csv\"\n",
    "comment_file = \"../data/jddata/JData_Comment.csv\"\n",
    "action_file_02 = \"../data/jddata/JData_Action_201602.csv\"\n",
    "action_file_03 = \"../data/jddata/JData_Action_201603.csv\"\n",
    "action_file_04 = \"../data/jddata/JData_Action_201604.csv\""
   ]
  },
  {
   "cell_type": "code",
   "execution_count": 3,
   "id": "f3dae94e",
   "metadata": {},
   "outputs": [
    {
     "name": "stdout",
     "output_type": "stream",
     "text": [
      "(105321, 5)\n"
     ]
    },
    {
     "data": {
      "text/html": [
       "<div>\n",
       "<style scoped>\n",
       "    .dataframe tbody tr th:only-of-type {\n",
       "        vertical-align: middle;\n",
       "    }\n",
       "\n",
       "    .dataframe tbody tr th {\n",
       "        vertical-align: top;\n",
       "    }\n",
       "\n",
       "    .dataframe thead th {\n",
       "        text-align: right;\n",
       "    }\n",
       "</style>\n",
       "<table border=\"1\" class=\"dataframe\">\n",
       "  <thead>\n",
       "    <tr style=\"text-align: right;\">\n",
       "      <th></th>\n",
       "      <th>user_id</th>\n",
       "      <th>age</th>\n",
       "      <th>sex</th>\n",
       "      <th>user_lv_cd</th>\n",
       "    </tr>\n",
       "  </thead>\n",
       "  <tbody>\n",
       "    <tr>\n",
       "      <th>count</th>\n",
       "      <td>105321.000000</td>\n",
       "      <td>105318.000000</td>\n",
       "      <td>105318.000000</td>\n",
       "      <td>105321.000000</td>\n",
       "    </tr>\n",
       "    <tr>\n",
       "      <th>mean</th>\n",
       "      <td>252661.000000</td>\n",
       "      <td>2.773448</td>\n",
       "      <td>1.112887</td>\n",
       "      <td>3.850030</td>\n",
       "    </tr>\n",
       "    <tr>\n",
       "      <th>std</th>\n",
       "      <td>30403.698188</td>\n",
       "      <td>1.672182</td>\n",
       "      <td>0.955930</td>\n",
       "      <td>1.071505</td>\n",
       "    </tr>\n",
       "    <tr>\n",
       "      <th>min</th>\n",
       "      <td>200001.000000</td>\n",
       "      <td>-1.000000</td>\n",
       "      <td>0.000000</td>\n",
       "      <td>1.000000</td>\n",
       "    </tr>\n",
       "    <tr>\n",
       "      <th>25%</th>\n",
       "      <td>226331.000000</td>\n",
       "      <td>3.000000</td>\n",
       "      <td>0.000000</td>\n",
       "      <td>3.000000</td>\n",
       "    </tr>\n",
       "    <tr>\n",
       "      <th>50%</th>\n",
       "      <td>252661.000000</td>\n",
       "      <td>3.000000</td>\n",
       "      <td>2.000000</td>\n",
       "      <td>4.000000</td>\n",
       "    </tr>\n",
       "    <tr>\n",
       "      <th>75%</th>\n",
       "      <td>278991.000000</td>\n",
       "      <td>4.000000</td>\n",
       "      <td>2.000000</td>\n",
       "      <td>5.000000</td>\n",
       "    </tr>\n",
       "    <tr>\n",
       "      <th>max</th>\n",
       "      <td>305321.000000</td>\n",
       "      <td>6.000000</td>\n",
       "      <td>2.000000</td>\n",
       "      <td>5.000000</td>\n",
       "    </tr>\n",
       "  </tbody>\n",
       "</table>\n",
       "</div>"
      ],
      "text/plain": [
       "             user_id            age            sex     user_lv_cd\n",
       "count  105321.000000  105318.000000  105318.000000  105321.000000\n",
       "mean   252661.000000       2.773448       1.112887       3.850030\n",
       "std     30403.698188       1.672182       0.955930       1.071505\n",
       "min    200001.000000      -1.000000       0.000000       1.000000\n",
       "25%    226331.000000       3.000000       0.000000       3.000000\n",
       "50%    252661.000000       3.000000       2.000000       4.000000\n",
       "75%    278991.000000       4.000000       2.000000       5.000000\n",
       "max    305321.000000       6.000000       2.000000       5.000000"
      ]
     },
     "execution_count": 3,
     "metadata": {},
     "output_type": "execute_result"
    }
   ],
   "source": [
    "user_file_pd = pd.read_csv(user_file)\n",
    "print(user_file_pd.shape)\n",
    "user_file_pd.describe()"
   ]
  },
  {
   "cell_type": "code",
   "execution_count": 4,
   "id": "381b2f1a",
   "metadata": {},
   "outputs": [
    {
     "data": {
      "text/plain": [
       "105321"
      ]
     },
     "execution_count": 4,
     "metadata": {},
     "output_type": "execute_result"
    }
   ],
   "source": [
    "user_file_pd.user_id.unique().size"
   ]
  },
  {
   "cell_type": "code",
   "execution_count": 5,
   "id": "61b16fdc",
   "metadata": {},
   "outputs": [
    {
     "name": "stdout",
     "output_type": "stream",
     "text": [
      "   user_id  age  sex  user_lv_cd user_reg_tm\n",
      "0   200001  6.0  2.0           5  2016-01-26\n",
      "1   200002 -1.0  0.0           1  2016-01-26\n",
      "2   200003  4.0  1.0           4  2016-01-26\n",
      "3   200004 -1.0  2.0           1  2016-01-26\n",
      "4   200005  2.0  0.0           4  2016-01-26\n",
      "user_id        0\n",
      "age            3\n",
      "sex            3\n",
      "user_lv_cd     0\n",
      "user_reg_tm    3\n",
      "dtype: int64\n",
      "<class 'pandas.core.frame.DataFrame'>\n",
      "RangeIndex: 105321 entries, 0 to 105320\n",
      "Data columns (total 5 columns):\n",
      " #   Column       Non-Null Count   Dtype  \n",
      "---  ------       --------------   -----  \n",
      " 0   user_id      105321 non-null  int64  \n",
      " 1   age          105318 non-null  float64\n",
      " 2   sex          105318 non-null  float64\n",
      " 3   user_lv_cd   105321 non-null  int64  \n",
      " 4   user_reg_tm  105318 non-null  object \n",
      "dtypes: float64(2), int64(2), object(1)\n",
      "memory usage: 4.0+ MB\n",
      "None\n",
      "       user_id  age  sex  user_lv_cd user_reg_tm\n",
      "34072   234073  NaN  NaN           1         NaN\n",
      "38905   238906  NaN  NaN           1         NaN\n",
      "67704   267705  NaN  NaN           1         NaN\n"
     ]
    }
   ],
   "source": [
    "print(user_file_pd.head(5))\n",
    "print(user_file_pd.isna().sum())\n",
    "print(user_file_pd.info())\n",
    "print(user_file_pd[user_file_pd.age.isna()])"
   ]
  },
  {
   "cell_type": "code",
   "execution_count": 6,
   "id": "74bdc0e9",
   "metadata": {},
   "outputs": [
    {
     "name": "stdout",
     "output_type": "stream",
     "text": [
      "<class 'pandas.core.frame.DataFrame'>\n",
      "RangeIndex: 105321 entries, 0 to 105320\n",
      "Data columns (total 5 columns):\n",
      " #   Column       Non-Null Count   Dtype  \n",
      "---  ------       --------------   -----  \n",
      " 0   user_id      105321 non-null  int64  \n",
      " 1   age          105318 non-null  float64\n",
      " 2   sex          105318 non-null  float64\n",
      " 3   user_lv_cd   105321 non-null  int64  \n",
      " 4   user_reg_tm  105318 non-null  object \n",
      "dtypes: float64(2), int64(2), object(1)\n",
      "memory usage: 4.0+ MB\n"
     ]
    }
   ],
   "source": [
    "user_file_pd.info()"
   ]
  },
  {
   "cell_type": "code",
   "execution_count": 7,
   "id": "acb610bb",
   "metadata": {},
   "outputs": [],
   "source": [
    "product_file_pd = pd.read_csv(product_file)"
   ]
  },
  {
   "cell_type": "code",
   "execution_count": 8,
   "id": "fa3d62bd",
   "metadata": {},
   "outputs": [
    {
     "name": "stdout",
     "output_type": "stream",
     "text": [
      "(24187, 6)\n"
     ]
    }
   ],
   "source": [
    "print(product_file_pd.shape)"
   ]
  },
  {
   "cell_type": "code",
   "execution_count": 9,
   "id": "26b4ba96",
   "metadata": {},
   "outputs": [
    {
     "data": {
      "text/html": [
       "<div>\n",
       "<style scoped>\n",
       "    .dataframe tbody tr th:only-of-type {\n",
       "        vertical-align: middle;\n",
       "    }\n",
       "\n",
       "    .dataframe tbody tr th {\n",
       "        vertical-align: top;\n",
       "    }\n",
       "\n",
       "    .dataframe thead th {\n",
       "        text-align: right;\n",
       "    }\n",
       "</style>\n",
       "<table border=\"1\" class=\"dataframe\">\n",
       "  <thead>\n",
       "    <tr style=\"text-align: right;\">\n",
       "      <th></th>\n",
       "      <th>sku_id</th>\n",
       "      <th>a1</th>\n",
       "      <th>a2</th>\n",
       "      <th>a3</th>\n",
       "      <th>cate</th>\n",
       "      <th>brand</th>\n",
       "    </tr>\n",
       "  </thead>\n",
       "  <tbody>\n",
       "    <tr>\n",
       "      <th>count</th>\n",
       "      <td>24187.000000</td>\n",
       "      <td>24187.000000</td>\n",
       "      <td>24187.000000</td>\n",
       "      <td>24187.000000</td>\n",
       "      <td>24187.0</td>\n",
       "      <td>24187.000000</td>\n",
       "    </tr>\n",
       "    <tr>\n",
       "      <th>mean</th>\n",
       "      <td>85398.737421</td>\n",
       "      <td>2.176996</td>\n",
       "      <td>0.938975</td>\n",
       "      <td>1.179766</td>\n",
       "      <td>8.0</td>\n",
       "      <td>435.864307</td>\n",
       "    </tr>\n",
       "    <tr>\n",
       "      <th>std</th>\n",
       "      <td>49238.799482</td>\n",
       "      <td>1.176116</td>\n",
       "      <td>0.969517</td>\n",
       "      <td>1.045883</td>\n",
       "      <td>0.0</td>\n",
       "      <td>225.749190</td>\n",
       "    </tr>\n",
       "    <tr>\n",
       "      <th>min</th>\n",
       "      <td>6.000000</td>\n",
       "      <td>-1.000000</td>\n",
       "      <td>-1.000000</td>\n",
       "      <td>-1.000000</td>\n",
       "      <td>8.0</td>\n",
       "      <td>3.000000</td>\n",
       "    </tr>\n",
       "    <tr>\n",
       "      <th>25%</th>\n",
       "      <td>42476.000000</td>\n",
       "      <td>1.000000</td>\n",
       "      <td>1.000000</td>\n",
       "      <td>1.000000</td>\n",
       "      <td>8.0</td>\n",
       "      <td>214.000000</td>\n",
       "    </tr>\n",
       "    <tr>\n",
       "      <th>50%</th>\n",
       "      <td>85616.000000</td>\n",
       "      <td>3.000000</td>\n",
       "      <td>1.000000</td>\n",
       "      <td>1.000000</td>\n",
       "      <td>8.0</td>\n",
       "      <td>489.000000</td>\n",
       "    </tr>\n",
       "    <tr>\n",
       "      <th>75%</th>\n",
       "      <td>127774.000000</td>\n",
       "      <td>3.000000</td>\n",
       "      <td>2.000000</td>\n",
       "      <td>2.000000</td>\n",
       "      <td>8.0</td>\n",
       "      <td>571.000000</td>\n",
       "    </tr>\n",
       "    <tr>\n",
       "      <th>max</th>\n",
       "      <td>171224.000000</td>\n",
       "      <td>3.000000</td>\n",
       "      <td>2.000000</td>\n",
       "      <td>2.000000</td>\n",
       "      <td>8.0</td>\n",
       "      <td>922.000000</td>\n",
       "    </tr>\n",
       "  </tbody>\n",
       "</table>\n",
       "</div>"
      ],
      "text/plain": [
       "              sku_id            a1            a2            a3     cate  \\\n",
       "count   24187.000000  24187.000000  24187.000000  24187.000000  24187.0   \n",
       "mean    85398.737421      2.176996      0.938975      1.179766      8.0   \n",
       "std     49238.799482      1.176116      0.969517      1.045883      0.0   \n",
       "min         6.000000     -1.000000     -1.000000     -1.000000      8.0   \n",
       "25%     42476.000000      1.000000      1.000000      1.000000      8.0   \n",
       "50%     85616.000000      3.000000      1.000000      1.000000      8.0   \n",
       "75%    127774.000000      3.000000      2.000000      2.000000      8.0   \n",
       "max    171224.000000      3.000000      2.000000      2.000000      8.0   \n",
       "\n",
       "              brand  \n",
       "count  24187.000000  \n",
       "mean     435.864307  \n",
       "std      225.749190  \n",
       "min        3.000000  \n",
       "25%      214.000000  \n",
       "50%      489.000000  \n",
       "75%      571.000000  \n",
       "max      922.000000  "
      ]
     },
     "execution_count": 9,
     "metadata": {},
     "output_type": "execute_result"
    }
   ],
   "source": [
    "product_file_pd.describe()"
   ]
  },
  {
   "cell_type": "code",
   "execution_count": 10,
   "id": "7d59a83c",
   "metadata": {},
   "outputs": [
    {
     "name": "stdout",
     "output_type": "stream",
     "text": [
      "<class 'pandas.core.frame.DataFrame'>\n",
      "RangeIndex: 24187 entries, 0 to 24186\n",
      "Data columns (total 6 columns):\n",
      " #   Column  Non-Null Count  Dtype\n",
      "---  ------  --------------  -----\n",
      " 0   sku_id  24187 non-null  int64\n",
      " 1   a1      24187 non-null  int64\n",
      " 2   a2      24187 non-null  int64\n",
      " 3   a3      24187 non-null  int64\n",
      " 4   cate    24187 non-null  int64\n",
      " 5   brand   24187 non-null  int64\n",
      "dtypes: int64(6)\n",
      "memory usage: 1.1 MB\n"
     ]
    }
   ],
   "source": [
    "product_file_pd.info()"
   ]
  },
  {
   "cell_type": "code",
   "execution_count": null,
   "id": "49f3bb4d",
   "metadata": {},
   "outputs": [],
   "source": [
    "# comment_file = \"../data/jddata/JData_Comment.csv\""
   ]
  },
  {
   "cell_type": "code",
   "execution_count": 11,
   "id": "8fb1f486",
   "metadata": {},
   "outputs": [],
   "source": [
    "comment_file_pd = pd.read_csv(comment_file)"
   ]
  },
  {
   "cell_type": "code",
   "execution_count": 12,
   "id": "43e85956",
   "metadata": {},
   "outputs": [
    {
     "name": "stdout",
     "output_type": "stream",
     "text": [
      "<class 'pandas.core.frame.DataFrame'>\n",
      "RangeIndex: 558552 entries, 0 to 558551\n",
      "Data columns (total 5 columns):\n",
      " #   Column            Non-Null Count   Dtype  \n",
      "---  ------            --------------   -----  \n",
      " 0   dt                558552 non-null  object \n",
      " 1   sku_id            558552 non-null  int64  \n",
      " 2   comment_num       558552 non-null  int64  \n",
      " 3   has_bad_comment   558552 non-null  int64  \n",
      " 4   bad_comment_rate  558552 non-null  float64\n",
      "dtypes: float64(1), int64(3), object(1)\n",
      "memory usage: 21.3+ MB\n"
     ]
    }
   ],
   "source": [
    "comment_file_pd.info()"
   ]
  },
  {
   "cell_type": "code",
   "execution_count": null,
   "id": "dbd1f68a",
   "metadata": {},
   "outputs": [],
   "source": [
    "# action_file_02 = \"../data/jddata/JData_Action_201602.csv\""
   ]
  },
  {
   "cell_type": "code",
   "execution_count": 13,
   "id": "49038380",
   "metadata": {},
   "outputs": [],
   "source": [
    "action_file_02_pd = pd.read_csv(action_file_02)"
   ]
  },
  {
   "cell_type": "code",
   "execution_count": 14,
   "id": "0d92600f",
   "metadata": {},
   "outputs": [
    {
     "data": {
      "text/plain": [
       "(11485424, 7)"
      ]
     },
     "execution_count": 14,
     "metadata": {},
     "output_type": "execute_result"
    }
   ],
   "source": [
    "action_file_02_pd.shape"
   ]
  },
  {
   "cell_type": "code",
   "execution_count": 15,
   "id": "8b017c9b",
   "metadata": {},
   "outputs": [
    {
     "name": "stdout",
     "output_type": "stream",
     "text": [
      "<class 'pandas.core.frame.DataFrame'>\n",
      "RangeIndex: 11485424 entries, 0 to 11485423\n",
      "Data columns (total 7 columns):\n",
      " #   Column    Dtype  \n",
      "---  ------    -----  \n",
      " 0   user_id   int64  \n",
      " 1   sku_id    int64  \n",
      " 2   time      object \n",
      " 3   model_id  float64\n",
      " 4   type      int64  \n",
      " 5   cate      int64  \n",
      " 6   brand     int64  \n",
      "dtypes: float64(1), int64(5), object(1)\n",
      "memory usage: 613.4+ MB\n"
     ]
    }
   ],
   "source": [
    "action_file_02_pd.info()"
   ]
  },
  {
   "cell_type": "code",
   "execution_count": 16,
   "id": "4444ed9e",
   "metadata": {},
   "outputs": [
    {
     "data": {
      "text/plain": [
       "user_id           0\n",
       "sku_id            0\n",
       "time              0\n",
       "model_id    4959617\n",
       "type              0\n",
       "cate              0\n",
       "brand             0\n",
       "dtype: int64"
      ]
     },
     "execution_count": 16,
     "metadata": {},
     "output_type": "execute_result"
    }
   ],
   "source": [
    "action_file_02_pd.isna().sum()"
   ]
  },
  {
   "cell_type": "code",
   "execution_count": 17,
   "id": "53470434",
   "metadata": {},
   "outputs": [
    {
     "data": {
      "text/html": [
       "<div>\n",
       "<style scoped>\n",
       "    .dataframe tbody tr th:only-of-type {\n",
       "        vertical-align: middle;\n",
       "    }\n",
       "\n",
       "    .dataframe tbody tr th {\n",
       "        vertical-align: top;\n",
       "    }\n",
       "\n",
       "    .dataframe thead th {\n",
       "        text-align: right;\n",
       "    }\n",
       "</style>\n",
       "<table border=\"1\" class=\"dataframe\">\n",
       "  <thead>\n",
       "    <tr style=\"text-align: right;\">\n",
       "      <th></th>\n",
       "      <th>user_id</th>\n",
       "      <th>sku_id</th>\n",
       "      <th>time</th>\n",
       "      <th>model_id</th>\n",
       "      <th>type</th>\n",
       "      <th>cate</th>\n",
       "      <th>brand</th>\n",
       "    </tr>\n",
       "  </thead>\n",
       "  <tbody>\n",
       "    <tr>\n",
       "      <th>0</th>\n",
       "      <td>266079</td>\n",
       "      <td>138778</td>\n",
       "      <td>2016-01-31 23:59:02</td>\n",
       "      <td>NaN</td>\n",
       "      <td>1</td>\n",
       "      <td>8</td>\n",
       "      <td>403</td>\n",
       "    </tr>\n",
       "    <tr>\n",
       "      <th>2</th>\n",
       "      <td>200719</td>\n",
       "      <td>61226</td>\n",
       "      <td>2016-01-31 23:59:07</td>\n",
       "      <td>NaN</td>\n",
       "      <td>1</td>\n",
       "      <td>8</td>\n",
       "      <td>30</td>\n",
       "    </tr>\n",
       "    <tr>\n",
       "      <th>4</th>\n",
       "      <td>263587</td>\n",
       "      <td>72348</td>\n",
       "      <td>2016-01-31 23:59:08</td>\n",
       "      <td>NaN</td>\n",
       "      <td>1</td>\n",
       "      <td>5</td>\n",
       "      <td>159</td>\n",
       "    </tr>\n",
       "    <tr>\n",
       "      <th>5</th>\n",
       "      <td>296130</td>\n",
       "      <td>103126</td>\n",
       "      <td>2016-01-31 23:59:11</td>\n",
       "      <td>NaN</td>\n",
       "      <td>1</td>\n",
       "      <td>4</td>\n",
       "      <td>174</td>\n",
       "    </tr>\n",
       "    <tr>\n",
       "      <th>9</th>\n",
       "      <td>283139</td>\n",
       "      <td>4732</td>\n",
       "      <td>2016-01-31 23:59:14</td>\n",
       "      <td>NaN</td>\n",
       "      <td>1</td>\n",
       "      <td>6</td>\n",
       "      <td>375</td>\n",
       "    </tr>\n",
       "  </tbody>\n",
       "</table>\n",
       "</div>"
      ],
      "text/plain": [
       "   user_id  sku_id                 time  model_id  type  cate  brand\n",
       "0   266079  138778  2016-01-31 23:59:02       NaN     1     8    403\n",
       "2   200719   61226  2016-01-31 23:59:07       NaN     1     8     30\n",
       "4   263587   72348  2016-01-31 23:59:08       NaN     1     5    159\n",
       "5   296130  103126  2016-01-31 23:59:11       NaN     1     4    174\n",
       "9   283139    4732  2016-01-31 23:59:14       NaN     1     6    375"
      ]
     },
     "execution_count": 17,
     "metadata": {},
     "output_type": "execute_result"
    }
   ],
   "source": [
    "action_file_02_pd[action_file_02_pd.model_id.isna()].head(5)"
   ]
  },
  {
   "cell_type": "code",
   "execution_count": 18,
   "id": "e12457e1",
   "metadata": {},
   "outputs": [
    {
     "data": {
      "text/html": [
       "<div>\n",
       "<style scoped>\n",
       "    .dataframe tbody tr th:only-of-type {\n",
       "        vertical-align: middle;\n",
       "    }\n",
       "\n",
       "    .dataframe tbody tr th {\n",
       "        vertical-align: top;\n",
       "    }\n",
       "\n",
       "    .dataframe thead th {\n",
       "        text-align: right;\n",
       "    }\n",
       "</style>\n",
       "<table border=\"1\" class=\"dataframe\">\n",
       "  <thead>\n",
       "    <tr style=\"text-align: right;\">\n",
       "      <th></th>\n",
       "      <th>user_id</th>\n",
       "      <th>sku_id</th>\n",
       "      <th>time</th>\n",
       "      <th>model_id</th>\n",
       "      <th>type</th>\n",
       "      <th>cate</th>\n",
       "      <th>brand</th>\n",
       "    </tr>\n",
       "  </thead>\n",
       "  <tbody>\n",
       "    <tr>\n",
       "      <th>0</th>\n",
       "      <td>266079</td>\n",
       "      <td>138778</td>\n",
       "      <td>2016-01-31 23:59:02</td>\n",
       "      <td>NaN</td>\n",
       "      <td>1</td>\n",
       "      <td>8</td>\n",
       "      <td>403</td>\n",
       "    </tr>\n",
       "    <tr>\n",
       "      <th>1</th>\n",
       "      <td>266079</td>\n",
       "      <td>138778</td>\n",
       "      <td>2016-01-31 23:59:03</td>\n",
       "      <td>0.0</td>\n",
       "      <td>6</td>\n",
       "      <td>8</td>\n",
       "      <td>403</td>\n",
       "    </tr>\n",
       "    <tr>\n",
       "      <th>2</th>\n",
       "      <td>200719</td>\n",
       "      <td>61226</td>\n",
       "      <td>2016-01-31 23:59:07</td>\n",
       "      <td>NaN</td>\n",
       "      <td>1</td>\n",
       "      <td>8</td>\n",
       "      <td>30</td>\n",
       "    </tr>\n",
       "    <tr>\n",
       "      <th>3</th>\n",
       "      <td>200719</td>\n",
       "      <td>61226</td>\n",
       "      <td>2016-01-31 23:59:08</td>\n",
       "      <td>0.0</td>\n",
       "      <td>6</td>\n",
       "      <td>8</td>\n",
       "      <td>30</td>\n",
       "    </tr>\n",
       "    <tr>\n",
       "      <th>4</th>\n",
       "      <td>263587</td>\n",
       "      <td>72348</td>\n",
       "      <td>2016-01-31 23:59:08</td>\n",
       "      <td>NaN</td>\n",
       "      <td>1</td>\n",
       "      <td>5</td>\n",
       "      <td>159</td>\n",
       "    </tr>\n",
       "  </tbody>\n",
       "</table>\n",
       "</div>"
      ],
      "text/plain": [
       "   user_id  sku_id                 time  model_id  type  cate  brand\n",
       "0   266079  138778  2016-01-31 23:59:02       NaN     1     8    403\n",
       "1   266079  138778  2016-01-31 23:59:03       0.0     6     8    403\n",
       "2   200719   61226  2016-01-31 23:59:07       NaN     1     8     30\n",
       "3   200719   61226  2016-01-31 23:59:08       0.0     6     8     30\n",
       "4   263587   72348  2016-01-31 23:59:08       NaN     1     5    159"
      ]
     },
     "execution_count": 18,
     "metadata": {},
     "output_type": "execute_result"
    }
   ],
   "source": [
    "action_file_02_pd.head(5)"
   ]
  },
  {
   "cell_type": "code",
   "execution_count": 19,
   "id": "ab26ef6d",
   "metadata": {},
   "outputs": [
    {
     "data": {
      "text/html": [
       "<div>\n",
       "<style scoped>\n",
       "    .dataframe tbody tr th:only-of-type {\n",
       "        vertical-align: middle;\n",
       "    }\n",
       "\n",
       "    .dataframe tbody tr th {\n",
       "        vertical-align: top;\n",
       "    }\n",
       "\n",
       "    .dataframe thead th {\n",
       "        text-align: right;\n",
       "    }\n",
       "</style>\n",
       "<table border=\"1\" class=\"dataframe\">\n",
       "  <thead>\n",
       "    <tr style=\"text-align: right;\">\n",
       "      <th></th>\n",
       "      <th>user_id</th>\n",
       "      <th>sku_id</th>\n",
       "      <th>model_id</th>\n",
       "      <th>type</th>\n",
       "      <th>cate</th>\n",
       "      <th>brand</th>\n",
       "    </tr>\n",
       "  </thead>\n",
       "  <tbody>\n",
       "    <tr>\n",
       "      <th>count</th>\n",
       "      <td>1.148542e+07</td>\n",
       "      <td>1.148542e+07</td>\n",
       "      <td>6.525807e+06</td>\n",
       "      <td>1.148542e+07</td>\n",
       "      <td>1.148542e+07</td>\n",
       "      <td>1.148542e+07</td>\n",
       "    </tr>\n",
       "    <tr>\n",
       "      <th>mean</th>\n",
       "      <td>2.524416e+05</td>\n",
       "      <td>8.379134e+04</td>\n",
       "      <td>9.612351e+01</td>\n",
       "      <td>3.948194e+00</td>\n",
       "      <td>6.331354e+00</td>\n",
       "      <td>4.327179e+02</td>\n",
       "    </tr>\n",
       "    <tr>\n",
       "      <th>std</th>\n",
       "      <td>2.990617e+04</td>\n",
       "      <td>4.982075e+04</td>\n",
       "      <td>1.023377e+02</td>\n",
       "      <td>2.439923e+00</td>\n",
       "      <td>1.811247e+00</td>\n",
       "      <td>2.446622e+02</td>\n",
       "    </tr>\n",
       "    <tr>\n",
       "      <th>min</th>\n",
       "      <td>2.000020e+05</td>\n",
       "      <td>2.000000e+00</td>\n",
       "      <td>0.000000e+00</td>\n",
       "      <td>1.000000e+00</td>\n",
       "      <td>4.000000e+00</td>\n",
       "      <td>4.000000e+00</td>\n",
       "    </tr>\n",
       "    <tr>\n",
       "      <th>25%</th>\n",
       "      <td>2.270090e+05</td>\n",
       "      <td>4.084500e+04</td>\n",
       "      <td>0.000000e+00</td>\n",
       "      <td>1.000000e+00</td>\n",
       "      <td>4.000000e+00</td>\n",
       "      <td>2.140000e+02</td>\n",
       "    </tr>\n",
       "    <tr>\n",
       "      <th>50%</th>\n",
       "      <td>2.512080e+05</td>\n",
       "      <td>8.116300e+04</td>\n",
       "      <td>2.700000e+01</td>\n",
       "      <td>6.000000e+00</td>\n",
       "      <td>6.000000e+00</td>\n",
       "      <td>4.530000e+02</td>\n",
       "    </tr>\n",
       "    <tr>\n",
       "      <th>75%</th>\n",
       "      <td>2.782880e+05</td>\n",
       "      <td>1.271520e+05</td>\n",
       "      <td>2.160000e+02</td>\n",
       "      <td>6.000000e+00</td>\n",
       "      <td>8.000000e+00</td>\n",
       "      <td>6.300000e+02</td>\n",
       "    </tr>\n",
       "    <tr>\n",
       "      <th>max</th>\n",
       "      <td>3.053210e+05</td>\n",
       "      <td>1.712250e+05</td>\n",
       "      <td>3.480000e+02</td>\n",
       "      <td>6.000000e+00</td>\n",
       "      <td>1.100000e+01</td>\n",
       "      <td>9.230000e+02</td>\n",
       "    </tr>\n",
       "  </tbody>\n",
       "</table>\n",
       "</div>"
      ],
      "text/plain": [
       "            user_id        sku_id      model_id          type          cate  \\\n",
       "count  1.148542e+07  1.148542e+07  6.525807e+06  1.148542e+07  1.148542e+07   \n",
       "mean   2.524416e+05  8.379134e+04  9.612351e+01  3.948194e+00  6.331354e+00   \n",
       "std    2.990617e+04  4.982075e+04  1.023377e+02  2.439923e+00  1.811247e+00   \n",
       "min    2.000020e+05  2.000000e+00  0.000000e+00  1.000000e+00  4.000000e+00   \n",
       "25%    2.270090e+05  4.084500e+04  0.000000e+00  1.000000e+00  4.000000e+00   \n",
       "50%    2.512080e+05  8.116300e+04  2.700000e+01  6.000000e+00  6.000000e+00   \n",
       "75%    2.782880e+05  1.271520e+05  2.160000e+02  6.000000e+00  8.000000e+00   \n",
       "max    3.053210e+05  1.712250e+05  3.480000e+02  6.000000e+00  1.100000e+01   \n",
       "\n",
       "              brand  \n",
       "count  1.148542e+07  \n",
       "mean   4.327179e+02  \n",
       "std    2.446622e+02  \n",
       "min    4.000000e+00  \n",
       "25%    2.140000e+02  \n",
       "50%    4.530000e+02  \n",
       "75%    6.300000e+02  \n",
       "max    9.230000e+02  "
      ]
     },
     "execution_count": 19,
     "metadata": {},
     "output_type": "execute_result"
    }
   ],
   "source": [
    "action_file_02_pd.describe()"
   ]
  },
  {
   "cell_type": "code",
   "execution_count": 20,
   "id": "8da0d2d3",
   "metadata": {},
   "outputs": [],
   "source": [
    "action_file_03 = \"../data/jddata/JData_Action_201603.csv\""
   ]
  },
  {
   "cell_type": "code",
   "execution_count": 21,
   "id": "81bbd8ba",
   "metadata": {},
   "outputs": [],
   "source": [
    "action_file_03_pd = pd.read_csv(action_file_03)"
   ]
  },
  {
   "cell_type": "code",
   "execution_count": 22,
   "id": "422a3409",
   "metadata": {},
   "outputs": [
    {
     "data": {
      "text/plain": [
       "(25916378, 7)"
      ]
     },
     "execution_count": 22,
     "metadata": {},
     "output_type": "execute_result"
    }
   ],
   "source": [
    "action_file_03_pd.shape"
   ]
  },
  {
   "cell_type": "code",
   "execution_count": 23,
   "id": "2c1e6b2e",
   "metadata": {},
   "outputs": [
    {
     "name": "stdout",
     "output_type": "stream",
     "text": [
      "<class 'pandas.core.frame.DataFrame'>\n",
      "RangeIndex: 25916378 entries, 0 to 25916377\n",
      "Data columns (total 7 columns):\n",
      " #   Column    Dtype  \n",
      "---  ------    -----  \n",
      " 0   user_id   int64  \n",
      " 1   sku_id    int64  \n",
      " 2   time      object \n",
      " 3   model_id  float64\n",
      " 4   type      int64  \n",
      " 5   cate      int64  \n",
      " 6   brand     int64  \n",
      "dtypes: float64(1), int64(5), object(1)\n",
      "memory usage: 1.4+ GB\n"
     ]
    }
   ],
   "source": [
    "action_file_03_pd.info()"
   ]
  },
  {
   "cell_type": "code",
   "execution_count": 24,
   "id": "c7090f95",
   "metadata": {},
   "outputs": [
    {
     "data": {
      "text/plain": [
       "user_id            0\n",
       "sku_id             0\n",
       "time               0\n",
       "model_id    10553261\n",
       "type               0\n",
       "cate               0\n",
       "brand              0\n",
       "dtype: int64"
      ]
     },
     "execution_count": 24,
     "metadata": {},
     "output_type": "execute_result"
    }
   ],
   "source": [
    "action_file_03_pd.isna().sum()"
   ]
  },
  {
   "cell_type": "code",
   "execution_count": 25,
   "id": "f84fd926",
   "metadata": {},
   "outputs": [
    {
     "data": {
      "text/html": [
       "<div>\n",
       "<style scoped>\n",
       "    .dataframe tbody tr th:only-of-type {\n",
       "        vertical-align: middle;\n",
       "    }\n",
       "\n",
       "    .dataframe tbody tr th {\n",
       "        vertical-align: top;\n",
       "    }\n",
       "\n",
       "    .dataframe thead th {\n",
       "        text-align: right;\n",
       "    }\n",
       "</style>\n",
       "<table border=\"1\" class=\"dataframe\">\n",
       "  <thead>\n",
       "    <tr style=\"text-align: right;\">\n",
       "      <th></th>\n",
       "      <th>user_id</th>\n",
       "      <th>sku_id</th>\n",
       "      <th>model_id</th>\n",
       "      <th>type</th>\n",
       "      <th>cate</th>\n",
       "      <th>brand</th>\n",
       "    </tr>\n",
       "  </thead>\n",
       "  <tbody>\n",
       "    <tr>\n",
       "      <th>count</th>\n",
       "      <td>2.591638e+07</td>\n",
       "      <td>2.591638e+07</td>\n",
       "      <td>1.536312e+07</td>\n",
       "      <td>2.591638e+07</td>\n",
       "      <td>2.591638e+07</td>\n",
       "      <td>2.591638e+07</td>\n",
       "    </tr>\n",
       "    <tr>\n",
       "      <th>mean</th>\n",
       "      <td>2.508570e+05</td>\n",
       "      <td>8.320493e+04</td>\n",
       "      <td>8.947558e+01</td>\n",
       "      <td>4.064853e+00</td>\n",
       "      <td>6.632481e+00</td>\n",
       "      <td>4.285184e+02</td>\n",
       "    </tr>\n",
       "    <tr>\n",
       "      <th>std</th>\n",
       "      <td>3.003676e+04</td>\n",
       "      <td>4.977765e+04</td>\n",
       "      <td>1.019552e+02</td>\n",
       "      <td>2.417549e+00</td>\n",
       "      <td>1.755576e+00</td>\n",
       "      <td>2.419947e+02</td>\n",
       "    </tr>\n",
       "    <tr>\n",
       "      <th>min</th>\n",
       "      <td>2.000010e+05</td>\n",
       "      <td>2.000000e+00</td>\n",
       "      <td>0.000000e+00</td>\n",
       "      <td>1.000000e+00</td>\n",
       "      <td>4.000000e+00</td>\n",
       "      <td>4.000000e+00</td>\n",
       "    </tr>\n",
       "    <tr>\n",
       "      <th>25%</th>\n",
       "      <td>2.250010e+05</td>\n",
       "      <td>3.983000e+04</td>\n",
       "      <td>0.000000e+00</td>\n",
       "      <td>1.000000e+00</td>\n",
       "      <td>5.000000e+00</td>\n",
       "      <td>2.140000e+02</td>\n",
       "    </tr>\n",
       "    <tr>\n",
       "      <th>50%</th>\n",
       "      <td>2.492680e+05</td>\n",
       "      <td>7.952000e+04</td>\n",
       "      <td>2.600000e+01</td>\n",
       "      <td>6.000000e+00</td>\n",
       "      <td>7.000000e+00</td>\n",
       "      <td>4.530000e+02</td>\n",
       "    </tr>\n",
       "    <tr>\n",
       "      <th>75%</th>\n",
       "      <td>2.766870e+05</td>\n",
       "      <td>1.267910e+05</td>\n",
       "      <td>2.160000e+02</td>\n",
       "      <td>6.000000e+00</td>\n",
       "      <td>8.000000e+00</td>\n",
       "      <td>6.230000e+02</td>\n",
       "    </tr>\n",
       "    <tr>\n",
       "      <th>max</th>\n",
       "      <td>3.053210e+05</td>\n",
       "      <td>1.712250e+05</td>\n",
       "      <td>3.480000e+02</td>\n",
       "      <td>6.000000e+00</td>\n",
       "      <td>1.100000e+01</td>\n",
       "      <td>9.230000e+02</td>\n",
       "    </tr>\n",
       "  </tbody>\n",
       "</table>\n",
       "</div>"
      ],
      "text/plain": [
       "            user_id        sku_id      model_id          type          cate  \\\n",
       "count  2.591638e+07  2.591638e+07  1.536312e+07  2.591638e+07  2.591638e+07   \n",
       "mean   2.508570e+05  8.320493e+04  8.947558e+01  4.064853e+00  6.632481e+00   \n",
       "std    3.003676e+04  4.977765e+04  1.019552e+02  2.417549e+00  1.755576e+00   \n",
       "min    2.000010e+05  2.000000e+00  0.000000e+00  1.000000e+00  4.000000e+00   \n",
       "25%    2.250010e+05  3.983000e+04  0.000000e+00  1.000000e+00  5.000000e+00   \n",
       "50%    2.492680e+05  7.952000e+04  2.600000e+01  6.000000e+00  7.000000e+00   \n",
       "75%    2.766870e+05  1.267910e+05  2.160000e+02  6.000000e+00  8.000000e+00   \n",
       "max    3.053210e+05  1.712250e+05  3.480000e+02  6.000000e+00  1.100000e+01   \n",
       "\n",
       "              brand  \n",
       "count  2.591638e+07  \n",
       "mean   4.285184e+02  \n",
       "std    2.419947e+02  \n",
       "min    4.000000e+00  \n",
       "25%    2.140000e+02  \n",
       "50%    4.530000e+02  \n",
       "75%    6.230000e+02  \n",
       "max    9.230000e+02  "
      ]
     },
     "execution_count": 25,
     "metadata": {},
     "output_type": "execute_result"
    }
   ],
   "source": [
    "action_file_03_pd.describe()"
   ]
  },
  {
   "cell_type": "code",
   "execution_count": 26,
   "id": "4ff53bbd",
   "metadata": {},
   "outputs": [],
   "source": [
    "action_file_04 = \"../data/jddata/JData_Action_201604.csv\""
   ]
  },
  {
   "cell_type": "code",
   "execution_count": 27,
   "id": "0ccc15cd",
   "metadata": {},
   "outputs": [],
   "source": [
    "action_file_04_pd = pd.read_csv(action_file_04)"
   ]
  },
  {
   "cell_type": "code",
   "execution_count": 28,
   "id": "b767f86c",
   "metadata": {},
   "outputs": [
    {
     "data": {
      "text/plain": [
       "(13199934, 7)"
      ]
     },
     "execution_count": 28,
     "metadata": {},
     "output_type": "execute_result"
    }
   ],
   "source": [
    "action_file_04_pd.shape"
   ]
  },
  {
   "cell_type": "code",
   "execution_count": 29,
   "id": "7ea1eab3",
   "metadata": {},
   "outputs": [
    {
     "name": "stdout",
     "output_type": "stream",
     "text": [
      "<class 'pandas.core.frame.DataFrame'>\n",
      "RangeIndex: 13199934 entries, 0 to 13199933\n",
      "Data columns (total 7 columns):\n",
      " #   Column    Dtype  \n",
      "---  ------    -----  \n",
      " 0   user_id   int64  \n",
      " 1   sku_id    int64  \n",
      " 2   time      object \n",
      " 3   model_id  float64\n",
      " 4   type      int64  \n",
      " 5   cate      int64  \n",
      " 6   brand     int64  \n",
      "dtypes: float64(1), int64(5), object(1)\n",
      "memory usage: 705.0+ MB\n"
     ]
    }
   ],
   "source": [
    "action_file_04_pd.info()"
   ]
  },
  {
   "cell_type": "code",
   "execution_count": 30,
   "id": "b544e231",
   "metadata": {},
   "outputs": [
    {
     "data": {
      "text/plain": [
       "user_id           0\n",
       "sku_id            0\n",
       "time              0\n",
       "model_id    5143018\n",
       "type              0\n",
       "cate              0\n",
       "brand             0\n",
       "dtype: int64"
      ]
     },
     "execution_count": 30,
     "metadata": {},
     "output_type": "execute_result"
    }
   ],
   "source": [
    "action_file_04_pd.isna().sum()"
   ]
  },
  {
   "cell_type": "code",
   "execution_count": 31,
   "id": "44753e66",
   "metadata": {},
   "outputs": [
    {
     "data": {
      "text/html": [
       "<div>\n",
       "<style scoped>\n",
       "    .dataframe tbody tr th:only-of-type {\n",
       "        vertical-align: middle;\n",
       "    }\n",
       "\n",
       "    .dataframe tbody tr th {\n",
       "        vertical-align: top;\n",
       "    }\n",
       "\n",
       "    .dataframe thead th {\n",
       "        text-align: right;\n",
       "    }\n",
       "</style>\n",
       "<table border=\"1\" class=\"dataframe\">\n",
       "  <thead>\n",
       "    <tr style=\"text-align: right;\">\n",
       "      <th></th>\n",
       "      <th>user_id</th>\n",
       "      <th>sku_id</th>\n",
       "      <th>time</th>\n",
       "      <th>model_id</th>\n",
       "      <th>type</th>\n",
       "      <th>cate</th>\n",
       "      <th>brand</th>\n",
       "    </tr>\n",
       "  </thead>\n",
       "  <tbody>\n",
       "    <tr>\n",
       "      <th>1</th>\n",
       "      <td>208266</td>\n",
       "      <td>31662</td>\n",
       "      <td>2016-03-31 23:59:04</td>\n",
       "      <td>NaN</td>\n",
       "      <td>1</td>\n",
       "      <td>8</td>\n",
       "      <td>545</td>\n",
       "    </tr>\n",
       "    <tr>\n",
       "      <th>3</th>\n",
       "      <td>237311</td>\n",
       "      <td>5825</td>\n",
       "      <td>2016-03-31 23:59:05</td>\n",
       "      <td>NaN</td>\n",
       "      <td>1</td>\n",
       "      <td>8</td>\n",
       "      <td>885</td>\n",
       "    </tr>\n",
       "    <tr>\n",
       "      <th>4</th>\n",
       "      <td>257651</td>\n",
       "      <td>128104</td>\n",
       "      <td>2016-03-31 23:59:05</td>\n",
       "      <td>NaN</td>\n",
       "      <td>1</td>\n",
       "      <td>4</td>\n",
       "      <td>300</td>\n",
       "    </tr>\n",
       "    <tr>\n",
       "      <th>11</th>\n",
       "      <td>230578</td>\n",
       "      <td>162108</td>\n",
       "      <td>2016-03-31 23:59:09</td>\n",
       "      <td>NaN</td>\n",
       "      <td>1</td>\n",
       "      <td>4</td>\n",
       "      <td>306</td>\n",
       "    </tr>\n",
       "    <tr>\n",
       "      <th>12</th>\n",
       "      <td>208266</td>\n",
       "      <td>42199</td>\n",
       "      <td>2016-03-31 23:59:09</td>\n",
       "      <td>NaN</td>\n",
       "      <td>1</td>\n",
       "      <td>8</td>\n",
       "      <td>545</td>\n",
       "    </tr>\n",
       "    <tr>\n",
       "      <th>...</th>\n",
       "      <td>...</td>\n",
       "      <td>...</td>\n",
       "      <td>...</td>\n",
       "      <td>...</td>\n",
       "      <td>...</td>\n",
       "      <td>...</td>\n",
       "      <td>...</td>\n",
       "    </tr>\n",
       "    <tr>\n",
       "      <th>13199923</th>\n",
       "      <td>236482</td>\n",
       "      <td>7199</td>\n",
       "      <td>2016-04-15 23:59:57</td>\n",
       "      <td>NaN</td>\n",
       "      <td>1</td>\n",
       "      <td>4</td>\n",
       "      <td>306</td>\n",
       "    </tr>\n",
       "    <tr>\n",
       "      <th>13199924</th>\n",
       "      <td>236482</td>\n",
       "      <td>7199</td>\n",
       "      <td>2016-04-15 23:59:57</td>\n",
       "      <td>NaN</td>\n",
       "      <td>1</td>\n",
       "      <td>4</td>\n",
       "      <td>306</td>\n",
       "    </tr>\n",
       "    <tr>\n",
       "      <th>13199926</th>\n",
       "      <td>236482</td>\n",
       "      <td>37009</td>\n",
       "      <td>2016-04-15 23:59:57</td>\n",
       "      <td>NaN</td>\n",
       "      <td>1</td>\n",
       "      <td>4</td>\n",
       "      <td>581</td>\n",
       "    </tr>\n",
       "    <tr>\n",
       "      <th>13199927</th>\n",
       "      <td>236482</td>\n",
       "      <td>37009</td>\n",
       "      <td>2016-04-15 23:59:57</td>\n",
       "      <td>NaN</td>\n",
       "      <td>1</td>\n",
       "      <td>4</td>\n",
       "      <td>581</td>\n",
       "    </tr>\n",
       "    <tr>\n",
       "      <th>13199933</th>\n",
       "      <td>251186</td>\n",
       "      <td>35464</td>\n",
       "      <td>2016-04-15 23:59:59</td>\n",
       "      <td>NaN</td>\n",
       "      <td>2</td>\n",
       "      <td>5</td>\n",
       "      <td>489</td>\n",
       "    </tr>\n",
       "  </tbody>\n",
       "</table>\n",
       "<p>5143018 rows × 7 columns</p>\n",
       "</div>"
      ],
      "text/plain": [
       "          user_id  sku_id                 time  model_id  type  cate  brand\n",
       "1          208266   31662  2016-03-31 23:59:04       NaN     1     8    545\n",
       "3          237311    5825  2016-03-31 23:59:05       NaN     1     8    885\n",
       "4          257651  128104  2016-03-31 23:59:05       NaN     1     4    300\n",
       "11         230578  162108  2016-03-31 23:59:09       NaN     1     4    306\n",
       "12         208266   42199  2016-03-31 23:59:09       NaN     1     8    545\n",
       "...           ...     ...                  ...       ...   ...   ...    ...\n",
       "13199923   236482    7199  2016-04-15 23:59:57       NaN     1     4    306\n",
       "13199924   236482    7199  2016-04-15 23:59:57       NaN     1     4    306\n",
       "13199926   236482   37009  2016-04-15 23:59:57       NaN     1     4    581\n",
       "13199927   236482   37009  2016-04-15 23:59:57       NaN     1     4    581\n",
       "13199933   251186   35464  2016-04-15 23:59:59       NaN     2     5    489\n",
       "\n",
       "[5143018 rows x 7 columns]"
      ]
     },
     "execution_count": 31,
     "metadata": {},
     "output_type": "execute_result"
    }
   ],
   "source": [
    "action_file_04_pd[action_file_04_pd.model_id.isna()]"
   ]
  },
  {
   "cell_type": "code",
   "execution_count": 32,
   "id": "48fa352e",
   "metadata": {},
   "outputs": [
    {
     "data": {
      "text/html": [
       "<div>\n",
       "<style scoped>\n",
       "    .dataframe tbody tr th:only-of-type {\n",
       "        vertical-align: middle;\n",
       "    }\n",
       "\n",
       "    .dataframe tbody tr th {\n",
       "        vertical-align: top;\n",
       "    }\n",
       "\n",
       "    .dataframe thead th {\n",
       "        text-align: right;\n",
       "    }\n",
       "</style>\n",
       "<table border=\"1\" class=\"dataframe\">\n",
       "  <thead>\n",
       "    <tr style=\"text-align: right;\">\n",
       "      <th></th>\n",
       "      <th>user_id</th>\n",
       "      <th>sku_id</th>\n",
       "      <th>model_id</th>\n",
       "      <th>type</th>\n",
       "      <th>cate</th>\n",
       "      <th>brand</th>\n",
       "    </tr>\n",
       "  </thead>\n",
       "  <tbody>\n",
       "    <tr>\n",
       "      <th>count</th>\n",
       "      <td>1.319993e+07</td>\n",
       "      <td>1.319993e+07</td>\n",
       "      <td>8.056916e+06</td>\n",
       "      <td>1.319993e+07</td>\n",
       "      <td>1.319993e+07</td>\n",
       "      <td>1.319993e+07</td>\n",
       "    </tr>\n",
       "    <tr>\n",
       "      <th>mean</th>\n",
       "      <td>2.509635e+05</td>\n",
       "      <td>8.344591e+04</td>\n",
       "      <td>9.524445e+01</td>\n",
       "      <td>4.146564e+00</td>\n",
       "      <td>6.571679e+00</td>\n",
       "      <td>4.410705e+02</td>\n",
       "    </tr>\n",
       "    <tr>\n",
       "      <th>std</th>\n",
       "      <td>3.009638e+04</td>\n",
       "      <td>4.931126e+04</td>\n",
       "      <td>1.033112e+02</td>\n",
       "      <td>2.395629e+00</td>\n",
       "      <td>1.785305e+00</td>\n",
       "      <td>2.399955e+02</td>\n",
       "    </tr>\n",
       "    <tr>\n",
       "      <th>min</th>\n",
       "      <td>2.000010e+05</td>\n",
       "      <td>2.000000e+00</td>\n",
       "      <td>0.000000e+00</td>\n",
       "      <td>1.000000e+00</td>\n",
       "      <td>4.000000e+00</td>\n",
       "      <td>4.000000e+00</td>\n",
       "    </tr>\n",
       "    <tr>\n",
       "      <th>25%</th>\n",
       "      <td>2.251310e+05</td>\n",
       "      <td>4.033600e+04</td>\n",
       "      <td>0.000000e+00</td>\n",
       "      <td>1.000000e+00</td>\n",
       "      <td>5.000000e+00</td>\n",
       "      <td>2.140000e+02</td>\n",
       "    </tr>\n",
       "    <tr>\n",
       "      <th>50%</th>\n",
       "      <td>2.493220e+05</td>\n",
       "      <td>7.908000e+04</td>\n",
       "      <td>2.600000e+01</td>\n",
       "      <td>6.000000e+00</td>\n",
       "      <td>7.000000e+00</td>\n",
       "      <td>4.890000e+02</td>\n",
       "    </tr>\n",
       "    <tr>\n",
       "      <th>75%</th>\n",
       "      <td>2.770750e+05</td>\n",
       "      <td>1.269060e+05</td>\n",
       "      <td>2.160000e+02</td>\n",
       "      <td>6.000000e+00</td>\n",
       "      <td>8.000000e+00</td>\n",
       "      <td>5.970000e+02</td>\n",
       "    </tr>\n",
       "    <tr>\n",
       "      <th>max</th>\n",
       "      <td>3.053200e+05</td>\n",
       "      <td>1.712250e+05</td>\n",
       "      <td>3.400000e+02</td>\n",
       "      <td>6.000000e+00</td>\n",
       "      <td>1.100000e+01</td>\n",
       "      <td>9.230000e+02</td>\n",
       "    </tr>\n",
       "  </tbody>\n",
       "</table>\n",
       "</div>"
      ],
      "text/plain": [
       "            user_id        sku_id      model_id          type          cate  \\\n",
       "count  1.319993e+07  1.319993e+07  8.056916e+06  1.319993e+07  1.319993e+07   \n",
       "mean   2.509635e+05  8.344591e+04  9.524445e+01  4.146564e+00  6.571679e+00   \n",
       "std    3.009638e+04  4.931126e+04  1.033112e+02  2.395629e+00  1.785305e+00   \n",
       "min    2.000010e+05  2.000000e+00  0.000000e+00  1.000000e+00  4.000000e+00   \n",
       "25%    2.251310e+05  4.033600e+04  0.000000e+00  1.000000e+00  5.000000e+00   \n",
       "50%    2.493220e+05  7.908000e+04  2.600000e+01  6.000000e+00  7.000000e+00   \n",
       "75%    2.770750e+05  1.269060e+05  2.160000e+02  6.000000e+00  8.000000e+00   \n",
       "max    3.053200e+05  1.712250e+05  3.400000e+02  6.000000e+00  1.100000e+01   \n",
       "\n",
       "              brand  \n",
       "count  1.319993e+07  \n",
       "mean   4.410705e+02  \n",
       "std    2.399955e+02  \n",
       "min    4.000000e+00  \n",
       "25%    2.140000e+02  \n",
       "50%    4.890000e+02  \n",
       "75%    5.970000e+02  \n",
       "max    9.230000e+02  "
      ]
     },
     "execution_count": 32,
     "metadata": {},
     "output_type": "execute_result"
    }
   ],
   "source": [
    "action_file_04_pd.describe()"
   ]
  },
  {
   "cell_type": "markdown",
   "id": "075e7cc3",
   "metadata": {},
   "source": [
    "数据集验证"
   ]
  },
  {
   "cell_type": "code",
   "execution_count": 33,
   "id": "a83d7c34",
   "metadata": {},
   "outputs": [],
   "source": [
    "user_action_02 = pd.merge(user_file_pd, action_file_02_pd, on=\"user_id\")"
   ]
  },
  {
   "cell_type": "code",
   "execution_count": 47,
   "id": "76840e1e",
   "metadata": {},
   "outputs": [
    {
     "name": "stdout",
     "output_type": "stream",
     "text": [
      "<class 'pandas.core.frame.DataFrame'>\n",
      "RangeIndex: 11485424 entries, 0 to 11485423\n",
      "Data columns (total 11 columns):\n",
      " #   Column       Dtype  \n",
      "---  ------       -----  \n",
      " 0   user_id      int64  \n",
      " 1   age          float64\n",
      " 2   sex          float64\n",
      " 3   user_lv_cd   int64  \n",
      " 4   user_reg_tm  object \n",
      " 5   sku_id       int64  \n",
      " 6   time         object \n",
      " 7   model_id     float64\n",
      " 8   type         int64  \n",
      " 9   cate         int64  \n",
      " 10  brand        int64  \n",
      "dtypes: float64(3), int64(6), object(2)\n",
      "memory usage: 963.9+ MB\n"
     ]
    }
   ],
   "source": [
    "user_action_02.info()"
   ]
  },
  {
   "cell_type": "code",
   "execution_count": null,
   "id": "921d8570",
   "metadata": {},
   "outputs": [
    {
     "data": {
      "text/plain": [
       "73299"
      ]
     },
     "execution_count": 51,
     "metadata": {},
     "output_type": "execute_result"
    }
   ],
   "source": [
    "user_action_02.user_id.unique().size\n",
    "# 注册的用户，在02月份没有购买记录"
   ]
  },
  {
   "cell_type": "code",
   "execution_count": 54,
   "id": "33a68b77",
   "metadata": {},
   "outputs": [],
   "source": [
    "user_action_03 = pd.merge(user_file_pd, action_file_03_pd, on=\"user_id\")"
   ]
  },
  {
   "cell_type": "code",
   "execution_count": 55,
   "id": "915e23ab",
   "metadata": {},
   "outputs": [
    {
     "name": "stdout",
     "output_type": "stream",
     "text": [
      "<class 'pandas.core.frame.DataFrame'>\n",
      "RangeIndex: 25916378 entries, 0 to 25916377\n",
      "Data columns (total 11 columns):\n",
      " #   Column       Dtype  \n",
      "---  ------       -----  \n",
      " 0   user_id      int64  \n",
      " 1   age          float64\n",
      " 2   sex          float64\n",
      " 3   user_lv_cd   int64  \n",
      " 4   user_reg_tm  object \n",
      " 5   sku_id       int64  \n",
      " 6   time         object \n",
      " 7   model_id     float64\n",
      " 8   type         int64  \n",
      " 9   cate         int64  \n",
      " 10  brand        int64  \n",
      "dtypes: float64(3), int64(6), object(2)\n",
      "memory usage: 2.1+ GB\n"
     ]
    }
   ],
   "source": [
    "user_action_03.info()"
   ]
  },
  {
   "cell_type": "code",
   "execution_count": null,
   "id": "7f4ff5c2",
   "metadata": {},
   "outputs": [
    {
     "data": {
      "text/plain": [
       "96087"
      ]
     },
     "execution_count": 56,
     "metadata": {},
     "output_type": "execute_result"
    }
   ],
   "source": [
    "user_action_03.user_id.unique().size\n",
    "# 注册的用户，在03月份没有购买记录"
   ]
  },
  {
   "cell_type": "code",
   "execution_count": null,
   "id": "9ffceb35",
   "metadata": {},
   "outputs": [
    {
     "data": {
      "text/plain": [
       "11485424"
      ]
     },
     "execution_count": 61,
     "metadata": {},
     "output_type": "execute_result"
    }
   ],
   "source": [
    "action_file_02_pd.user_id.isin(user_file_pd.user_id).sum()\n",
    "# action_file_02的user_id都在user_file的user_id中"
   ]
  },
  {
   "cell_type": "code",
   "execution_count": null,
   "id": "5c0337f0",
   "metadata": {},
   "outputs": [
    {
     "data": {
      "text/plain": [
       "25916378"
      ]
     },
     "execution_count": 62,
     "metadata": {},
     "output_type": "execute_result"
    }
   ],
   "source": [
    "action_file_03_pd.user_id.isin(user_file_pd.user_id).sum()\n",
    "# action_file_03的user_id都在user_file的user_id中"
   ]
  },
  {
   "cell_type": "code",
   "execution_count": null,
   "id": "619cb8d5",
   "metadata": {},
   "outputs": [
    {
     "data": {
      "text/plain": [
       "13199934"
      ]
     },
     "execution_count": 63,
     "metadata": {},
     "output_type": "execute_result"
    }
   ],
   "source": [
    "action_file_04_pd.user_id.isin(user_file_pd.user_id).sum()\n",
    "# action_file_04的user_id都在user_file的user_id中"
   ]
  },
  {
   "cell_type": "code",
   "execution_count": 64,
   "id": "e7ea6006",
   "metadata": {},
   "outputs": [
    {
     "data": {
      "text/plain": [
       "3194275"
      ]
     },
     "execution_count": 64,
     "metadata": {},
     "output_type": "execute_result"
    }
   ],
   "source": [
    "action_file_02_pd.sku_id.isin(product_file_pd.sku_id).sum()\n",
    "# action_file_02的sku_id都在product_file的sku_id中"
   ]
  },
  {
   "cell_type": "code",
   "execution_count": 65,
   "id": "f72fe680",
   "metadata": {},
   "outputs": [
    {
     "data": {
      "text/plain": [
       "9693970"
      ]
     },
     "execution_count": 65,
     "metadata": {},
     "output_type": "execute_result"
    }
   ],
   "source": [
    "action_file_03_pd.sku_id.isin(product_file_pd.sku_id).sum()\n",
    "# action_file_03的sku_id都在product_file的sku_id中"
   ]
  },
  {
   "cell_type": "code",
   "execution_count": 66,
   "id": "c883501d",
   "metadata": {},
   "outputs": [
    {
     "data": {
      "text/plain": [
       "5239810"
      ]
     },
     "execution_count": 66,
     "metadata": {},
     "output_type": "execute_result"
    }
   ],
   "source": [
    "action_file_04_pd.sku_id.isin(product_file_pd.sku_id).sum()\n",
    "# action_file_04的sku_id都在product_file的sku_id中"
   ]
  },
  {
   "cell_type": "code",
   "execution_count": 70,
   "id": "d94eecd6",
   "metadata": {},
   "outputs": [
    {
     "data": {
      "text/plain": [
       "0            True\n",
       "1            True\n",
       "2            True\n",
       "3            True\n",
       "4           False\n",
       "            ...  \n",
       "11485419     True\n",
       "11485420    False\n",
       "11485421     True\n",
       "11485422     True\n",
       "11485423     True\n",
       "Name: sku_id, Length: 11485424, dtype: bool"
      ]
     },
     "execution_count": 70,
     "metadata": {},
     "output_type": "execute_result"
    }
   ],
   "source": [
    "action_file_02_pd.sku_id.isin(product_file_pd.sku_id)\n",
    "# action_file_02的sku_id都在product_file的sku_id中"
   ]
  },
  {
   "cell_type": "code",
   "execution_count": 76,
   "id": "2878f46d",
   "metadata": {},
   "outputs": [
    {
     "data": {
      "text/html": [
       "<div>\n",
       "<style scoped>\n",
       "    .dataframe tbody tr th:only-of-type {\n",
       "        vertical-align: middle;\n",
       "    }\n",
       "\n",
       "    .dataframe tbody tr th {\n",
       "        vertical-align: top;\n",
       "    }\n",
       "\n",
       "    .dataframe thead th {\n",
       "        text-align: right;\n",
       "    }\n",
       "</style>\n",
       "<table border=\"1\" class=\"dataframe\">\n",
       "  <thead>\n",
       "    <tr style=\"text-align: right;\">\n",
       "      <th></th>\n",
       "      <th>user_id</th>\n",
       "      <th>sku_id</th>\n",
       "      <th>time</th>\n",
       "      <th>model_id</th>\n",
       "      <th>type</th>\n",
       "      <th>cate</th>\n",
       "      <th>brand</th>\n",
       "    </tr>\n",
       "  </thead>\n",
       "  <tbody>\n",
       "    <tr>\n",
       "      <th>0</th>\n",
       "      <td>266079</td>\n",
       "      <td>138778</td>\n",
       "      <td>2016-01-31 23:59:02</td>\n",
       "      <td>NaN</td>\n",
       "      <td>1</td>\n",
       "      <td>8</td>\n",
       "      <td>403</td>\n",
       "    </tr>\n",
       "    <tr>\n",
       "      <th>1</th>\n",
       "      <td>266079</td>\n",
       "      <td>138778</td>\n",
       "      <td>2016-01-31 23:59:03</td>\n",
       "      <td>0.0</td>\n",
       "      <td>6</td>\n",
       "      <td>8</td>\n",
       "      <td>403</td>\n",
       "    </tr>\n",
       "    <tr>\n",
       "      <th>2</th>\n",
       "      <td>200719</td>\n",
       "      <td>61226</td>\n",
       "      <td>2016-01-31 23:59:07</td>\n",
       "      <td>NaN</td>\n",
       "      <td>1</td>\n",
       "      <td>8</td>\n",
       "      <td>30</td>\n",
       "    </tr>\n",
       "    <tr>\n",
       "      <th>3</th>\n",
       "      <td>200719</td>\n",
       "      <td>61226</td>\n",
       "      <td>2016-01-31 23:59:08</td>\n",
       "      <td>0.0</td>\n",
       "      <td>6</td>\n",
       "      <td>8</td>\n",
       "      <td>30</td>\n",
       "    </tr>\n",
       "    <tr>\n",
       "      <th>13</th>\n",
       "      <td>209278</td>\n",
       "      <td>6998</td>\n",
       "      <td>2016-01-31 23:59:25</td>\n",
       "      <td>0.0</td>\n",
       "      <td>6</td>\n",
       "      <td>8</td>\n",
       "      <td>545</td>\n",
       "    </tr>\n",
       "    <tr>\n",
       "      <th>...</th>\n",
       "      <td>...</td>\n",
       "      <td>...</td>\n",
       "      <td>...</td>\n",
       "      <td>...</td>\n",
       "      <td>...</td>\n",
       "      <td>...</td>\n",
       "      <td>...</td>\n",
       "    </tr>\n",
       "    <tr>\n",
       "      <th>11485418</th>\n",
       "      <td>213906</td>\n",
       "      <td>103132</td>\n",
       "      <td>2016-02-29 23:59:59</td>\n",
       "      <td>217.0</td>\n",
       "      <td>6</td>\n",
       "      <td>8</td>\n",
       "      <td>545</td>\n",
       "    </tr>\n",
       "    <tr>\n",
       "      <th>11485419</th>\n",
       "      <td>213906</td>\n",
       "      <td>103132</td>\n",
       "      <td>2016-02-29 23:59:59</td>\n",
       "      <td>216.0</td>\n",
       "      <td>6</td>\n",
       "      <td>8</td>\n",
       "      <td>545</td>\n",
       "    </tr>\n",
       "    <tr>\n",
       "      <th>11485421</th>\n",
       "      <td>213906</td>\n",
       "      <td>103132</td>\n",
       "      <td>2016-02-29 23:59:59</td>\n",
       "      <td>0.0</td>\n",
       "      <td>6</td>\n",
       "      <td>8</td>\n",
       "      <td>545</td>\n",
       "    </tr>\n",
       "    <tr>\n",
       "      <th>11485422</th>\n",
       "      <td>213906</td>\n",
       "      <td>103132</td>\n",
       "      <td>2016-02-29 23:59:59</td>\n",
       "      <td>0.0</td>\n",
       "      <td>6</td>\n",
       "      <td>8</td>\n",
       "      <td>545</td>\n",
       "    </tr>\n",
       "    <tr>\n",
       "      <th>11485423</th>\n",
       "      <td>213906</td>\n",
       "      <td>103132</td>\n",
       "      <td>2016-02-29 23:59:59</td>\n",
       "      <td>217.0</td>\n",
       "      <td>6</td>\n",
       "      <td>8</td>\n",
       "      <td>545</td>\n",
       "    </tr>\n",
       "  </tbody>\n",
       "</table>\n",
       "<p>3194275 rows × 7 columns</p>\n",
       "</div>"
      ],
      "text/plain": [
       "          user_id  sku_id                 time  model_id  type  cate  brand\n",
       "0          266079  138778  2016-01-31 23:59:02       NaN     1     8    403\n",
       "1          266079  138778  2016-01-31 23:59:03       0.0     6     8    403\n",
       "2          200719   61226  2016-01-31 23:59:07       NaN     1     8     30\n",
       "3          200719   61226  2016-01-31 23:59:08       0.0     6     8     30\n",
       "13         209278    6998  2016-01-31 23:59:25       0.0     6     8    545\n",
       "...           ...     ...                  ...       ...   ...   ...    ...\n",
       "11485418   213906  103132  2016-02-29 23:59:59     217.0     6     8    545\n",
       "11485419   213906  103132  2016-02-29 23:59:59     216.0     6     8    545\n",
       "11485421   213906  103132  2016-02-29 23:59:59       0.0     6     8    545\n",
       "11485422   213906  103132  2016-02-29 23:59:59       0.0     6     8    545\n",
       "11485423   213906  103132  2016-02-29 23:59:59     217.0     6     8    545\n",
       "\n",
       "[3194275 rows x 7 columns]"
      ]
     },
     "execution_count": 76,
     "metadata": {},
     "output_type": "execute_result"
    }
   ],
   "source": [
    "action_file_02_pd[action_file_02_pd.sku_id.isin(product_file_pd.sku_id)]\n",
    "# action_file_02的sku_id都在product_file的sku_id中"
   ]
  },
  {
   "cell_type": "code",
   "execution_count": 72,
   "id": "62717356",
   "metadata": {},
   "outputs": [
    {
     "data": {
      "text/html": [
       "<div>\n",
       "<style scoped>\n",
       "    .dataframe tbody tr th:only-of-type {\n",
       "        vertical-align: middle;\n",
       "    }\n",
       "\n",
       "    .dataframe tbody tr th {\n",
       "        vertical-align: top;\n",
       "    }\n",
       "\n",
       "    .dataframe thead th {\n",
       "        text-align: right;\n",
       "    }\n",
       "</style>\n",
       "<table border=\"1\" class=\"dataframe\">\n",
       "  <thead>\n",
       "    <tr style=\"text-align: right;\">\n",
       "      <th></th>\n",
       "      <th>user_id</th>\n",
       "      <th>sku_id</th>\n",
       "      <th>time</th>\n",
       "      <th>model_id</th>\n",
       "      <th>type</th>\n",
       "      <th>cate</th>\n",
       "      <th>brand</th>\n",
       "    </tr>\n",
       "  </thead>\n",
       "  <tbody>\n",
       "    <tr>\n",
       "      <th>4</th>\n",
       "      <td>263587</td>\n",
       "      <td>72348</td>\n",
       "      <td>2016-01-31 23:59:08</td>\n",
       "      <td>NaN</td>\n",
       "      <td>1</td>\n",
       "      <td>5</td>\n",
       "      <td>159</td>\n",
       "    </tr>\n",
       "    <tr>\n",
       "      <th>5</th>\n",
       "      <td>296130</td>\n",
       "      <td>103126</td>\n",
       "      <td>2016-01-31 23:59:11</td>\n",
       "      <td>NaN</td>\n",
       "      <td>1</td>\n",
       "      <td>4</td>\n",
       "      <td>174</td>\n",
       "    </tr>\n",
       "    <tr>\n",
       "      <th>6</th>\n",
       "      <td>296130</td>\n",
       "      <td>103126</td>\n",
       "      <td>2016-01-31 23:59:11</td>\n",
       "      <td>0.0</td>\n",
       "      <td>6</td>\n",
       "      <td>4</td>\n",
       "      <td>174</td>\n",
       "    </tr>\n",
       "    <tr>\n",
       "      <th>7</th>\n",
       "      <td>296130</td>\n",
       "      <td>103126</td>\n",
       "      <td>2016-01-31 23:59:11</td>\n",
       "      <td>0.0</td>\n",
       "      <td>6</td>\n",
       "      <td>4</td>\n",
       "      <td>174</td>\n",
       "    </tr>\n",
       "    <tr>\n",
       "      <th>8</th>\n",
       "      <td>217892</td>\n",
       "      <td>137328</td>\n",
       "      <td>2016-01-31 23:59:14</td>\n",
       "      <td>111.0</td>\n",
       "      <td>6</td>\n",
       "      <td>6</td>\n",
       "      <td>159</td>\n",
       "    </tr>\n",
       "    <tr>\n",
       "      <th>...</th>\n",
       "      <td>...</td>\n",
       "      <td>...</td>\n",
       "      <td>...</td>\n",
       "      <td>...</td>\n",
       "      <td>...</td>\n",
       "      <td>...</td>\n",
       "      <td>...</td>\n",
       "    </tr>\n",
       "    <tr>\n",
       "      <th>11485398</th>\n",
       "      <td>278856</td>\n",
       "      <td>153390</td>\n",
       "      <td>2016-02-29 23:59:56</td>\n",
       "      <td>211.0</td>\n",
       "      <td>6</td>\n",
       "      <td>7</td>\n",
       "      <td>157</td>\n",
       "    </tr>\n",
       "    <tr>\n",
       "      <th>11485399</th>\n",
       "      <td>278856</td>\n",
       "      <td>153390</td>\n",
       "      <td>2016-02-29 23:59:56</td>\n",
       "      <td>218.0</td>\n",
       "      <td>6</td>\n",
       "      <td>7</td>\n",
       "      <td>157</td>\n",
       "    </tr>\n",
       "    <tr>\n",
       "      <th>11485400</th>\n",
       "      <td>263603</td>\n",
       "      <td>114890</td>\n",
       "      <td>2016-02-29 23:59:56</td>\n",
       "      <td>NaN</td>\n",
       "      <td>1</td>\n",
       "      <td>9</td>\n",
       "      <td>640</td>\n",
       "    </tr>\n",
       "    <tr>\n",
       "      <th>11485401</th>\n",
       "      <td>263603</td>\n",
       "      <td>114890</td>\n",
       "      <td>2016-02-29 23:59:56</td>\n",
       "      <td>0.0</td>\n",
       "      <td>6</td>\n",
       "      <td>9</td>\n",
       "      <td>640</td>\n",
       "    </tr>\n",
       "    <tr>\n",
       "      <th>11485420</th>\n",
       "      <td>301058</td>\n",
       "      <td>20869</td>\n",
       "      <td>2016-02-29 23:59:59</td>\n",
       "      <td>NaN</td>\n",
       "      <td>2</td>\n",
       "      <td>9</td>\n",
       "      <td>630</td>\n",
       "    </tr>\n",
       "  </tbody>\n",
       "</table>\n",
       "<p>8291149 rows × 7 columns</p>\n",
       "</div>"
      ],
      "text/plain": [
       "          user_id  sku_id                 time  model_id  type  cate  brand\n",
       "4          263587   72348  2016-01-31 23:59:08       NaN     1     5    159\n",
       "5          296130  103126  2016-01-31 23:59:11       NaN     1     4    174\n",
       "6          296130  103126  2016-01-31 23:59:11       0.0     6     4    174\n",
       "7          296130  103126  2016-01-31 23:59:11       0.0     6     4    174\n",
       "8          217892  137328  2016-01-31 23:59:14     111.0     6     6    159\n",
       "...           ...     ...                  ...       ...   ...   ...    ...\n",
       "11485398   278856  153390  2016-02-29 23:59:56     211.0     6     7    157\n",
       "11485399   278856  153390  2016-02-29 23:59:56     218.0     6     7    157\n",
       "11485400   263603  114890  2016-02-29 23:59:56       NaN     1     9    640\n",
       "11485401   263603  114890  2016-02-29 23:59:56       0.0     6     9    640\n",
       "11485420   301058   20869  2016-02-29 23:59:59       NaN     2     9    630\n",
       "\n",
       "[8291149 rows x 7 columns]"
      ]
     },
     "execution_count": 72,
     "metadata": {},
     "output_type": "execute_result"
    }
   ],
   "source": [
    "action_file_02_pd[~action_file_02_pd.sku_id.isin(product_file_pd.sku_id)]\n",
    "# action_file_02的sku_id都在product_file的sku_id中"
   ]
  },
  {
   "cell_type": "code",
   "execution_count": 80,
   "id": "56d88f51",
   "metadata": {},
   "outputs": [
    {
     "data": {
      "text/plain": [
       "False"
      ]
     },
     "execution_count": 80,
     "metadata": {},
     "output_type": "execute_result"
    }
   ],
   "source": [
    "72348 in product_file_pd.sku_id.values"
   ]
  },
  {
   "cell_type": "code",
   "execution_count": 82,
   "id": "e961e447",
   "metadata": {},
   "outputs": [
    {
     "data": {
      "text/plain": [
       "81960"
      ]
     },
     "execution_count": 82,
     "metadata": {},
     "output_type": "execute_result"
    }
   ],
   "source": [
    "comment_file_pd.sku_id.isin(product_file_pd.sku_id).sum()"
   ]
  },
  {
   "cell_type": "code",
   "execution_count": 34,
   "id": "fad61490",
   "metadata": {},
   "outputs": [
    {
     "data": {
      "text/plain": [
       "11485424"
      ]
     },
     "execution_count": 34,
     "metadata": {},
     "output_type": "execute_result"
    }
   ],
   "source": [
    "action_file_02_pd.user_id.isin(user_file_pd.user_id).sum()"
   ]
  },
  {
   "cell_type": "code",
   "execution_count": 35,
   "id": "be3875e1",
   "metadata": {},
   "outputs": [
    {
     "data": {
      "text/plain": [
       "25916378"
      ]
     },
     "execution_count": 35,
     "metadata": {},
     "output_type": "execute_result"
    }
   ],
   "source": [
    "action_file_03_pd.user_id.isin(user_file_pd.user_id).sum()"
   ]
  },
  {
   "cell_type": "code",
   "execution_count": 36,
   "id": "8deffa85",
   "metadata": {},
   "outputs": [
    {
     "data": {
      "text/plain": [
       "13199934"
      ]
     },
     "execution_count": 36,
     "metadata": {},
     "output_type": "execute_result"
    }
   ],
   "source": [
    "action_file_04_pd.user_id.isin(user_file_pd.user_id).sum()"
   ]
  },
  {
   "cell_type": "markdown",
   "id": "c74b4815",
   "metadata": {},
   "source": [
    "删除重复数据"
   ]
  },
  {
   "cell_type": "code",
   "execution_count": 43,
   "id": "70a9b459",
   "metadata": {},
   "outputs": [],
   "source": [
    "def drop_duplicate_record(data, file_name):\n",
    "    num_before = data.shape[0]\n",
    "\n",
    "    data_new = data.drop_duplicates()\n",
    "\n",
    "    num_after = data_new.shape[0]\n",
    "    num_drop = num_before - num_after\n",
    "\n",
    "    print(f\"数据文件 {file_name}，删除重复记录：{num_drop} 条\")\n",
    "\n",
    "    return data_new\n"
   ]
  },
  {
   "cell_type": "code",
   "execution_count": 38,
   "id": "c5cf5ecc",
   "metadata": {},
   "outputs": [
    {
     "name": "stdout",
     "output_type": "stream",
     "text": [
      "数据文件 JData_User.csv，删除重复记录：0 条\n"
     ]
    }
   ],
   "source": [
    "user_file_new = drop_duplicate_record(user_file_pd, \"JData_User.csv\")"
   ]
  },
  {
   "cell_type": "code",
   "execution_count": 39,
   "id": "c1c24e21",
   "metadata": {},
   "outputs": [
    {
     "name": "stdout",
     "output_type": "stream",
     "text": [
      "数据文件 JData_Product.csv，删除重复记录：0 条\n"
     ]
    }
   ],
   "source": [
    "product_file_new = drop_duplicate_record(product_file_pd, \"JData_Product.csv\")"
   ]
  },
  {
   "cell_type": "code",
   "execution_count": 40,
   "id": "ea7b1287",
   "metadata": {},
   "outputs": [
    {
     "name": "stdout",
     "output_type": "stream",
     "text": [
      "数据文件 JData_Comment.csv，删除重复记录：0 条\n"
     ]
    }
   ],
   "source": [
    "comment_file_new = drop_duplicate_record(comment_file_pd, \"JData_Comment.csv\")"
   ]
  },
  {
   "cell_type": "code",
   "execution_count": 44,
   "id": "c8427522",
   "metadata": {},
   "outputs": [
    {
     "name": "stdout",
     "output_type": "stream",
     "text": [
      "数据文件 JData_Action_201602.csv，删除重复记录：2756093 条\n"
     ]
    }
   ],
   "source": [
    "action_02_new = drop_duplicate_record(action_file_02_pd, \"JData_Action_201602.csv\")"
   ]
  },
  {
   "cell_type": "code",
   "execution_count": 45,
   "id": "24f60acb",
   "metadata": {},
   "outputs": [
    {
     "name": "stdout",
     "output_type": "stream",
     "text": [
      "数据文件 JData_Action_201603.csv，删除重复记录：7085038 条\n"
     ]
    }
   ],
   "source": [
    "action_03_new = drop_duplicate_record(action_file_03_pd, \"JData_Action_201603.csv\")"
   ]
  },
  {
   "cell_type": "code",
   "execution_count": 46,
   "id": "f6534e3b",
   "metadata": {},
   "outputs": [
    {
     "name": "stdout",
     "output_type": "stream",
     "text": [
      "数据文件 JData_Action_201604.csv，删除重复记录：3672710 条\n"
     ]
    }
   ],
   "source": [
    "action_04_new = drop_duplicate_record(action_file_04_pd, \"JData_Action_201604.csv\")"
   ]
  },
  {
   "cell_type": "code",
   "execution_count": 47,
   "id": "ff7c3cf2",
   "metadata": {},
   "outputs": [
    {
     "data": {
      "text/html": [
       "<div>\n",
       "<style scoped>\n",
       "    .dataframe tbody tr th:only-of-type {\n",
       "        vertical-align: middle;\n",
       "    }\n",
       "\n",
       "    .dataframe tbody tr th {\n",
       "        vertical-align: top;\n",
       "    }\n",
       "\n",
       "    .dataframe thead th {\n",
       "        text-align: right;\n",
       "    }\n",
       "</style>\n",
       "<table border=\"1\" class=\"dataframe\">\n",
       "  <thead>\n",
       "    <tr style=\"text-align: right;\">\n",
       "      <th></th>\n",
       "      <th>user_id</th>\n",
       "      <th>age</th>\n",
       "      <th>sex</th>\n",
       "      <th>user_lv_cd</th>\n",
       "    </tr>\n",
       "  </thead>\n",
       "  <tbody>\n",
       "    <tr>\n",
       "      <th>count</th>\n",
       "      <td>105321.000000</td>\n",
       "      <td>105318.000000</td>\n",
       "      <td>105318.000000</td>\n",
       "      <td>105321.000000</td>\n",
       "    </tr>\n",
       "    <tr>\n",
       "      <th>mean</th>\n",
       "      <td>252661.000000</td>\n",
       "      <td>2.773448</td>\n",
       "      <td>1.112887</td>\n",
       "      <td>3.850030</td>\n",
       "    </tr>\n",
       "    <tr>\n",
       "      <th>std</th>\n",
       "      <td>30403.698188</td>\n",
       "      <td>1.672182</td>\n",
       "      <td>0.955930</td>\n",
       "      <td>1.071505</td>\n",
       "    </tr>\n",
       "    <tr>\n",
       "      <th>min</th>\n",
       "      <td>200001.000000</td>\n",
       "      <td>-1.000000</td>\n",
       "      <td>0.000000</td>\n",
       "      <td>1.000000</td>\n",
       "    </tr>\n",
       "    <tr>\n",
       "      <th>25%</th>\n",
       "      <td>226331.000000</td>\n",
       "      <td>3.000000</td>\n",
       "      <td>0.000000</td>\n",
       "      <td>3.000000</td>\n",
       "    </tr>\n",
       "    <tr>\n",
       "      <th>50%</th>\n",
       "      <td>252661.000000</td>\n",
       "      <td>3.000000</td>\n",
       "      <td>2.000000</td>\n",
       "      <td>4.000000</td>\n",
       "    </tr>\n",
       "    <tr>\n",
       "      <th>75%</th>\n",
       "      <td>278991.000000</td>\n",
       "      <td>4.000000</td>\n",
       "      <td>2.000000</td>\n",
       "      <td>5.000000</td>\n",
       "    </tr>\n",
       "    <tr>\n",
       "      <th>max</th>\n",
       "      <td>305321.000000</td>\n",
       "      <td>6.000000</td>\n",
       "      <td>2.000000</td>\n",
       "      <td>5.000000</td>\n",
       "    </tr>\n",
       "  </tbody>\n",
       "</table>\n",
       "</div>"
      ],
      "text/plain": [
       "             user_id            age            sex     user_lv_cd\n",
       "count  105321.000000  105318.000000  105318.000000  105321.000000\n",
       "mean   252661.000000       2.773448       1.112887       3.850030\n",
       "std     30403.698188       1.672182       0.955930       1.071505\n",
       "min    200001.000000      -1.000000       0.000000       1.000000\n",
       "25%    226331.000000       3.000000       0.000000       3.000000\n",
       "50%    252661.000000       3.000000       2.000000       4.000000\n",
       "75%    278991.000000       4.000000       2.000000       5.000000\n",
       "max    305321.000000       6.000000       2.000000       5.000000"
      ]
     },
     "execution_count": 47,
     "metadata": {},
     "output_type": "execute_result"
    }
   ],
   "source": [
    "user_file_new.describe()"
   ]
  }
 ],
 "metadata": {
  "kernelspec": {
   "display_name": "Python 3",
   "language": "python",
   "name": "python3"
  },
  "language_info": {
   "codemirror_mode": {
    "name": "ipython",
    "version": 3
   },
   "file_extension": ".py",
   "mimetype": "text/x-python",
   "name": "python",
   "nbconvert_exporter": "python",
   "pygments_lexer": "ipython3",
   "version": "3.12.3"
  }
 },
 "nbformat": 4,
 "nbformat_minor": 5
}
