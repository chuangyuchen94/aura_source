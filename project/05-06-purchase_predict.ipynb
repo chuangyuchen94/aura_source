{
 "cells": [
  {
   "cell_type": "code",
   "execution_count": 1,
   "id": "3a5c2d96",
   "metadata": {},
   "outputs": [],
   "source": [
    "import pandas as pd"
   ]
  },
  {
   "cell_type": "code",
   "execution_count": 2,
   "id": "a5cd4ff0",
   "metadata": {},
   "outputs": [],
   "source": [
    "user_file = \"../data/jddata/JDdata_user.csv\"\n",
    "product_file = \"../data/jddata/JDdata_product.csv\"\n",
    "comment_file = \"../data/jddata/JDdata_comment.csv\"\n",
    "action_file_02 = \"../data/jddata/JData_Action_201602.csv\"\n",
    "action_file_03 = \"../data/jddata/JData_Action_201603.csv\"\n",
    "action_file_04 = \"../data/jddata/JData_Action_201604.csv\""
   ]
  },
  {
   "cell_type": "code",
   "execution_count": null,
   "id": "f3dae94e",
   "metadata": {},
   "outputs": [],
   "source": []
  }
 ],
 "metadata": {
  "kernelspec": {
   "display_name": "base",
   "language": "python",
   "name": "python3"
  },
  "language_info": {
   "codemirror_mode": {
    "name": "ipython",
    "version": 3
   },
   "file_extension": ".py",
   "mimetype": "text/x-python",
   "name": "python",
   "nbconvert_exporter": "python",
   "pygments_lexer": "ipython3",
   "version": "3.12.3"
  }
 },
 "nbformat": 4,
 "nbformat_minor": 5
}
