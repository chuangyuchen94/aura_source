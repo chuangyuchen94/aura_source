{
 "cells": [
  {
   "cell_type": "code",
   "execution_count": 26,
   "id": "4581f671",
   "metadata": {},
   "outputs": [],
   "source": [
    "import sqlite3"
   ]
  },
  {
   "cell_type": "code",
   "execution_count": 6,
   "id": "ca858bc8",
   "metadata": {},
   "outputs": [],
   "source": [
    "import pandas as pd\n",
    "\n",
    "def load_data(path=None):\n",
    "    if path is None:\n",
    "        path = \"../data/train_triplets.txt\"\n",
    "\n",
    "    data = pd.read_csv(path, sep=\"\\t\", names=[\"user_id\", \"song_id\", \"play_count\"])\n",
    "    print(data.head(5))\n",
    "\n",
    "    return data"
   ]
  },
  {
   "cell_type": "code",
   "execution_count": 7,
   "id": "032ea96a",
   "metadata": {},
   "outputs": [
    {
     "name": "stdout",
     "output_type": "stream",
     "text": [
      "                                    user_id             song_id  play_count\n",
      "0  b80344d063b5ccb3212f76538f3d9e43d87dca9e  SOAKIMP12A8C130995           1\n",
      "1  b80344d063b5ccb3212f76538f3d9e43d87dca9e  SOAPDEY12A81C210A9           1\n",
      "2  b80344d063b5ccb3212f76538f3d9e43d87dca9e  SOBBMDR12A8C13253B           2\n",
      "3  b80344d063b5ccb3212f76538f3d9e43d87dca9e  SOBFNSP12AF72A0E22           1\n",
      "4  b80344d063b5ccb3212f76538f3d9e43d87dca9e  SOBFOVM12A58A7D494           1\n"
     ]
    }
   ],
   "source": [
    "data = load_data()"
   ]
  },
  {
   "cell_type": "code",
   "execution_count": 8,
   "id": "96d8d671",
   "metadata": {},
   "outputs": [
    {
     "name": "stdout",
     "output_type": "stream",
     "text": [
      "(48373586, 3)\n"
     ]
    }
   ],
   "source": [
    "print(data.shape)"
   ]
  },
  {
   "cell_type": "code",
   "execution_count": 21,
   "id": "bb8a6ff7",
   "metadata": {},
   "outputs": [],
   "source": [
    "def analyse_play_count_by(data, column_to_group, column_to_sum, ascending=False):\n",
    "    result = data.groupby(column_to_group)[column_to_sum].sum().reset_index()\n",
    "    result = result.sort_values(by=column_to_sum, ascending=ascending)\n",
    "    return result"
   ]
  },
  {
   "cell_type": "code",
   "execution_count": 22,
   "id": "5adc00f4",
   "metadata": {},
   "outputs": [
    {
     "name": "stdout",
     "output_type": "stream",
     "text": [
      "                                         user_id  play_count\n",
      "36591   093cb74eb3c517c5179ae24caf0ebec51b24d2a2       13132\n",
      "69497   119b7c88d58d0c6eb051365c103da5caf817bea6        9884\n",
      "252820  3fa44653315697f42410a30cb766a4eb102080bb        8210\n",
      "646483  a2679496cd0af9779a92a13ff7c6af5c81ea8c7b        7015\n",
      "859158  d7d2d888ae04d16e994d6964214a1de81392ee04        6494\n"
     ]
    }
   ],
   "source": [
    "play_count_by_user = analyse_play_count_by(data, \"user_id\", \"play_count\", False)\n",
    "print(play_count_by_user.head(5))"
   ]
  },
  {
   "cell_type": "code",
   "execution_count": 23,
   "id": "2db4a5ea",
   "metadata": {},
   "outputs": [
    {
     "name": "stdout",
     "output_type": "stream",
     "text": [
      "                   song_id  play_count\n",
      "25043   SOBONKR12A58A7A7E0      726885\n",
      "12936   SOAUWYT12A81C206F1      648239\n",
      "287415  SOSXLTC12AF72A7F54      527893\n",
      "90798   SOFRQTD12A81C233C0      425463\n",
      "67917   SOEGIYH12A6D4FC0E3      389880\n"
     ]
    }
   ],
   "source": [
    "play_count_by_song = analyse_play_count_by(data, \"song_id\", \"play_count\", False)\n",
    "print(play_count_by_song.head(5))"
   ]
  },
  {
   "cell_type": "code",
   "execution_count": 25,
   "id": "0881712c",
   "metadata": {},
   "outputs": [
    {
     "name": "stdout",
     "output_type": "stream",
     "text": [
      "(100000, 2)\n",
      "(30000, 2)\n"
     ]
    }
   ],
   "source": [
    "# 取前10W个用户、前3W首歌曲\n",
    "user_id_list = play_count_by_user.head(100000)\n",
    "song_id_list = play_count_by_song.head(30000)\n",
    "\n",
    "print(user_id_list.shape)\n",
    "print(song_id_list.shape)"
   ]
  },
  {
   "cell_type": "code",
   "execution_count": 31,
   "id": "fb690831",
   "metadata": {},
   "outputs": [],
   "source": [
    "# 读取歌曲详细信息数据\n",
    "# 处理 track_metadata.db\n",
    "db_file = \"../data/track_metadata.db\"\n",
    "# cursor.execute(\"SELECT name FROM sqlite_master WHERE type='table';\")\n",
    "# table_names = cursor.fetchall()\n",
    "# print(\"数据库中的表:\", table_names)\n",
    "# 获取表的创建语句\n",
    "# sql_column = \"select sql from sqlite_master where type='table' and name='songs'\"\n",
    "# cursor.execute(sql_column)\n",
    "# create_statement = cursor.fetchall()[0]\n",
    "# print(f\"表songs的创建语句：{create_statement}\")\n",
    "\n",
    "# head_sql = \"select * from songs limit 5\"\n",
    "# cursor.execute(head_sql)\n",
    "# result = cursor.fetchall()\n",
    "# print(f\"songs表的前5行数据：{result}\")\n",
    "\n",
    "def get_song_info(db_file, table_name, column_names, condition):\n",
    "    conn = sqlite3.connect(db_file)\n",
    "    cursor = conn.cursor()\n",
    "\n",
    "    sql = \"\"\n",
    "    if 1 == len(column_names):\n",
    "        sql = f\"select {column_names} from {table_name} where condition\"\n",
    "    else:\n",
    "        sql = f\"select {\", \".join(column_names)} from {table_name} where condition\"\n",
    "    \n",
    "    cursor.execute(sql)\n",
    "    result = cursor.fetchall()\n",
    "\n",
    "    cursor.close()\n",
    "    conn.close()\n",
    "\n",
    "    return result\n"
   ]
  },
  {
   "cell_type": "code",
   "execution_count": null,
   "id": "f1b9de3d",
   "metadata": {},
   "outputs": [],
   "source": [
    "# 统计歌曲相似度\n",
    "def calc_song_played_user_count(song_played_id, play_data):\n",
    "    song_played_user_list = play_data[play_data[\"song_id\"] == song_played_id][\"user_id\"].to_list()\n",
    "    # song_played_user_count = len(song_played_user_list)\n",
    "\n",
    "    return song_played_user_list\n",
    "\n",
    "def calc_similarity(song_played_id, recommend_list, play_data):\n",
    "    \"\"\"\n",
    "    根据用户的播放记录，统计已播放歌曲，与推荐列表中的歌曲的相似度\n",
    "    \"\"\"\n",
    "    similarity_list = []\n",
    "    song_played_user_list = calc_song_played_user_count(song_played_id, play_data)\n",
    "\n",
    "    for song_id in recommend_list:\n",
    "        song_played_list = calc_song_played_user_count(song_id, play_data)\n",
    "\n",
    "        common_count = len(set(song_played_user_list) & set(song_played_list))\n",
    "        total_count = len(set(song_played_user_list) | set(song_played_list))\n",
    "\n",
    "        similarity_list.append(common_count / total_count)\n",
    "\n",
    "    return similarity_list, max(similarity_list)\n",
    "\n",
    "unique_hot_song = play_count_by_song[\"song_id\"].unique()\n",
    "hot_play_data = data.loc[data[\"user_id\"].isin(user_id_list[\"user_id\"])]\n",
    "result, most_recomend_song_id = calc_similarity(\"SOBONKR12A58A7A7E0\", unique_hot_song, hot_play_data)\n",
    "\n",
    "print(result)"
   ]
  }
 ],
 "metadata": {
  "kernelspec": {
   "display_name": "base",
   "language": "python",
   "name": "python3"
  },
  "language_info": {
   "codemirror_mode": {
    "name": "ipython",
    "version": 3
   },
   "file_extension": ".py",
   "mimetype": "text/x-python",
   "name": "python",
   "nbconvert_exporter": "python",
   "pygments_lexer": "ipython3",
   "version": "3.12.7"
  }
 },
 "nbformat": 4,
 "nbformat_minor": 5
}
