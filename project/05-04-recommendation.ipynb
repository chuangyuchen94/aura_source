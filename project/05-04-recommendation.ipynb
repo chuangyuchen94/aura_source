{
 "cells": [
  {
   "cell_type": "code",
   "execution_count": 26,
   "id": "4581f671",
   "metadata": {},
   "outputs": [],
   "source": [
    "import sqlite3"
   ]
  },
  {
   "cell_type": "code",
   "execution_count": 6,
   "id": "ca858bc8",
   "metadata": {},
   "outputs": [],
   "source": [
    "import pandas as pd\n",
    "\n",
    "def load_data(path=None):\n",
    "    if path is None:\n",
    "        path = \"../data/train_triplets.txt\"\n",
    "\n",
    "    data = pd.read_csv(path, sep=\"\\t\", names=[\"user_id\", \"song_id\", \"play_count\"])\n",
    "    print(data.head(5))\n",
    "\n",
    "    return data"
   ]
  },
  {
   "cell_type": "code",
   "execution_count": 7,
   "id": "032ea96a",
   "metadata": {},
   "outputs": [
    {
     "name": "stdout",
     "output_type": "stream",
     "text": [
      "                                    user_id             song_id  play_count\n",
      "0  b80344d063b5ccb3212f76538f3d9e43d87dca9e  SOAKIMP12A8C130995           1\n",
      "1  b80344d063b5ccb3212f76538f3d9e43d87dca9e  SOAPDEY12A81C210A9           1\n",
      "2  b80344d063b5ccb3212f76538f3d9e43d87dca9e  SOBBMDR12A8C13253B           2\n",
      "3  b80344d063b5ccb3212f76538f3d9e43d87dca9e  SOBFNSP12AF72A0E22           1\n",
      "4  b80344d063b5ccb3212f76538f3d9e43d87dca9e  SOBFOVM12A58A7D494           1\n"
     ]
    }
   ],
   "source": [
    "data = load_data()"
   ]
  },
  {
   "cell_type": "code",
   "execution_count": 8,
   "id": "96d8d671",
   "metadata": {},
   "outputs": [
    {
     "name": "stdout",
     "output_type": "stream",
     "text": [
      "(48373586, 3)\n"
     ]
    }
   ],
   "source": [
    "print(data.shape)"
   ]
  },
  {
   "cell_type": "code",
   "execution_count": 21,
   "id": "bb8a6ff7",
   "metadata": {},
   "outputs": [],
   "source": [
    "def analyse_play_count_by(data, column_to_group, column_to_sum, ascending=False):\n",
    "    result = data.groupby(column_to_group)[column_to_sum].sum().reset_index()\n",
    "    result = result.sort_values(by=column_to_sum, ascending=ascending)\n",
    "    return result"
   ]
  },
  {
   "cell_type": "code",
   "execution_count": 22,
   "id": "5adc00f4",
   "metadata": {},
   "outputs": [
    {
     "name": "stdout",
     "output_type": "stream",
     "text": [
      "                                         user_id  play_count\n",
      "36591   093cb74eb3c517c5179ae24caf0ebec51b24d2a2       13132\n",
      "69497   119b7c88d58d0c6eb051365c103da5caf817bea6        9884\n",
      "252820  3fa44653315697f42410a30cb766a4eb102080bb        8210\n",
      "646483  a2679496cd0af9779a92a13ff7c6af5c81ea8c7b        7015\n",
      "859158  d7d2d888ae04d16e994d6964214a1de81392ee04        6494\n"
     ]
    }
   ],
   "source": [
    "play_count_by_user = analyse_play_count_by(data, \"user_id\", \"play_count\", False)\n",
    "print(play_count_by_user.head(5))"
   ]
  },
  {
   "cell_type": "code",
   "execution_count": 23,
   "id": "2db4a5ea",
   "metadata": {},
   "outputs": [
    {
     "name": "stdout",
     "output_type": "stream",
     "text": [
      "                   song_id  play_count\n",
      "25043   SOBONKR12A58A7A7E0      726885\n",
      "12936   SOAUWYT12A81C206F1      648239\n",
      "287415  SOSXLTC12AF72A7F54      527893\n",
      "90798   SOFRQTD12A81C233C0      425463\n",
      "67917   SOEGIYH12A6D4FC0E3      389880\n"
     ]
    }
   ],
   "source": [
    "play_count_by_song = analyse_play_count_by(data, \"song_id\", \"play_count\", False)\n",
    "print(play_count_by_song.head(5))"
   ]
  },
  {
   "cell_type": "code",
   "execution_count": 25,
   "id": "0881712c",
   "metadata": {},
   "outputs": [
    {
     "name": "stdout",
     "output_type": "stream",
     "text": [
      "(100000, 2)\n",
      "(30000, 2)\n"
     ]
    }
   ],
   "source": [
    "# 取前10W个用户、前3W首歌曲\n",
    "user_id_list = play_count_by_user.head(100000)\n",
    "song_id_list = play_count_by_song.head(30000)\n",
    "\n",
    "print(user_id_list.shape)\n",
    "print(song_id_list.shape)"
   ]
  },
  {
   "cell_type": "code",
   "execution_count": 31,
   "id": "fb690831",
   "metadata": {},
   "outputs": [],
   "source": [
    "# 读取歌曲详细信息数据\n",
    "# 处理 track_metadata.db\n",
    "db_file = \"../data/track_metadata.db\"\n",
    "# cursor.execute(\"SELECT name FROM sqlite_master WHERE type='table';\")\n",
    "# table_names = cursor.fetchall()\n",
    "# print(\"数据库中的表:\", table_names)\n",
    "# 获取表的创建语句\n",
    "# sql_column = \"select sql from sqlite_master where type='table' and name='songs'\"\n",
    "# cursor.execute(sql_column)\n",
    "# create_statement = cursor.fetchall()[0]\n",
    "# print(f\"表songs的创建语句：{create_statement}\")\n",
    "\n",
    "# head_sql = \"select * from songs limit 5\"\n",
    "# cursor.execute(head_sql)\n",
    "# result = cursor.fetchall()\n",
    "# print(f\"songs表的前5行数据：{result}\")\n",
    "\n",
    "def get_song_info(db_file, table_name, column_names, condition):\n",
    "    conn = sqlite3.connect(db_file)\n",
    "    cursor = conn.cursor()\n",
    "\n",
    "    sql = \"\"\n",
    "    if 1 == len(column_names):\n",
    "        sql = f\"select {column_names} from {table_name} where condition\"\n",
    "    else:\n",
    "        sql = f\"select {\", \".join(column_names)} from {table_name} where condition\"\n",
    "    \n",
    "    cursor.execute(sql)\n",
    "    result = cursor.fetchall()\n",
    "\n",
    "    cursor.close()\n",
    "    conn.close()\n",
    "\n",
    "    return result\n"
   ]
  },
  {
   "cell_type": "code",
   "execution_count": 40,
   "id": "f1b9de3d",
   "metadata": {},
   "outputs": [
    {
     "ename": "KeyboardInterrupt",
     "evalue": "",
     "output_type": "error",
     "traceback": [
      "\u001b[1;31m---------------------------------------------------------------------------\u001b[0m",
      "\u001b[1;31mKeyboardInterrupt\u001b[0m                         Traceback (most recent call last)",
      "Cell \u001b[1;32mIn[40], line 27\u001b[0m\n\u001b[0;32m     25\u001b[0m unique_hot_song \u001b[38;5;241m=\u001b[39m play_count_by_song[\u001b[38;5;124m\"\u001b[39m\u001b[38;5;124msong_id\u001b[39m\u001b[38;5;124m\"\u001b[39m]\u001b[38;5;241m.\u001b[39munique()\n\u001b[0;32m     26\u001b[0m hot_play_data \u001b[38;5;241m=\u001b[39m data\u001b[38;5;241m.\u001b[39mloc[data[\u001b[38;5;124m\"\u001b[39m\u001b[38;5;124muser_id\u001b[39m\u001b[38;5;124m\"\u001b[39m]\u001b[38;5;241m.\u001b[39misin(user_id_list[\u001b[38;5;124m\"\u001b[39m\u001b[38;5;124muser_id\u001b[39m\u001b[38;5;124m\"\u001b[39m])]\n\u001b[1;32m---> 27\u001b[0m result \u001b[38;5;241m=\u001b[39m calc_similarity(\u001b[38;5;124m\"\u001b[39m\u001b[38;5;124mSOBONKR12A58A7A7E0\u001b[39m\u001b[38;5;124m\"\u001b[39m, unique_hot_song, hot_play_data)\n\u001b[0;32m     29\u001b[0m \u001b[38;5;28mprint\u001b[39m(result)\n",
      "Cell \u001b[1;32mIn[40], line 16\u001b[0m, in \u001b[0;36mcalc_similarity\u001b[1;34m(song_played_id, recommend_list, play_data)\u001b[0m\n\u001b[0;32m     13\u001b[0m song_played_user_list \u001b[38;5;241m=\u001b[39m calc_song_played_user_count(song_played_id, play_data)\n\u001b[0;32m     15\u001b[0m \u001b[38;5;28;01mfor\u001b[39;00m song_id \u001b[38;5;129;01min\u001b[39;00m recommend_list:\n\u001b[1;32m---> 16\u001b[0m     song_played_list \u001b[38;5;241m=\u001b[39m calc_song_played_user_count(song_id, play_data)\n\u001b[0;32m     18\u001b[0m     common_count \u001b[38;5;241m=\u001b[39m \u001b[38;5;28mlen\u001b[39m(\u001b[38;5;28mset\u001b[39m(song_played_user_list) \u001b[38;5;241m&\u001b[39m \u001b[38;5;28mset\u001b[39m(song_played_list))\n\u001b[0;32m     19\u001b[0m     total_count \u001b[38;5;241m=\u001b[39m \u001b[38;5;28mlen\u001b[39m(\u001b[38;5;28mset\u001b[39m(song_played_user_list) \u001b[38;5;241m|\u001b[39m \u001b[38;5;28mset\u001b[39m(song_played_list))\n",
      "Cell \u001b[1;32mIn[40], line 3\u001b[0m, in \u001b[0;36mcalc_song_played_user_count\u001b[1;34m(song_played_id, play_data)\u001b[0m\n\u001b[0;32m      2\u001b[0m \u001b[38;5;28;01mdef\u001b[39;00m \u001b[38;5;21mcalc_song_played_user_count\u001b[39m(song_played_id, play_data):\n\u001b[1;32m----> 3\u001b[0m     song_played_user_list \u001b[38;5;241m=\u001b[39m play_data[play_data[\u001b[38;5;124m\"\u001b[39m\u001b[38;5;124msong_id\u001b[39m\u001b[38;5;124m\"\u001b[39m] \u001b[38;5;241m==\u001b[39m song_played_id][\u001b[38;5;124m\"\u001b[39m\u001b[38;5;124muser_id\u001b[39m\u001b[38;5;124m\"\u001b[39m]\u001b[38;5;241m.\u001b[39mto_list()\n\u001b[0;32m      4\u001b[0m     \u001b[38;5;66;03m# song_played_user_count = len(song_played_user_list)\u001b[39;00m\n\u001b[0;32m      6\u001b[0m     \u001b[38;5;28;01mreturn\u001b[39;00m song_played_user_list\n",
      "File \u001b[1;32md:\\ProgramData\\anaconda3\\Lib\\site-packages\\pandas\\core\\frame.py:4093\u001b[0m, in \u001b[0;36mDataFrame.__getitem__\u001b[1;34m(self, key)\u001b[0m\n\u001b[0;32m   4091\u001b[0m \u001b[38;5;66;03m# Do we have a (boolean) 1d indexer?\u001b[39;00m\n\u001b[0;32m   4092\u001b[0m \u001b[38;5;28;01mif\u001b[39;00m com\u001b[38;5;241m.\u001b[39mis_bool_indexer(key):\n\u001b[1;32m-> 4093\u001b[0m     \u001b[38;5;28;01mreturn\u001b[39;00m \u001b[38;5;28mself\u001b[39m\u001b[38;5;241m.\u001b[39m_getitem_bool_array(key)\n\u001b[0;32m   4095\u001b[0m \u001b[38;5;66;03m# We are left with two options: a single key, and a collection of keys,\u001b[39;00m\n\u001b[0;32m   4096\u001b[0m \u001b[38;5;66;03m# We interpret tuples as collections only for non-MultiIndex\u001b[39;00m\n\u001b[0;32m   4097\u001b[0m is_single_key \u001b[38;5;241m=\u001b[39m \u001b[38;5;28misinstance\u001b[39m(key, \u001b[38;5;28mtuple\u001b[39m) \u001b[38;5;129;01mor\u001b[39;00m \u001b[38;5;129;01mnot\u001b[39;00m is_list_like(key)\n",
      "File \u001b[1;32md:\\ProgramData\\anaconda3\\Lib\\site-packages\\pandas\\core\\frame.py:4151\u001b[0m, in \u001b[0;36mDataFrame._getitem_bool_array\u001b[1;34m(self, key)\u001b[0m\n\u001b[0;32m   4147\u001b[0m \u001b[38;5;66;03m# check_bool_indexer will throw exception if Series key cannot\u001b[39;00m\n\u001b[0;32m   4148\u001b[0m \u001b[38;5;66;03m# be reindexed to match DataFrame rows\u001b[39;00m\n\u001b[0;32m   4149\u001b[0m key \u001b[38;5;241m=\u001b[39m check_bool_indexer(\u001b[38;5;28mself\u001b[39m\u001b[38;5;241m.\u001b[39mindex, key)\n\u001b[1;32m-> 4151\u001b[0m \u001b[38;5;28;01mif\u001b[39;00m key\u001b[38;5;241m.\u001b[39mall():\n\u001b[0;32m   4152\u001b[0m     \u001b[38;5;28;01mreturn\u001b[39;00m \u001b[38;5;28mself\u001b[39m\u001b[38;5;241m.\u001b[39mcopy(deep\u001b[38;5;241m=\u001b[39m\u001b[38;5;28;01mNone\u001b[39;00m)\n\u001b[0;32m   4154\u001b[0m indexer \u001b[38;5;241m=\u001b[39m key\u001b[38;5;241m.\u001b[39mnonzero()[\u001b[38;5;241m0\u001b[39m]\n",
      "File \u001b[1;32md:\\ProgramData\\anaconda3\\Lib\\site-packages\\numpy\\core\\_methods.py:64\u001b[0m, in \u001b[0;36m_all\u001b[1;34m(a, axis, dtype, out, keepdims, where)\u001b[0m\n\u001b[0;32m     61\u001b[0m \u001b[38;5;28;01mdef\u001b[39;00m \u001b[38;5;21m_all\u001b[39m(a, axis\u001b[38;5;241m=\u001b[39m\u001b[38;5;28;01mNone\u001b[39;00m, dtype\u001b[38;5;241m=\u001b[39m\u001b[38;5;28;01mNone\u001b[39;00m, out\u001b[38;5;241m=\u001b[39m\u001b[38;5;28;01mNone\u001b[39;00m, keepdims\u001b[38;5;241m=\u001b[39m\u001b[38;5;28;01mFalse\u001b[39;00m, \u001b[38;5;241m*\u001b[39m, where\u001b[38;5;241m=\u001b[39m\u001b[38;5;28;01mTrue\u001b[39;00m):\n\u001b[0;32m     62\u001b[0m     \u001b[38;5;66;03m# Parsing keyword arguments is currently fairly slow, so avoid it for now\u001b[39;00m\n\u001b[0;32m     63\u001b[0m     \u001b[38;5;28;01mif\u001b[39;00m where \u001b[38;5;129;01mis\u001b[39;00m \u001b[38;5;28;01mTrue\u001b[39;00m:\n\u001b[1;32m---> 64\u001b[0m         \u001b[38;5;28;01mreturn\u001b[39;00m umr_all(a, axis, dtype, out, keepdims)\n\u001b[0;32m     65\u001b[0m     \u001b[38;5;28;01mreturn\u001b[39;00m umr_all(a, axis, dtype, out, keepdims, where\u001b[38;5;241m=\u001b[39mwhere)\n",
      "\u001b[1;31mKeyboardInterrupt\u001b[0m: "
     ]
    }
   ],
   "source": [
    "# 统计歌曲相似度\n",
    "def calc_song_played_user_count(song_played_id, play_data):\n",
    "    song_played_user_list = play_data[play_data[\"song_id\"] == song_played_id][\"user_id\"].to_list()\n",
    "    # song_played_user_count = len(song_played_user_list)\n",
    "\n",
    "    return song_played_user_list\n",
    "\n",
    "def calc_similarity(song_played_id, recommend_list, play_data):\n",
    "    \"\"\"\n",
    "    根据用户的播放记录，统计已播放歌曲，与推荐列表中的歌曲的相似度\n",
    "    \"\"\"\n",
    "    similarity_list = []\n",
    "    song_played_user_list = calc_song_played_user_count(song_played_id, play_data)\n",
    "\n",
    "    for song_id in recommend_list:\n",
    "        song_played_list = calc_song_played_user_count(song_id, play_data)\n",
    "\n",
    "        common_count = len(set(song_played_user_list) & set(song_played_list))\n",
    "        total_count = len(set(song_played_user_list) | set(song_played_list))\n",
    "\n",
    "        similarity_list.append(common_count / total_count)\n",
    "\n",
    "    return similarity_list, max(similarity_list)\n",
    "\n",
    "unique_hot_song = play_count_by_song[\"song_id\"].unique()\n",
    "hot_play_data = data.loc[data[\"user_id\"].isin(user_id_list[\"user_id\"])]\n",
    "result, most_recomend_song_id = calc_similarity(\"SOBONKR12A58A7A7E0\", unique_hot_song, hot_play_data)\n",
    "\n",
    "print(result)"
   ]
  }
 ],
 "metadata": {
  "kernelspec": {
   "display_name": "base",
   "language": "python",
   "name": "python3"
  },
  "language_info": {
   "codemirror_mode": {
    "name": "ipython",
    "version": 3
   },
   "file_extension": ".py",
   "mimetype": "text/x-python",
   "name": "python",
   "nbconvert_exporter": "python",
   "pygments_lexer": "ipython3",
   "version": "3.12.7"
  }
 },
 "nbformat": 4,
 "nbformat_minor": 5
}
