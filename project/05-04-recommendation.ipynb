{
 "cells": [
  {
   "cell_type": "code",
   "execution_count": 11,
   "id": "4581f671",
   "metadata": {},
   "outputs": [],
   "source": [
    "import sqlite3\n",
    "import numpy as np\n",
    "import time"
   ]
  },
  {
   "cell_type": "code",
   "execution_count": 2,
   "id": "ca858bc8",
   "metadata": {},
   "outputs": [],
   "source": [
    "import pandas as pd\n",
    "\n",
    "def load_data(path=None):\n",
    "    if path is None:\n",
    "        path = \"../data/train_triplets.txt\"\n",
    "\n",
    "    data = pd.read_csv(path, sep=\"\\t\", names=[\"user_id\", \"song_id\", \"play_count\"])\n",
    "    print(data.head(5))\n",
    "\n",
    "    return data"
   ]
  },
  {
   "cell_type": "code",
   "execution_count": 3,
   "id": "032ea96a",
   "metadata": {},
   "outputs": [
    {
     "name": "stdout",
     "output_type": "stream",
     "text": [
      "                                    user_id             song_id  play_count\n",
      "0  b80344d063b5ccb3212f76538f3d9e43d87dca9e  SOAKIMP12A8C130995           1\n",
      "1  b80344d063b5ccb3212f76538f3d9e43d87dca9e  SOAPDEY12A81C210A9           1\n",
      "2  b80344d063b5ccb3212f76538f3d9e43d87dca9e  SOBBMDR12A8C13253B           2\n",
      "3  b80344d063b5ccb3212f76538f3d9e43d87dca9e  SOBFNSP12AF72A0E22           1\n",
      "4  b80344d063b5ccb3212f76538f3d9e43d87dca9e  SOBFOVM12A58A7D494           1\n"
     ]
    }
   ],
   "source": [
    "data = load_data()"
   ]
  },
  {
   "cell_type": "code",
   "execution_count": 4,
   "id": "96d8d671",
   "metadata": {},
   "outputs": [
    {
     "name": "stdout",
     "output_type": "stream",
     "text": [
      "(48373586, 3)\n"
     ]
    }
   ],
   "source": [
    "print(data.shape)"
   ]
  },
  {
   "cell_type": "code",
   "execution_count": null,
   "id": "bb8a6ff7",
   "metadata": {},
   "outputs": [],
   "source": [
    "def analyse_play_count_by(data, column_to_group, column_to_sum, ascending=False):\n",
    "    \"\"\"\n",
    "    按照指定的列分组统计，并进行降序排列\n",
    "    \"\"\"\n",
    "    result = data.groupby(column_to_group)[column_to_sum].sum().reset_index()\n",
    "    result = result.sort_values(by=column_to_sum, ascending=ascending)\n",
    "    return result"
   ]
  },
  {
   "cell_type": "code",
   "execution_count": 6,
   "id": "5adc00f4",
   "metadata": {},
   "outputs": [
    {
     "name": "stdout",
     "output_type": "stream",
     "text": [
      "                                         user_id  play_count\n",
      "36591   093cb74eb3c517c5179ae24caf0ebec51b24d2a2       13132\n",
      "69497   119b7c88d58d0c6eb051365c103da5caf817bea6        9884\n",
      "252820  3fa44653315697f42410a30cb766a4eb102080bb        8210\n",
      "646483  a2679496cd0af9779a92a13ff7c6af5c81ea8c7b        7015\n",
      "859158  d7d2d888ae04d16e994d6964214a1de81392ee04        6494\n"
     ]
    }
   ],
   "source": [
    "# 以用户为维度，统计播放量\n",
    "play_count_by_user = analyse_play_count_by(data, \"user_id\", \"play_count\", False)\n",
    "print(play_count_by_user.head(5))"
   ]
  },
  {
   "cell_type": "code",
   "execution_count": 7,
   "id": "2db4a5ea",
   "metadata": {},
   "outputs": [
    {
     "name": "stdout",
     "output_type": "stream",
     "text": [
      "                   song_id  play_count\n",
      "25043   SOBONKR12A58A7A7E0      726885\n",
      "12936   SOAUWYT12A81C206F1      648239\n",
      "287415  SOSXLTC12AF72A7F54      527893\n",
      "90798   SOFRQTD12A81C233C0      425463\n",
      "67917   SOEGIYH12A6D4FC0E3      389880\n"
     ]
    }
   ],
   "source": [
    "# 以歌曲为维度，统计播放量\n",
    "play_count_by_song = analyse_play_count_by(data, \"song_id\", \"play_count\", False)\n",
    "print(play_count_by_song.head(5))"
   ]
  },
  {
   "cell_type": "code",
   "execution_count": 14,
   "id": "0881712c",
   "metadata": {},
   "outputs": [
    {
     "name": "stdout",
     "output_type": "stream",
     "text": [
      "(100000, 2)\n",
      "(10000, 2)\n"
     ]
    }
   ],
   "source": [
    "# 取前10W个用户、前3W首歌曲\n",
    "user_id_list = play_count_by_user.head(100000) # 活跃用户\n",
    "song_id_list = play_count_by_song.head(10000) # 热门歌曲\n",
    "\n",
    "print(user_id_list.shape)\n",
    "print(song_id_list.shape)"
   ]
  },
  {
   "cell_type": "code",
   "execution_count": 9,
   "id": "fb690831",
   "metadata": {},
   "outputs": [],
   "source": [
    "# 读取歌曲详细信息数据\n",
    "# 处理 track_metadata.db\n",
    "db_file = \"../data/track_metadata.db\"\n",
    "# cursor.execute(\"SELECT name FROM sqlite_master WHERE type='table';\")\n",
    "# table_names = cursor.fetchall()\n",
    "# print(\"数据库中的表:\", table_names)\n",
    "# 获取表的创建语句\n",
    "# sql_column = \"select sql from sqlite_master where type='table' and name='songs'\"\n",
    "# cursor.execute(sql_column)\n",
    "# create_statement = cursor.fetchall()[0]\n",
    "# print(f\"表songs的创建语句：{create_statement}\")\n",
    "\n",
    "# head_sql = \"select * from songs limit 5\"\n",
    "# cursor.execute(head_sql)\n",
    "# result = cursor.fetchall()\n",
    "# print(f\"songs表的前5行数据：{result}\")\n",
    "\n",
    "def get_song_info(db_file, table_name, column_names, condition):\n",
    "    conn = sqlite3.connect(db_file)\n",
    "    cursor = conn.cursor()\n",
    "\n",
    "    sql = \"\"\n",
    "    if 1 == len(column_names):\n",
    "        sql = f\"select {column_names} from {table_name} where condition\"\n",
    "    else:\n",
    "        sql = f\"select {\", \".join(column_names)} from {table_name} where condition\"\n",
    "    \n",
    "    cursor.execute(sql)\n",
    "    result = cursor.fetchall()\n",
    "\n",
    "    cursor.close()\n",
    "    conn.close()\n",
    "\n",
    "    return result\n"
   ]
  },
  {
   "cell_type": "code",
   "execution_count": 15,
   "id": "f1b9de3d",
   "metadata": {},
   "outputs": [
    {
     "name": "stdout",
     "output_type": "stream",
     "text": [
      "开始加载活跃用户的播放记录……\n",
      "加载活跃用户的播放记录：完成\n",
      "比较进度: 1 | 当前耗时：2.32\n",
      "比较进度: 1001 | 当前耗时：1397.81\n",
      "比较进度: 2001 | 当前耗时：1348.02\n",
      "比较进度: 3001 | 当前耗时：1402.26\n",
      "比较进度: 4001 | 当前耗时：1419.25\n",
      "比较进度: 5001 | 当前耗时：1439.88\n",
      "比较进度: 6001 | 当前耗时：1243.34\n",
      "比较进度: 7001 | 当前耗时：1352.83\n",
      "比较进度: 8001 | 当前耗时：1252.67\n",
      "比较进度: 9001 | 当前耗时：1309.55\n",
      "0.49661746617466174\n",
      "SOAUWYT12A81C206F1\n"
     ]
    }
   ],
   "source": [
    "# 统计歌曲相似度\n",
    "def calc_song_played_user_count(song_played_id, play_data):\n",
    "    \"\"\"\n",
    "    获取歌曲的播放用户id列表\n",
    "    \"\"\"\n",
    "    song_played_user_list = play_data[play_data[\"song_id\"] == song_played_id][\"user_id\"].to_list()\n",
    "\n",
    "    return song_played_user_list\n",
    "\n",
    "def calc_similarity(song_played_id, recommend_list, play_data):\n",
    "    \"\"\"\n",
    "    根据用户的播放记录，统计已播放歌曲，与推荐列表中的歌曲的相似度\n",
    "    按照歌曲为维度，统计歌曲相似度：两首歌的相同用户数 / 两首歌的总用户数\n",
    "    \"\"\"\n",
    "    max_similarity = 0\n",
    "    max_id = 0\n",
    "    start_time = time.time()\n",
    "\n",
    "    song_played_user_list = calc_song_played_user_count(song_played_id, play_data)\n",
    "\n",
    "    for index, song_id in enumerate(recommend_list):\n",
    "        if index % 1000 == 0:\n",
    "            end_time = time.time()\n",
    "            print(f\"比较进度: {index + 1} | 当前耗时：{end_time - start_time:.2f}\")\n",
    "            start_time = time.time()\n",
    "        \n",
    "        if song_played_id == song_id: # 相同歌曲不比较\n",
    "            continue\n",
    "\n",
    "        other_played_list = calc_song_played_user_count(song_id, play_data)\n",
    "\n",
    "        common_count = len(set(song_played_user_list) & set(other_played_list))\n",
    "        total_count = len(set(song_played_user_list) | set(other_played_list))\n",
    "\n",
    "        similarity = common_count / total_count\n",
    "        if similarity > max_similarity:\n",
    "            max_similarity = similarity\n",
    "            max_id = song_id\n",
    "\n",
    "    return max_similarity, max_id\n",
    "\n",
    "unique_hot_song = song_id_list[\"song_id\"].unique() # 以热门歌曲为潜在推荐列表，从其中找出与用户已听音乐相似的歌曲\n",
    "# unique_hot_song = song_id_list.head(10)[\"song_id\"].unique()\n",
    "print(f\"开始加载活跃用户的播放记录……\")\n",
    "hot_play_data = data.loc[data[\"user_id\"].isin(user_id_list[\"user_id\"])]\n",
    "print(f\"加载活跃用户的播放记录：完成\")\n",
    "\n",
    "result, most_recomend_song_id = calc_similarity(\"SOBONKR12A58A7A7E0\", unique_hot_song, hot_play_data)\n",
    "\n",
    "print(result)\n",
    "print(most_recomend_song_id)"
   ]
  },
  {
   "cell_type": "code",
   "execution_count": null,
   "id": "ef1bcd18",
   "metadata": {},
   "outputs": [],
   "source": [
    "import time\n",
    "start_time = time.time()\n",
    "end_time = time.time()\n",
    "print(f\"当前耗时：{end_time - start_time}\")"
   ]
  },
  {
   "cell_type": "code",
   "execution_count": 7,
   "id": "035c15b8",
   "metadata": {},
   "outputs": [
    {
     "name": "stdout",
     "output_type": "stream",
     "text": [
      "数据库中的表: [('songs',)]\n",
      "表songs的创建语句：('CREATE TABLE songs (track_id text PRIMARY KEY, title text, song_id text, release text, artist_id text, artist_mbid text, artist_name text, duration real, artist_familiarity real, artist_hotttnesss real, year int, track_7digitalid int, shs_perf int, shs_work int)',)\n",
      "songs表的前5行数据：[('TRMMMYQ128F932D901', 'Silent Night', 'SOQMMHC12AB0180CB8', 'Monster Ballads X-Mas', 'ARYZTJS1187B98C555', '357ff05d-848a-44cf-b608-cb34b5701ae5', 'Faster Pussy cat', 252.05506, 0.649822100201, 0.394031892714, 2003, 7032331, -1, 0), ('TRMMMKD128F425225D', 'Tanssi vaan', 'SOVFVAK12A8C1350D9', 'Karkuteillä', 'ARMVN3U1187FB3A1EB', '8d7ef530-a6fd-4f8f-b2e2-74aec765e0f9', 'Karkkiautomaatti', 156.55138, 0.439603966677, 0.356992107756, 1995, 1514808, -1, 0), ('TRMMMRX128F93187D9', 'No One Could Ever', 'SOGTUKN12AB017F4F1', 'Butter', 'ARGEKB01187FB50750', '3d403d44-36ce-465c-ad43-ae877e65adc4', 'Hudson Mohawke', 138.97098, 0.643680572058, 0.437503836595, 2006, 6945353, -1, 0), ('TRMMMCH128F425532C', 'Si Vos Querés', 'SOBNYVR12A8C13558C', 'De Culo', 'ARNWYLR1187B9B2F9C', '12be7648-7094-495f-90e6-df4189d68615', 'Yerba Brava', 145.05751, 0.448501159656, 0.372349068517, 2003, 2168257, -1, 0), ('TRMMMWA128F426B589', 'Tangle Of Aspens', 'SOHSBXH12A8C13B0DF', 'Rene Ablaze Presents Winter Sessions', 'AREQDTE1269FB37231', '', 'Der Mystic', 514.29832, 0.0, 0.0, 0, 2264873, -1, 0)]\n",
      "歌曲播放数据：('Silent Night', 'Monster Ballads X-Mas', 'Faster Pussy cat', 0.649822100201, 0.394031892714, 2003)\n"
     ]
    }
   ],
   "source": [
    "# 读取歌曲详细信息数据\n",
    "# 处理 track_metadata.db\n",
    "import sqlite3\n",
    "db_file = \"../data/track_metadata.db\"\n",
    "conn = sqlite3.connect(db_file)\n",
    "cursor = conn.cursor()\n",
    "cursor.execute(\"SELECT name FROM sqlite_master WHERE type='table';\")\n",
    "table_names = cursor.fetchall()\n",
    "print(\"数据库中的表:\", table_names)\n",
    "\n",
    "# 获取表的创建语句\n",
    "sql_column = \"select sql from sqlite_master where type='table' and name='songs'\"\n",
    "cursor.execute(sql_column)\n",
    "create_statement = cursor.fetchall()[0]\n",
    "print(f\"表songs的创建语句：{create_statement}\")\n",
    "\n",
    "head_sql = \"select * from songs limit 5\"\n",
    "cursor.execute(head_sql)\n",
    "result = cursor.fetchall()\n",
    "print(f\"songs表的前5行数据：{result}\")\n",
    "\n",
    "# 读取歌曲播放数据\n",
    "song_id = \"SOQMMHC12AB0180CB8\"\n",
    "sql = f\"select title, release, artist_name, artist_familiarity, artist_hotttnesss, year from songs where song_id = '{song_id}'\"\n",
    "cursor.execute(sql)\n",
    "result = cursor.fetchall()\n",
    "print(f\"歌曲播放数据：{result[0]}\")"
   ]
  }
 ],
 "metadata": {
  "kernelspec": {
   "display_name": "conda_3.12",
   "language": "python",
   "name": "python3"
  },
  "language_info": {
   "codemirror_mode": {
    "name": "ipython",
    "version": 3
   },
   "file_extension": ".py",
   "mimetype": "text/x-python",
   "name": "python",
   "nbconvert_exporter": "python",
   "pygments_lexer": "ipython3",
   "version": "3.12.9"
  }
 },
 "nbformat": 4,
 "nbformat_minor": 5
}
