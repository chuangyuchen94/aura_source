{
 "cells": [
  {
   "cell_type": "code",
   "execution_count": 3,
   "id": "68ebba5f",
   "metadata": {},
   "outputs": [],
   "source": [
    "import numpy as np\n",
    "import pandas as pd\n",
    "from scipy.sparse import csr_matrix\n",
    "import sqlite3\n",
    "from sklearn.preprocessing import LabelEncoder\n",
    "from scipy.sparse.linalg import svds"
   ]
  },
  {
   "cell_type": "code",
   "execution_count": 4,
   "id": "945c1fed",
   "metadata": {},
   "outputs": [],
   "source": [
    "def load_play_data(path=None):\n",
    "    \"\"\"\n",
    "    加载播放数据\n",
    "    \"\"\"\n",
    "    if path is None:\n",
    "        path = \"../data/train_triplets.txt\"\n",
    "    \n",
    "    data = pd.read_csv(path, sep=\"\\t\", names=[\"user_id\", \"song_id\", \"play_count\"\n",
    "    ])\n",
    "\n",
    "    return data"
   ]
  },
  {
   "cell_type": "code",
   "execution_count": 3,
   "id": "3965f0e6",
   "metadata": {},
   "outputs": [],
   "source": [
    "play_data = load_play_data()"
   ]
  },
  {
   "cell_type": "code",
   "execution_count": 5,
   "id": "be95d2d4",
   "metadata": {},
   "outputs": [],
   "source": [
    "def read_song_info(table_name, song_columns, song_db=None):\n",
    "    \"\"\"\n",
    "    读取歌曲数据库的指定字段，并转换成dataframe对象\n",
    "    \"\"\"\n",
    "    if song_db is None:\n",
    "        song_db = \"../data/track_metadata.db\"\n",
    "    \n",
    "    conn = sqlite3.connect(song_db)\n",
    "    cursor = conn.cursor()\n",
    "    sql = f\"select {', '.join(song_columns)} from {table_name}\"\n",
    "    song_df = pd.read_sql_query(sql, conn)\n",
    "\n",
    "    conn.close()\n",
    "\n",
    "    return song_df"
   ]
  },
  {
   "cell_type": "code",
   "execution_count": 5,
   "id": "066272e7",
   "metadata": {},
   "outputs": [],
   "source": [
    "song_colunms = [\"song_id\", \"title\"]\n",
    "song_data = read_song_info(\"songs\", song_colunms)"
   ]
  },
  {
   "cell_type": "code",
   "execution_count": 6,
   "id": "0e12c8c9",
   "metadata": {},
   "outputs": [
    {
     "name": "stdout",
     "output_type": "stream",
     "text": [
      "(48373586, 3)\n",
      "(1000000, 2)\n"
     ]
    }
   ],
   "source": [
    "print(play_data.shape)\n",
    "print(song_data.shape)"
   ]
  },
  {
   "cell_type": "code",
   "execution_count": 7,
   "id": "fb6335de",
   "metadata": {},
   "outputs": [
    {
     "name": "stdout",
     "output_type": "stream",
     "text": [
      "                                    user_id             song_id  play_count\n",
      "0  b80344d063b5ccb3212f76538f3d9e43d87dca9e  SOAKIMP12A8C130995           1\n",
      "1  b80344d063b5ccb3212f76538f3d9e43d87dca9e  SOAPDEY12A81C210A9           1\n",
      "2  b80344d063b5ccb3212f76538f3d9e43d87dca9e  SOBBMDR12A8C13253B           2\n",
      "3  b80344d063b5ccb3212f76538f3d9e43d87dca9e  SOBFNSP12AF72A0E22           1\n",
      "4  b80344d063b5ccb3212f76538f3d9e43d87dca9e  SOBFOVM12A58A7D494           1\n"
     ]
    }
   ],
   "source": [
    "print(play_data.head(5))"
   ]
  },
  {
   "cell_type": "code",
   "execution_count": 8,
   "id": "a8bc9b16",
   "metadata": {},
   "outputs": [
    {
     "name": "stdout",
     "output_type": "stream",
     "text": [
      "              song_id              title\n",
      "0  SOQMMHC12AB0180CB8       Silent Night\n",
      "1  SOVFVAK12A8C1350D9        Tanssi vaan\n",
      "2  SOGTUKN12AB017F4F1  No One Could Ever\n",
      "3  SOBNYVR12A8C13558C      Si Vos Querés\n",
      "4  SOHSBXH12A8C13B0DF   Tangle Of Aspens\n"
     ]
    }
   ],
   "source": [
    "print(song_data.head(5))"
   ]
  },
  {
   "cell_type": "code",
   "execution_count": 6,
   "id": "1530d86e",
   "metadata": {},
   "outputs": [],
   "source": [
    "def calc_song_score(play_data):\n",
    "    # 1. 转换字符串列为分类类型 (减少内存+加速分组)\n",
    "    play_data[\"user_id\"] = play_data[\"user_id\"].astype(\"category\")\n",
    "    play_data[\"song_id\"] = play_data[\"song_id\"].astype(\"category\")\n",
    "\n",
    "    # 2. 按用户+歌曲分组求和\n",
    "    grouped = play_data.groupby([\"user_id\", \"song_id\"], as_index=False, observed=True)[\"play_count\"].sum()\n",
    "    \n",
    "    # 3. 计算用户级总播放次数\n",
    "    grouped[\"user_total\"] = grouped.groupby(\"user_id\", observed=True)[\"play_count\"].transform(\"sum\")\n",
    "    \n",
    "    # 4. 计算占比\n",
    "    grouped[\"score\"] = grouped[\"play_count\"] / grouped[\"user_total\"]\n",
    "    \n",
    "    return grouped[[\"user_id\", \"song_id\", \"score\"]]"
   ]
  },
  {
   "cell_type": "code",
   "execution_count": 10,
   "id": "a80dbe63",
   "metadata": {},
   "outputs": [],
   "source": [
    "score_data = calc_song_score(play_data)"
   ]
  },
  {
   "cell_type": "code",
   "execution_count": 11,
   "id": "52b908c9",
   "metadata": {},
   "outputs": [
    {
     "name": "stdout",
     "output_type": "stream",
     "text": [
      "(48373586, 3)\n"
     ]
    }
   ],
   "source": [
    "print(score_data.shape)"
   ]
  },
  {
   "cell_type": "code",
   "execution_count": 13,
   "id": "8344b6d0",
   "metadata": {},
   "outputs": [
    {
     "name": "stdout",
     "output_type": "stream",
     "text": [
      "                                    user_id             song_id     score\n",
      "0  00000b722001882066dff9d2da8a775658053ea0  SOBQJJX12A6D4F7F01  0.153846\n",
      "1  00000b722001882066dff9d2da8a775658053ea0  SOBSSGK12A6D4F9EF1  0.076923\n",
      "2  00000b722001882066dff9d2da8a775658053ea0  SOCTXQW12A6D4F70AD  0.076923\n",
      "3  00000b722001882066dff9d2da8a775658053ea0  SOCZQCY12AC468E40F  0.076923\n",
      "4  00000b722001882066dff9d2da8a775658053ea0  SOFLJQZ12A6D4FADA6  0.076923\n",
      "5  00000b722001882066dff9d2da8a775658053ea0  SOJOJUN12A8AE47E1D  0.076923\n",
      "6  00000b722001882066dff9d2da8a775658053ea0  SOKBXYC12A6D4F59D6  0.076923\n",
      "7  00000b722001882066dff9d2da8a775658053ea0  SOMRTLE12A58A78D26  0.076923\n",
      "8  00000b722001882066dff9d2da8a775658053ea0  SORDKNX12A8C13A45F  0.076923\n",
      "9  00000b722001882066dff9d2da8a775658053ea0  SOTCWRK12AB017E47D  0.076923\n"
     ]
    }
   ],
   "source": [
    "print(score_data.head(10))"
   ]
  },
  {
   "cell_type": "code",
   "execution_count": 12,
   "id": "304c41f7",
   "metadata": {},
   "outputs": [
    {
     "name": "stdout",
     "output_type": "stream",
     "text": [
      "                                     user_id             song_id     score\n",
      "0   00000b722001882066dff9d2da8a775658053ea0  SOBQJJX12A6D4F7F01  0.153846\n",
      "1   00000b722001882066dff9d2da8a775658053ea0  SOBSSGK12A6D4F9EF1  0.076923\n",
      "2   00000b722001882066dff9d2da8a775658053ea0  SOCTXQW12A6D4F70AD  0.076923\n",
      "3   00000b722001882066dff9d2da8a775658053ea0  SOCZQCY12AC468E40F  0.076923\n",
      "4   00000b722001882066dff9d2da8a775658053ea0  SOFLJQZ12A6D4FADA6  0.076923\n",
      "5   00000b722001882066dff9d2da8a775658053ea0  SOJOJUN12A8AE47E1D  0.076923\n",
      "6   00000b722001882066dff9d2da8a775658053ea0  SOKBXYC12A6D4F59D6  0.076923\n",
      "7   00000b722001882066dff9d2da8a775658053ea0  SOMRTLE12A58A78D26  0.076923\n",
      "8   00000b722001882066dff9d2da8a775658053ea0  SORDKNX12A8C13A45F  0.076923\n",
      "9   00000b722001882066dff9d2da8a775658053ea0  SOTCWRK12AB017E47D  0.076923\n",
      "10  00000b722001882066dff9d2da8a775658053ea0  SOTDOKZ12A8C137FCD  0.076923\n",
      "11  00000b722001882066dff9d2da8a775658053ea0  SOUBEXV12AB01804A4  0.076923\n",
      "12  00001638d6189236866af9bbf309ae6c2347ffdc  SOAORYL12A67AD8187  0.125000\n",
      "13  00001638d6189236866af9bbf309ae6c2347ffdc  SOBFEDK12A8C13BB25  0.017857\n",
      "14  00001638d6189236866af9bbf309ae6c2347ffdc  SOCIJBR12AB017BD92  0.017857\n",
      "15  00001638d6189236866af9bbf309ae6c2347ffdc  SOEKYTM12A8C13CBF4  0.017857\n",
      "16  00001638d6189236866af9bbf309ae6c2347ffdc  SOFFWTH12A6310D9E8  0.035714\n",
      "17  00001638d6189236866af9bbf309ae6c2347ffdc  SOFXSRW12A6D4F3B77  0.017857\n",
      "18  00001638d6189236866af9bbf309ae6c2347ffdc  SOLODPO12AB017F217  0.071429\n",
      "19  00001638d6189236866af9bbf309ae6c2347ffdc  SOLOYFG12A8C133391  0.017857\n",
      "20  00001638d6189236866af9bbf309ae6c2347ffdc  SONGKIR12A58A779D3  0.089286\n",
      "21  00001638d6189236866af9bbf309ae6c2347ffdc  SOOEPEG12A6D4FC7CA  0.017857\n",
      "22  00001638d6189236866af9bbf309ae6c2347ffdc  SOPFRAN12A8C13AA77  0.035714\n",
      "23  00001638d6189236866af9bbf309ae6c2347ffdc  SOUWYDL12A8C139BDD  0.017857\n",
      "24  00001638d6189236866af9bbf309ae6c2347ffdc  SOWMWVC12A67AD9795  0.089286\n",
      "25  00001638d6189236866af9bbf309ae6c2347ffdc  SOWOTHK12A67AD818B  0.428571\n"
     ]
    }
   ],
   "source": [
    "print(score_data[score_data[\"user_id\"].isin([\"00000b722001882066dff9d2da8a775658053ea0\", \"00001638d6189236866af9bbf309ae6c2347ffdc\"])])"
   ]
  },
  {
   "cell_type": "code",
   "execution_count": 7,
   "id": "e7ec219d",
   "metadata": {},
   "outputs": [],
   "source": [
    "def fill_song_info(play_data, song_data, join_column):\n",
    "    \"\"\"\n",
    "    填充歌曲信息\n",
    "    \"\"\"\n",
    "    # 预处理歌曲数据\n",
    "    song_lookup = (song_data\n",
    "                   .drop_duplicates(join_column)  # 确保键唯一\n",
    "                   .set_index(join_column)  # 建立索引\n",
    "                   .astype({\"title\": \"category\"}))  # 类型优化\n",
    "    \n",
    "    # 分列映射避免内存溢出\n",
    "    play_data[\"title\"] = play_data[join_column].map(song_lookup[\"title\"])\n",
    "    # play_data[\"release\"] = play_data[join_column].map(song_lookup[\"release\"])\n",
    "    # play_data[\"artist_name\"] = play_data[join_column].map(song_lookup[\"artist_name\"])\n",
    "    # play_data[\"artist_familiarity\"] = play_data[join_column].map(song_lookup[\"artist_familiarity\"])\n",
    "    # play_data[\"artist_hotttnesss\"] = play_data[join_column].map(song_lookup[\"artist_hotttnesss\"])\n",
    "    \n",
    "    return play_data"
   ]
  },
  {
   "cell_type": "code",
   "execution_count": 14,
   "id": "162cdfd0",
   "metadata": {},
   "outputs": [],
   "source": [
    "user_song_data = fill_song_info(score_data, song_data, \"song_id\")"
   ]
  },
  {
   "cell_type": "code",
   "execution_count": 15,
   "id": "ab2dda06",
   "metadata": {},
   "outputs": [
    {
     "name": "stdout",
     "output_type": "stream",
     "text": [
      "                                    user_id             song_id     score  \\\n",
      "0  00000b722001882066dff9d2da8a775658053ea0  SOBQJJX12A6D4F7F01  0.153846   \n",
      "1  00000b722001882066dff9d2da8a775658053ea0  SOBSSGK12A6D4F9EF1  0.076923   \n",
      "2  00000b722001882066dff9d2da8a775658053ea0  SOCTXQW12A6D4F70AD  0.076923   \n",
      "3  00000b722001882066dff9d2da8a775658053ea0  SOCZQCY12AC468E40F  0.076923   \n",
      "4  00000b722001882066dff9d2da8a775658053ea0  SOFLJQZ12A6D4FADA6  0.076923   \n",
      "\n",
      "                            title  \n",
      "0                  Rods And Cones  \n",
      "1                           Heela  \n",
      "2  Babe_ You Turn Me On (Paris 2)  \n",
      "3                     Ela É Bamba  \n",
      "4                        Tive Sim  \n"
     ]
    }
   ],
   "source": [
    "print(user_song_data.head(5))"
   ]
  },
  {
   "cell_type": "code",
   "execution_count": 8,
   "id": "42068f11",
   "metadata": {},
   "outputs": [],
   "source": [
    "def create_label_encoder(data, column_name_list):\n",
    "    \"\"\"\n",
    "    创建将user_id和song_id编码成数字的labelEncoder\n",
    "    \"\"\"\n",
    "    encoder_map = {}\n",
    "    for column_name in column_name_list:\n",
    "        encoder = LabelEncoder()\n",
    "        encoder.classes_ = data[column_name].cat.categories\n",
    "        encoder_map[column_name] = encoder\n",
    "    \n",
    "    return encoder_map"
   ]
  },
  {
   "cell_type": "code",
   "execution_count": null,
   "id": "54992f84",
   "metadata": {},
   "outputs": [],
   "source": []
  },
  {
   "cell_type": "code",
   "execution_count": 17,
   "id": "099cd662",
   "metadata": {},
   "outputs": [],
   "source": [
    "encoder_map = create_label_encoder(user_song_data, [\"user_id\", \"song_id\"])"
   ]
  },
  {
   "cell_type": "code",
   "execution_count": 18,
   "id": "cfb50f4c",
   "metadata": {},
   "outputs": [],
   "source": [
    "user_song_data[\"user_id\"] = encoder_map[\"user_id\"].transform(user_song_data[\"user_id\"])"
   ]
  },
  {
   "cell_type": "code",
   "execution_count": 19,
   "id": "8c583289",
   "metadata": {},
   "outputs": [],
   "source": [
    "user_song_data[\"song_id\"] = encoder_map[\"song_id\"].transform(user_song_data[\"song_id\"])"
   ]
  },
  {
   "cell_type": "code",
   "execution_count": 20,
   "id": "436e8c6f",
   "metadata": {},
   "outputs": [
    {
     "name": "stdout",
     "output_type": "stream",
     "text": [
      "   user_id  song_id     score                           title\n",
      "0        0    26214  0.153846                  Rods And Cones\n",
      "1        0    27715  0.076923                           Heela\n",
      "2        0    44239  0.076923  Babe_ You Turn Me On (Paris 2)\n",
      "3        0    47860  0.076923                     Ela É Bamba\n",
      "4        0    87066  0.076923                        Tive Sim\n"
     ]
    }
   ],
   "source": [
    "print(user_song_data.head(5))"
   ]
  },
  {
   "cell_type": "code",
   "execution_count": 9,
   "id": "7a2501d5",
   "metadata": {},
   "outputs": [],
   "source": [
    "def build_user_song_score_matrix(data, index, column, value):\n",
    "    \"\"\"\n",
    "    构建用户-歌曲评分矩阵\n",
    "    \"\"\"\n",
    "    rows = data[index].values\n",
    "    cols = data[column].values\n",
    "    scores = data[value].values\n",
    "\n",
    "    # 获取矩阵维度\n",
    "    n_users = data[index].max() + 1\n",
    "    n_items = data[column].max() + 1\n",
    "    \n",
    "\n",
    "    return csr_matrix((scores, (rows, cols)), shape=(n_users, n_items))\n"
   ]
  },
  {
   "cell_type": "code",
   "execution_count": 22,
   "id": "e024ed39",
   "metadata": {},
   "outputs": [],
   "source": [
    "user_song_csr_matrix = build_user_song_score_matrix(user_song_data, \"user_id\", \"song_id\", \"score\")"
   ]
  },
  {
   "cell_type": "code",
   "execution_count": 23,
   "id": "c1224f55",
   "metadata": {},
   "outputs": [
    {
     "name": "stdout",
     "output_type": "stream",
     "text": [
      "(1019318, 384546)\n"
     ]
    }
   ],
   "source": [
    "print(user_song_csr_matrix.shape)"
   ]
  },
  {
   "cell_type": "code",
   "execution_count": 24,
   "id": "1bccc999",
   "metadata": {},
   "outputs": [],
   "source": [
    "def svd_divide(data, n_components):\n",
    "    \"\"\"\n",
    "    将矩阵进行svd分解\n",
    "    \"\"\"\n",
    "    U, s, Vt = svds(data, n_components)\n",
    "    S = np.diag(s)\n",
    "\n",
    "    return U, S, Vt"
   ]
  },
  {
   "cell_type": "code",
   "execution_count": 25,
   "id": "704c5a2d",
   "metadata": {},
   "outputs": [],
   "source": [
    "U, S, Vt = svd_divide(user_song_csr_matrix, 50)"
   ]
  },
  {
   "cell_type": "code",
   "execution_count": 26,
   "id": "374c5a94",
   "metadata": {},
   "outputs": [
    {
     "name": "stdout",
     "output_type": "stream",
     "text": [
      "(1019318, 50)\n",
      "(50, 50)\n",
      "(50, 384546)\n"
     ]
    }
   ],
   "source": [
    "print(U.shape)\n",
    "print(S.shape)\n",
    "print(Vt.shape)"
   ]
  },
  {
   "cell_type": "code",
   "execution_count": 27,
   "id": "0d4918e0",
   "metadata": {},
   "outputs": [],
   "source": [
    "def get_recomendation(user_id, U, S, Vt, user_encoder, song_encoder, used_items, recommd_num=10):\n",
    "    \"\"\"\n",
    "    获取用户推荐列表\n",
    "    \"\"\"\n",
    "    user_encoded_id = user_encoder.transform([user_id])[0]\n",
    "    item_scores = U[user_encoded_id] @ S @ Vt\n",
    "\n",
    "    used_items_encoded_id = song_encoder.transform(used_items)\n",
    "    item_scores[used_items_encoded_id] = 0\n",
    "\n",
    "    recommend_items = np.argsort(item_scores)[::-1][:recommd_num]\n",
    "\n",
    "    orig_item_id = song_encoder.inverse_transform(recommend_items)\n",
    "\n",
    "    return orig_item_id\n"
   ]
  },
  {
   "cell_type": "code",
   "execution_count": 28,
   "id": "d6b993ea",
   "metadata": {},
   "outputs": [],
   "source": [
    "user_id = \"00000b722001882066dff9d2da8a775658053ea0\"\n",
    "user_encoder = encoder_map[\"user_id\"]\n",
    "song_encoder = encoder_map[\"song_id\"]\n",
    "used_items = play_data[play_data[\"user_id\"] == user_id][\"song_id\"].values\n",
    "recommend_list = get_recomendation(user_id, U, S, Vt, user_encoder, song_encoder, used_items, recommd_num=10)"
   ]
  },
  {
   "cell_type": "code",
   "execution_count": 29,
   "id": "b1ef1591",
   "metadata": {},
   "outputs": [
    {
     "name": "stdout",
     "output_type": "stream",
     "text": [
      "Index(['SOVWBYM12A6D4F8A22', 'SONHWUN12AC468C014', 'SOSYOHI12A8C144584',\n",
      "       'SOIBCIC12A58A7B55B', 'SOHFJAQ12AB017E4AF', 'SODCNJX12A6D4F93CB',\n",
      "       'SOQPGDF12AB01858C5', 'SOWRREB12A6D4FA7CB', 'SOIKQFR12A6310F2A6',\n",
      "       'SOEOLGZ12A8C134706'],\n",
      "      dtype='object')\n"
     ]
    }
   ],
   "source": [
    "print(recommend_list)\n",
    "songs = song_data[song_data[\"song_id\"].isin(recommend_list)][\"title\"].values"
   ]
  },
  {
   "cell_type": "code",
   "execution_count": 30,
   "id": "197fa326",
   "metadata": {},
   "outputs": [
    {
     "name": "stdout",
     "output_type": "stream",
     "text": [
      "Rock Star\n",
      "You'll Never Know (My Love) (Bovellian 07 Mix)\n",
      "West One (Shine On Me)\n",
      "Video Killed The Radio Star\n",
      "Jamaica Roots II(Agora E Sempre)\n",
      "Eternal Flame (Single Version)\n",
      "Rianna\n",
      "Esisti Tu\n",
      "Robot Soul (Radio Edit)\n",
      "Lord I Guess I'll Never Know\n"
     ]
    }
   ],
   "source": [
    "print(\"\\n\".join(songs))"
   ]
  },
  {
   "cell_type": "code",
   "execution_count": 10,
   "id": "a2f27fb0",
   "metadata": {},
   "outputs": [],
   "source": [
    "def load_clean_data(path=None):\n",
    "    \"\"\"\n",
    "    加载数据并进行清理\n",
    "    \"\"\"\n",
    "    action_score_data = calc_song_score(load_play_data(path))\n",
    "    \n",
    "    label_encoder = create_label_encoder(action_score_data, [\"user_id\", \"song_id\"])\n",
    "    action_score_data[\"user_id\"] = label_encoder[\"user_id\"].transform(action_score_data[\"user_id\"])\n",
    "    action_score_data[\"song_id\"] = label_encoder[\"song_id\"].transform(action_score_data[\"song_id\"])\n",
    "\n",
    "    score_matrix = build_user_song_score_matrix(action_score_data, \"user_id\", \"song_id\", \"score\")\n",
    "\n",
    "    return score_matrix, label_encoder"
   ]
  },
  {
   "cell_type": "code",
   "execution_count": 11,
   "id": "c376c458",
   "metadata": {},
   "outputs": [],
   "source": [
    "score_matrix, label_encoder = load_clean_data()"
   ]
  },
  {
   "cell_type": "code",
   "execution_count": 12,
   "id": "9c9bab58",
   "metadata": {},
   "outputs": [
    {
     "name": "stdout",
     "output_type": "stream",
     "text": [
      "(1019318, 384546)\n"
     ]
    }
   ],
   "source": [
    "print(score_matrix.shape)"
   ]
  },
  {
   "cell_type": "code",
   "execution_count": 15,
   "id": "eef5441e",
   "metadata": {},
   "outputs": [],
   "source": [
    "class ScoringBySVD:\n",
    "    \"\"\"\n",
    "    通过SVD矩阵分解，求得“用户-物品”的评分\n",
    "    \"\"\"\n",
    "    def __init__(self, n_components):\n",
    "        \"\"\"\n",
    "        初始化方法\n",
    "        \"\"\"\n",
    "        self.n_components = n_components\n",
    "        self.U = None # 用户潜在特征矩阵\n",
    "        self.S = None # 特征重要性矩阵\n",
    "        self.Vt = None # 物品潜在特征矩阵的转置\n",
    "\n",
    "    def fit(self, X, y=None):\n",
    "        \"\"\"\n",
    "        将传入的数据，分解为U、S、V三个矩阵\n",
    "        \"\"\"\n",
    "        U, s, Vt = svds(X, self.n_components)\n",
    "        S = np.diag(s)\n",
    "\n",
    "        self.U = U\n",
    "        self.S = S\n",
    "        self.Vt = Vt\n",
    "\n",
    "    def predict(self, X):\n",
    "        \"\"\"\n",
    "        预测评分\n",
    "        \"\"\"\n",
    "        scores = self.U[X] @ self.S @ self.Vt\n",
    "\n",
    "        return scores\n"
   ]
  },
  {
   "cell_type": "code",
   "execution_count": 16,
   "id": "55d8ab47",
   "metadata": {},
   "outputs": [],
   "source": [
    "svd_transformer = ScoringBySVD(n_components=50)\n",
    "svd_transformer.fit(score_matrix)"
   ]
  },
  {
   "cell_type": "code",
   "execution_count": 23,
   "id": "2180e6a7",
   "metadata": {},
   "outputs": [],
   "source": [
    "user_id_2 = [\"00000b722001882066dff9d2da8a775658053ea0\", ]\n",
    "user_id_2_encodered = label_encoder[\"user_id\"].transform(user_id_2)[0]\n",
    "scores = svd_transformer.predict(user_id_2_encodered)"
   ]
  },
  {
   "cell_type": "code",
   "execution_count": 26,
   "id": "7b2740fc",
   "metadata": {},
   "outputs": [
    {
     "ename": "ValueError",
     "evalue": "y contains previously unseen labels: 87066",
     "output_type": "error",
     "traceback": [
      "\u001b[1;31m---------------------------------------------------------------------------\u001b[0m",
      "\u001b[1;31mKeyError\u001b[0m                                  Traceback (most recent call last)",
      "File \u001b[1;32md:\\ProgramData\\anaconda3\\Lib\\site-packages\\sklearn\\utils\\_encode.py:225\u001b[0m, in \u001b[0;36m_encode\u001b[1;34m(values, uniques, check_unknown)\u001b[0m\n\u001b[0;32m    224\u001b[0m \u001b[38;5;28;01mtry\u001b[39;00m:\n\u001b[1;32m--> 225\u001b[0m     \u001b[38;5;28;01mreturn\u001b[39;00m _map_to_integer(values, uniques)\n\u001b[0;32m    226\u001b[0m \u001b[38;5;28;01mexcept\u001b[39;00m \u001b[38;5;167;01mKeyError\u001b[39;00m \u001b[38;5;28;01mas\u001b[39;00m e:\n",
      "File \u001b[1;32md:\\ProgramData\\anaconda3\\Lib\\site-packages\\sklearn\\utils\\_encode.py:165\u001b[0m, in \u001b[0;36m_map_to_integer\u001b[1;34m(values, uniques)\u001b[0m\n\u001b[0;32m    164\u001b[0m table \u001b[38;5;241m=\u001b[39m _nandict({val: i \u001b[38;5;28;01mfor\u001b[39;00m i, val \u001b[38;5;129;01min\u001b[39;00m \u001b[38;5;28menumerate\u001b[39m(uniques)})\n\u001b[1;32m--> 165\u001b[0m \u001b[38;5;28;01mreturn\u001b[39;00m np\u001b[38;5;241m.\u001b[39marray([table[v] \u001b[38;5;28;01mfor\u001b[39;00m v \u001b[38;5;129;01min\u001b[39;00m values])\n",
      "File \u001b[1;32md:\\ProgramData\\anaconda3\\Lib\\site-packages\\sklearn\\utils\\_encode.py:159\u001b[0m, in \u001b[0;36m_nandict.__missing__\u001b[1;34m(self, key)\u001b[0m\n\u001b[0;32m    158\u001b[0m     \u001b[38;5;28;01mreturn\u001b[39;00m \u001b[38;5;28mself\u001b[39m\u001b[38;5;241m.\u001b[39mnan_value\n\u001b[1;32m--> 159\u001b[0m \u001b[38;5;28;01mraise\u001b[39;00m \u001b[38;5;167;01mKeyError\u001b[39;00m(key)\n",
      "\u001b[1;31mKeyError\u001b[0m: 87066",
      "\nDuring handling of the above exception, another exception occurred:\n",
      "\u001b[1;31mValueError\u001b[0m                                Traceback (most recent call last)",
      "Cell \u001b[1;32mIn[26], line 1\u001b[0m\n\u001b[1;32m----> 1\u001b[0m \u001b[38;5;28mprint\u001b[39m(label_encoder[\u001b[38;5;124m\"\u001b[39m\u001b[38;5;124msong_id\u001b[39m\u001b[38;5;124m\"\u001b[39m]\u001b[38;5;241m.\u001b[39mtransform(np\u001b[38;5;241m.\u001b[39margsort(scores)[::\u001b[38;5;241m-\u001b[39m\u001b[38;5;241m1\u001b[39m][:\u001b[38;5;241m10\u001b[39m]))\n",
      "File \u001b[1;32md:\\ProgramData\\anaconda3\\Lib\\site-packages\\sklearn\\preprocessing\\_label.py:137\u001b[0m, in \u001b[0;36mLabelEncoder.transform\u001b[1;34m(self, y)\u001b[0m\n\u001b[0;32m    134\u001b[0m \u001b[38;5;28;01mif\u001b[39;00m _num_samples(y) \u001b[38;5;241m==\u001b[39m \u001b[38;5;241m0\u001b[39m:\n\u001b[0;32m    135\u001b[0m     \u001b[38;5;28;01mreturn\u001b[39;00m np\u001b[38;5;241m.\u001b[39marray([])\n\u001b[1;32m--> 137\u001b[0m \u001b[38;5;28;01mreturn\u001b[39;00m _encode(y, uniques\u001b[38;5;241m=\u001b[39m\u001b[38;5;28mself\u001b[39m\u001b[38;5;241m.\u001b[39mclasses_)\n",
      "File \u001b[1;32md:\\ProgramData\\anaconda3\\Lib\\site-packages\\sklearn\\utils\\_encode.py:227\u001b[0m, in \u001b[0;36m_encode\u001b[1;34m(values, uniques, check_unknown)\u001b[0m\n\u001b[0;32m    225\u001b[0m         \u001b[38;5;28;01mreturn\u001b[39;00m _map_to_integer(values, uniques)\n\u001b[0;32m    226\u001b[0m     \u001b[38;5;28;01mexcept\u001b[39;00m \u001b[38;5;167;01mKeyError\u001b[39;00m \u001b[38;5;28;01mas\u001b[39;00m e:\n\u001b[1;32m--> 227\u001b[0m         \u001b[38;5;28;01mraise\u001b[39;00m \u001b[38;5;167;01mValueError\u001b[39;00m(\u001b[38;5;124mf\u001b[39m\u001b[38;5;124m\"\u001b[39m\u001b[38;5;124my contains previously unseen labels: \u001b[39m\u001b[38;5;132;01m{\u001b[39;00m\u001b[38;5;28mstr\u001b[39m(e)\u001b[38;5;132;01m}\u001b[39;00m\u001b[38;5;124m\"\u001b[39m)\n\u001b[0;32m    228\u001b[0m \u001b[38;5;28;01melse\u001b[39;00m:\n\u001b[0;32m    229\u001b[0m     \u001b[38;5;28;01mif\u001b[39;00m check_unknown:\n",
      "\u001b[1;31mValueError\u001b[0m: y contains previously unseen labels: 87066"
     ]
    }
   ],
   "source": [
    "print(label_encoder[\"song_id\"].transform(np.argsort(scores)[::-1][:10]))"
   ]
  }
 ],
 "metadata": {
  "kernelspec": {
   "display_name": "base",
   "language": "python",
   "name": "python3"
  },
  "language_info": {
   "codemirror_mode": {
    "name": "ipython",
    "version": 3
   },
   "file_extension": ".py",
   "mimetype": "text/x-python",
   "name": "python",
   "nbconvert_exporter": "python",
   "pygments_lexer": "ipython3",
   "version": "3.12.7"
  }
 },
 "nbformat": 4,
 "nbformat_minor": 5
}
