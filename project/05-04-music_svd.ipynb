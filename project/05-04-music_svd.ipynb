{
 "cells": [
  {
   "cell_type": "code",
   "execution_count": 1,
   "id": "68ebba5f",
   "metadata": {},
   "outputs": [],
   "source": [
    "import numpy as np\n",
    "import pandas as pd\n",
    "from sklearn.decomposition import TruncatedSVD\n",
    "from scipy.sparse import csr_matrix\n",
    "import sqlite3"
   ]
  },
  {
   "cell_type": "code",
   "execution_count": 2,
   "id": "945c1fed",
   "metadata": {},
   "outputs": [],
   "source": [
    "def load_play_data(path=None):\n",
    "    \"\"\"\n",
    "    加载播放数据\n",
    "    \"\"\"\n",
    "    if path is None:\n",
    "        path = \"../data/train_triplets.txt\"\n",
    "    \n",
    "    data = pd.read_csv(path, sep=\"\\t\", names=[\"user_id\", \"song_id\", \"play_count\"\n",
    "    ])\n",
    "\n",
    "    return data"
   ]
  },
  {
   "cell_type": "code",
   "execution_count": 3,
   "id": "3965f0e6",
   "metadata": {},
   "outputs": [],
   "source": [
    "play_data = load_play_data()"
   ]
  },
  {
   "cell_type": "code",
   "execution_count": 4,
   "id": "be95d2d4",
   "metadata": {},
   "outputs": [],
   "source": [
    "def read_song_info(table_name, song_columns, song_db=None):\n",
    "    \"\"\"\n",
    "    读取歌曲数据库的指定字段，并转换成dataframe对象\n",
    "    \"\"\"\n",
    "    if song_db is None:\n",
    "        song_db = \"../data/track_metadata.db\"\n",
    "    \n",
    "    conn = sqlite3.connect(song_db)\n",
    "    cursor = conn.cursor()\n",
    "    sql = f\"select {', '.join(song_columns)} from {table_name}\"\n",
    "    song_df = pd.read_sql_query(sql, conn)\n",
    "\n",
    "    conn.close()\n",
    "\n",
    "    return song_df"
   ]
  },
  {
   "cell_type": "code",
   "execution_count": 10,
   "id": "066272e7",
   "metadata": {},
   "outputs": [],
   "source": [
    "song_colunms = [\"song_id\", \"title\", \"release\", \"artist_name\", \"artist_familiarity\", \"artist_hotttnesss\"]\n",
    "song_data = read_song_info(\"songs\", song_colunms)"
   ]
  },
  {
   "cell_type": "code",
   "execution_count": 11,
   "id": "0e12c8c9",
   "metadata": {},
   "outputs": [
    {
     "name": "stdout",
     "output_type": "stream",
     "text": [
      "(48373586, 3)\n",
      "(1000000, 6)\n"
     ]
    }
   ],
   "source": [
    "print(play_data.shape)\n",
    "print(song_data.shape)"
   ]
  },
  {
   "cell_type": "code",
   "execution_count": 8,
   "id": "fb6335de",
   "metadata": {},
   "outputs": [
    {
     "name": "stdout",
     "output_type": "stream",
     "text": [
      "                                    user_id             song_id  play_count\n",
      "0  b80344d063b5ccb3212f76538f3d9e43d87dca9e  SOAKIMP12A8C130995           1\n",
      "1  b80344d063b5ccb3212f76538f3d9e43d87dca9e  SOAPDEY12A81C210A9           1\n",
      "2  b80344d063b5ccb3212f76538f3d9e43d87dca9e  SOBBMDR12A8C13253B           2\n",
      "3  b80344d063b5ccb3212f76538f3d9e43d87dca9e  SOBFNSP12AF72A0E22           1\n",
      "4  b80344d063b5ccb3212f76538f3d9e43d87dca9e  SOBFOVM12A58A7D494           1\n"
     ]
    }
   ],
   "source": [
    "print(play_data.head(5))"
   ]
  },
  {
   "cell_type": "code",
   "execution_count": 12,
   "id": "a8bc9b16",
   "metadata": {},
   "outputs": [
    {
     "name": "stdout",
     "output_type": "stream",
     "text": [
      "              song_id              title  \\\n",
      "0  SOQMMHC12AB0180CB8       Silent Night   \n",
      "1  SOVFVAK12A8C1350D9        Tanssi vaan   \n",
      "2  SOGTUKN12AB017F4F1  No One Could Ever   \n",
      "3  SOBNYVR12A8C13558C      Si Vos Querés   \n",
      "4  SOHSBXH12A8C13B0DF   Tangle Of Aspens   \n",
      "\n",
      "                                release       artist_name  artist_familiarity  \\\n",
      "0                 Monster Ballads X-Mas  Faster Pussy cat            0.649822   \n",
      "1                           Karkuteillä  Karkkiautomaatti            0.439604   \n",
      "2                                Butter    Hudson Mohawke            0.643681   \n",
      "3                               De Culo       Yerba Brava            0.448501   \n",
      "4  Rene Ablaze Presents Winter Sessions        Der Mystic            0.000000   \n",
      "\n",
      "   artist_hotttnesss  \n",
      "0           0.394032  \n",
      "1           0.356992  \n",
      "2           0.437504  \n",
      "3           0.372349  \n",
      "4           0.000000  \n"
     ]
    }
   ],
   "source": [
    "print(song_data.head(5))"
   ]
  },
  {
   "cell_type": "code",
   "execution_count": 13,
   "id": "e7ec219d",
   "metadata": {},
   "outputs": [],
   "source": [
    "def fill_song_info(play_data, song_data, join_column):\n",
    "    \"\"\"\n",
    "    填充歌曲信息\n",
    "    \"\"\"\n",
    "    user_song_data = play_data.merge(song_data, on=join_column, how=\"left\")\n",
    "\n",
    "    return user_song_data"
   ]
  },
  {
   "cell_type": "code",
   "execution_count": 14,
   "id": "162cdfd0",
   "metadata": {},
   "outputs": [],
   "source": [
    "user_song_data = fill_song_info(play_data, song_data, \"song_id\")"
   ]
  },
  {
   "cell_type": "code",
   "execution_count": 15,
   "id": "8b65c253",
   "metadata": {},
   "outputs": [
    {
     "name": "stdout",
     "output_type": "stream",
     "text": [
      "(49664528, 8)\n"
     ]
    }
   ],
   "source": [
    "print(user_song_data.shape)"
   ]
  },
  {
   "cell_type": "code",
   "execution_count": 16,
   "id": "724744c7",
   "metadata": {},
   "outputs": [
    {
     "name": "stdout",
     "output_type": "stream",
     "text": [
      "                                    user_id             song_id  play_count  \\\n",
      "0  b80344d063b5ccb3212f76538f3d9e43d87dca9e  SOAKIMP12A8C130995           1   \n",
      "1  b80344d063b5ccb3212f76538f3d9e43d87dca9e  SOAPDEY12A81C210A9           1   \n",
      "2  b80344d063b5ccb3212f76538f3d9e43d87dca9e  SOBBMDR12A8C13253B           2   \n",
      "3  b80344d063b5ccb3212f76538f3d9e43d87dca9e  SOBFNSP12AF72A0E22           1   \n",
      "4  b80344d063b5ccb3212f76538f3d9e43d87dca9e  SOBFOVM12A58A7D494           1   \n",
      "\n",
      "                             title  \\\n",
      "0                         The Cove   \n",
      "1             Nothing from Nothing   \n",
      "2                  Entre Dos Aguas   \n",
      "3            Under Cold Blue Stars   \n",
      "4  Riot Radio (Soundtrack Version)   \n",
      "\n",
      "                                             release    artist_name  \\\n",
      "0                                 Thicker Than Water   Jack Johnson   \n",
      "1                                         To Die For  Billy Preston   \n",
      "2                                Flamenco Para Niños  Paco De Lucia   \n",
      "3                              Under Cold Blue Stars     Josh Rouse   \n",
      "4  Nick & Norah's Infinite Playlist - Original Mo...   The Dead 60s   \n",
      "\n",
      "   artist_familiarity  artist_hotttnesss  \n",
      "0            0.832012           0.677482  \n",
      "1            0.580555           0.482492  \n",
      "2            0.633119           0.417718  \n",
      "3            0.675339           0.509058  \n",
      "4            0.650281           0.451749  \n"
     ]
    }
   ],
   "source": [
    "print(user_song_data.head(5))"
   ]
  },
  {
   "cell_type": "code",
   "execution_count": 19,
   "id": "1530d86e",
   "metadata": {},
   "outputs": [],
   "source": [
    "def calc_song_score(play_data):\n",
    "    \"\"\"\n",
    "    计算当前用户歌单中的歌曲得分\n",
    "    \"\"\"\n",
    "    return play_data.groupby(by=[\"user_id\", \"song_id\"])[\"play_count\"].sum() / play_data[\"user_id\"].sum()"
   ]
  },
  {
   "cell_type": "code",
   "execution_count": null,
   "id": "a80dbe63",
   "metadata": {},
   "outputs": [],
   "source": [
    "score_data = calc_song_score(play_data)"
   ]
  },
  {
   "cell_type": "code",
   "execution_count": null,
   "id": "8344b6d0",
   "metadata": {},
   "outputs": [],
   "source": [
    "print(score_data.head(5))"
   ]
  }
 ],
 "metadata": {
  "kernelspec": {
   "display_name": "conda_3.12",
   "language": "python",
   "name": "python3"
  },
  "language_info": {
   "codemirror_mode": {
    "name": "ipython",
    "version": 3
   },
   "file_extension": ".py",
   "mimetype": "text/x-python",
   "name": "python",
   "nbconvert_exporter": "python",
   "pygments_lexer": "ipython3",
   "version": "3.12.9"
  }
 },
 "nbformat": 4,
 "nbformat_minor": 5
}
