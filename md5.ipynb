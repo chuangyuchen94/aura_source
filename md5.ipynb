{
 "cells": [
  {
   "cell_type": "code",
   "execution_count": 1,
   "id": "be9c4c08-8fd7-4caa-8d6b-6e48d424fd6c",
   "metadata": {},
   "outputs": [],
   "source": [
    "import hashlib"
   ]
  },
  {
   "cell_type": "code",
   "execution_count": 2,
   "id": "554cd405-746e-438c-941f-ddcdf6381ec7",
   "metadata": {},
   "outputs": [],
   "source": [
    "md5_set = set()"
   ]
  },
  {
   "cell_type": "code",
   "execution_count": null,
   "id": "e3d420a8-3558-42b3-a8ef-1be1dbcbd8cc",
   "metadata": {},
   "outputs": [],
   "source": [
    "md5_set"
   ]
  }
 ],
 "metadata": {
  "kernelspec": {
   "display_name": "Python 3 (ipykernel)",
   "language": "python",
   "name": "python3"
  },
  "language_info": {
   "codemirror_mode": {
    "name": "ipython",
    "version": 3
   },
   "file_extension": ".py",
   "mimetype": "text/x-python",
   "name": "python",
   "nbconvert_exporter": "python",
   "pygments_lexer": "ipython3",
   "version": "3.12.7"
  }
 },
 "nbformat": 4,
 "nbformat_minor": 5
}
